{
 "cells": [
  {
   "cell_type": "code",
   "execution_count": null,
   "metadata": {},
   "outputs": [],
   "source": [
    "# learning how to use gymnasium\n",
    "import gymnasium as gym\n",
    "\n",
    "# building an agent. I am following the tutorial, but I don't really know what is Q-learning\n",
    "class PoleAgent:\n",
    "    def __init__(\n",
    "            self,\n",
    "            env\n",
    "    )\n"
   ]
  },
  {
   "cell_type": "code",
   "execution_count": null,
   "metadata": {},
   "outputs": [],
   "source": [
    "\n",
    "\n",
    "# Initialise the environment\n",
    "env = gym.make('CartPole-v1', render_mode = 'human')\n",
    "\n",
    "# just after initializing the environment we reset it to get the first observation of it\n",
    "env.reset()\n",
    "\n",
    "episodes = 100\n",
    "\n",
    "for _ in range(episodes):\n",
    "    # there are two spaces, the action space and the observation space\n",
    "    # take a random sample action from the sample space\n",
    "    action = env.action_space.sample()\n",
    "    # then apply that action to the current state of the environment\n",
    "    env.step(action)\n",
    "\n",
    "env.close()\n"
   ]
  },
  {
   "cell_type": "code",
   "execution_count": null,
   "metadata": {},
   "outputs": [],
   "source": []
  }
 ],
 "metadata": {
  "kernelspec": {
   "display_name": "Python 3",
   "language": "python",
   "name": "python3"
  },
  "language_info": {
   "codemirror_mode": {
    "name": "ipython",
    "version": 3
   },
   "file_extension": ".py",
   "mimetype": "text/x-python",
   "name": "python",
   "nbconvert_exporter": "python",
   "pygments_lexer": "ipython3",
   "version": "3.10.12"
  }
 },
 "nbformat": 4,
 "nbformat_minor": 2
}
