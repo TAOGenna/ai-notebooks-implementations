{
 "cells": [
  {
   "cell_type": "code",
   "execution_count": 67,
   "metadata": {},
   "outputs": [],
   "source": [
    "# !wget https://raw.githubusercontent.com/karpathy/char-rnn/master/data/tinyshakespeare/input.txt"
   ]
  },
  {
   "cell_type": "markdown",
   "metadata": {},
   "source": [
    "# Goal: reproduce nanoGPT tuto from Karpathy\n",
    "**plan:**\n",
    "- first implement a word embedder\n",
    "    - [x] I already got the data(Shakespeare books)\n",
    "    - [x] read that data\n",
    "    - [ ] tokenize the data\n",
    "    - [ ] create an embedder layer \n",
    "    - [ ] generator: generate new text: how do I recover a letter based on the output of my network? \n",
    "\n",
    "- modify the code to support an attention mechanism\n"
   ]
  },
  {
   "cell_type": "code",
   "execution_count": 68,
   "metadata": {},
   "outputs": [
    {
     "name": "stdout",
     "output_type": "stream",
     "text": [
      "First Citizen:\n",
      "Before we proceed any further, hear me speak.\n",
      "\n",
      "All:\n",
      "Speak, speak.\n",
      "\n",
      "First Citizen:\n",
      "You are all resolved rather to die than to famish?\n",
      "\n",
      "All:\n",
      "Resolved. resolved.\n",
      "\n",
      "First Citizen:\n",
      "First, you know Caius Marcius is chief enemy to the people.\n",
      "\n",
      "All:\n",
      "We know't, we know't.\n",
      "\n",
      "First Citizen:\n",
      "Let us kill him, and we'll have corn at our own price.\n",
      "Is't a verdict?\n",
      "\n",
      "All:\n",
      "No more talking on't; let it be done: away, away!\n",
      "\n",
      "Second Citizen:\n",
      "One word, good citizens.\n",
      "\n",
      "First Citizen:\n",
      "We are accounted poor citizens, the patricians good.\n",
      "What authority surfeits on would relieve us: if they\n",
      "would yield us but the superfluity, while it were\n",
      "wholesome, we might guess they relieved us humanely;\n",
      "but they think we are too dear: the leanness that\n",
      "afflicts us, the object of our misery, is as an\n",
      "inventory to particularise their abundance; our\n",
      "sufferance is a gain to them Let us revenge this with\n",
      "our pikes, ere we become rakes: for the gods know I\n",
      "speak this in hunger for bread, not in thirst for revenge.\n",
      "\n",
      "\n"
     ]
    }
   ],
   "source": [
    "import random \n",
    "\n",
    "# printing first 1000 characters of input.txt\n",
    "with open(\"input.txt\", 'r') as file:\n",
    "    text = file.read()\n",
    "    print(text[:1000])"
   ]
  },
  {
   "cell_type": "code",
   "execution_count": 69,
   "metadata": {},
   "outputs": [
    {
     "name": "stdout",
     "output_type": "stream",
     "text": [
      "\n",
      " !$&',-.3:;?ABCDEFGHIJKLMNOPQRSTUVWXYZabcdefghijklmnopqrstuvwxyz\n",
      "65\n"
     ]
    }
   ],
   "source": [
    "# since the idea is to create a character prediction program I guess we should tokenize the characters, not words \n",
    "\n",
    "# grab all the different characters in our text\n",
    "# from karpathy: - sorted - print by joining - vocab_size (should be useful later) \n",
    "characters = sorted(list(set(text)))\n",
    "vocab_size = len(characters)\n",
    "print(''.join(characters))\n",
    "print(vocab_size)"
   ]
  },
  {
   "cell_type": "code",
   "execution_count": 70,
   "metadata": {},
   "outputs": [
    {
     "name": "stdout",
     "output_type": "stream",
     "text": [
      "{'\\n': 0, ' ': 1, '!': 2, '$': 3, '&': 4, \"'\": 5, ',': 6, '-': 7, '.': 8, '3': 9, ':': 10, ';': 11, '?': 12, 'A': 13, 'B': 14, 'C': 15, 'D': 16, 'E': 17, 'F': 18, 'G': 19, 'H': 20, 'I': 21, 'J': 22, 'K': 23, 'L': 24, 'M': 25, 'N': 26, 'O': 27, 'P': 28, 'Q': 29, 'R': 30, 'S': 31, 'T': 32, 'U': 33, 'V': 34, 'W': 35, 'X': 36, 'Y': 37, 'Z': 38, 'a': 39, 'b': 40, 'c': 41, 'd': 42, 'e': 43, 'f': 44, 'g': 45, 'h': 46, 'i': 47, 'j': 48, 'k': 49, 'l': 50, 'm': 51, 'n': 52, 'o': 53, 'p': 54, 'q': 55, 'r': 56, 's': 57, 't': 58, 'u': 59, 'v': 60, 'w': 61, 'x': 62, 'y': 63, 'z': 64}\n",
      "[46, 43, 50, 50, 3, 3, 53, 1, 39, 57, 42, 1, 57]\n",
      "hell$$o asd s\n"
     ]
    }
   ],
   "source": [
    "# I guess this map can account for an embedder \n",
    "# from karpathy: -encode -decode, I was doing it for a single character or integer, it should be for a list of such. plus, for the decoder we should output a string, not a list of characters\n",
    "stoi = {elem:i for i,elem in enumerate(characters)} # stoi: string to index \n",
    "itos = {i:elem for i,elem in enumerate(characters)} # \n",
    "encode = lambda element: [stoi[elem] for elem in element]\n",
    "decode = lambda element: ''.join([itos[elem] for elem in element])\n",
    "print(stoi)\n",
    "print(encode('hell$$o asd s'))\n",
    "print(decode(encode('hell$$o asd s')))"
   ]
  },
  {
   "cell_type": "markdown",
   "metadata": {},
   "source": [
    "So Andrej goes on to say that this is heavily based on Bigram.\n",
    "What is Bigram? "
   ]
  },
  {
   "cell_type": "code",
   "execution_count": 71,
   "metadata": {},
   "outputs": [
    {
     "name": "stdout",
     "output_type": "stream",
     "text": [
      "torch.Size([1115394])\n",
      "tensor([18, 47, 56, 57, 58,  1, 15, 47, 58, 47, 64, 43, 52, 10,  0, 14, 43, 44,\n",
      "        53, 56, 43,  1, 61, 43,  1, 54, 56, 53, 41, 43, 43, 42,  1, 39, 52, 63,\n",
      "         1, 44, 59, 56, 58, 46, 43, 56,  6,  1, 46, 43, 39, 56,  1, 51, 43,  1,\n",
      "        57, 54, 43, 39, 49,  8,  0,  0, 13, 50, 50, 10,  0, 31, 54, 43, 39, 49,\n",
      "         6,  1, 57, 54, 43, 39, 49,  8,  0,  0, 18, 47, 56, 57, 58,  1, 15, 47,\n",
      "        58, 47, 64, 43, 52, 10,  0, 37, 53, 59,  1, 39, 56, 43,  1, 39, 50, 50,\n",
      "         1, 56, 43, 57, 53, 50, 60, 43, 42,  1, 56, 39, 58, 46, 43, 56,  1, 58,\n",
      "        53,  1, 42, 47, 43,  1, 58, 46, 39, 52,  1, 58, 53,  1, 44, 39, 51, 47,\n",
      "        57, 46, 12,  0,  0, 13, 50, 50, 10,  0, 30, 43, 57, 53, 50, 60, 43, 42,\n",
      "         8,  1, 56, 43, 57, 53, 50, 60, 43, 42,  8,  0,  0, 18, 47, 56, 57, 58,\n",
      "         1, 15, 47, 58, 47, 64, 43, 52, 10,  0, 18, 47, 56, 57, 58,  6,  1, 63,\n",
      "        53, 59,  1, 49, 52, 53, 61,  1, 15, 39, 47, 59, 57,  1, 25, 39, 56, 41,\n",
      "        47, 59, 57,  1, 47, 57,  1, 41, 46, 47, 43, 44,  1, 43, 52, 43, 51, 63,\n",
      "         1, 58, 53,  1, 58, 46, 43,  1, 54, 43, 53, 54, 50, 43,  8,  0,  0, 13,\n",
      "        50, 50, 10,  0, 35, 43,  1, 49, 52, 53, 61,  5, 58,  6,  1, 61, 43,  1,\n",
      "        49, 52, 53, 61,  5, 58,  8,  0,  0, 18, 47, 56, 57, 58,  1, 15, 47, 58,\n",
      "        47, 64, 43, 52, 10,  0, 24, 43, 58,  1, 59, 57,  1, 49, 47, 50, 50,  1,\n",
      "        46, 47, 51,  6,  1, 39, 52, 42,  1, 61, 43,  5, 50, 50,  1, 46, 39, 60,\n",
      "        43,  1, 41, 53, 56, 52,  1, 39, 58,  1, 53, 59, 56,  1, 53, 61, 52,  1,\n",
      "        54, 56, 47, 41, 43,  8,  0, 21, 57,  5, 58,  1, 39,  1, 60, 43, 56, 42,\n",
      "        47, 41, 58, 12,  0,  0, 13, 50, 50, 10,  0, 26, 53,  1, 51, 53, 56, 43,\n",
      "         1, 58, 39, 50, 49, 47, 52, 45,  1, 53, 52,  5, 58, 11,  1, 50, 43, 58,\n",
      "         1, 47, 58,  1, 40, 43,  1, 42, 53, 52, 43, 10,  1, 39, 61, 39, 63,  6,\n",
      "         1, 39, 61, 39, 63,  2,  0,  0, 31, 43, 41, 53, 52, 42,  1, 15, 47, 58,\n",
      "        47, 64, 43, 52, 10,  0, 27, 52, 43,  1, 61, 53, 56, 42,  6,  1, 45, 53,\n",
      "        53, 42,  1, 41, 47, 58, 47, 64, 43, 52, 57,  8,  0,  0, 18, 47, 56, 57,\n",
      "        58,  1, 15, 47, 58, 47, 64, 43, 52, 10,  0, 35, 43,  1, 39, 56, 43,  1,\n",
      "        39, 41, 41, 53, 59, 52, 58, 43, 42,  1, 54, 53, 53, 56,  1, 41, 47, 58,\n",
      "        47, 64, 43, 52, 57,  6,  1, 58, 46, 43,  1, 54, 39, 58, 56, 47, 41, 47,\n",
      "        39, 52, 57,  1, 45, 53, 53, 42,  8,  0, 35, 46, 39, 58,  1, 39, 59, 58,\n",
      "        46, 53, 56, 47, 58, 63,  1, 57, 59, 56, 44, 43, 47, 58, 57,  1, 53, 52,\n",
      "         1, 61, 53, 59, 50, 42,  1, 56, 43, 50, 47, 43, 60, 43,  1, 59, 57, 10,\n",
      "         1, 47, 44,  1, 58, 46, 43, 63,  0, 61, 53, 59, 50, 42,  1, 63, 47, 43,\n",
      "        50, 42,  1, 59, 57,  1, 40, 59, 58,  1, 58, 46, 43,  1, 57, 59, 54, 43,\n",
      "        56, 44, 50, 59, 47, 58, 63,  6,  1, 61, 46, 47, 50, 43,  1, 47, 58,  1,\n",
      "        61, 43, 56, 43,  0, 61, 46, 53, 50, 43, 57, 53, 51, 43,  6,  1, 61, 43,\n",
      "         1, 51, 47, 45, 46, 58,  1, 45, 59, 43, 57, 57,  1, 58, 46, 43, 63,  1,\n",
      "        56, 43, 50, 47, 43, 60, 43, 42,  1, 59, 57,  1, 46, 59, 51, 39, 52, 43,\n",
      "        50, 63, 11,  0, 40, 59, 58,  1, 58, 46, 43, 63,  1, 58, 46, 47, 52, 49,\n",
      "         1, 61, 43,  1, 39, 56, 43,  1, 58, 53, 53,  1, 42, 43, 39, 56, 10,  1,\n",
      "        58, 46, 43,  1, 50, 43, 39, 52, 52, 43, 57, 57,  1, 58, 46, 39, 58,  0,\n",
      "        39, 44, 44, 50, 47, 41, 58, 57,  1, 59, 57,  6,  1, 58, 46, 43,  1, 53,\n",
      "        40, 48, 43, 41, 58,  1, 53, 44,  1, 53, 59, 56,  1, 51, 47, 57, 43, 56,\n",
      "        63,  6,  1, 47, 57,  1, 39, 57,  1, 39, 52,  0, 47, 52, 60, 43, 52, 58,\n",
      "        53, 56, 63,  1, 58, 53,  1, 54, 39, 56, 58, 47, 41, 59, 50, 39, 56, 47,\n",
      "        57, 43,  1, 58, 46, 43, 47, 56,  1, 39, 40, 59, 52, 42, 39, 52, 41, 43,\n",
      "        11,  1, 53, 59, 56,  0, 57, 59, 44, 44, 43, 56, 39, 52, 41, 43,  1, 47,\n",
      "        57,  1, 39,  1, 45, 39, 47, 52,  1, 58, 53,  1, 58, 46, 43, 51,  1, 24,\n",
      "        43, 58,  1, 59, 57,  1, 56, 43, 60, 43, 52, 45, 43,  1, 58, 46, 47, 57,\n",
      "         1, 61, 47, 58, 46,  0, 53, 59, 56,  1, 54, 47, 49, 43, 57,  6,  1, 43,\n",
      "        56, 43,  1, 61, 43,  1, 40, 43, 41, 53, 51, 43,  1, 56, 39, 49, 43, 57,\n",
      "        10,  1, 44, 53, 56,  1, 58, 46, 43,  1, 45, 53, 42, 57,  1, 49, 52, 53,\n",
      "        61,  1, 21,  0, 57, 54, 43, 39, 49,  1, 58, 46, 47, 57,  1, 47, 52,  1,\n",
      "        46, 59, 52, 45, 43, 56,  1, 44, 53, 56,  1, 40, 56, 43, 39, 42,  6,  1,\n",
      "        52, 53, 58,  1, 47, 52,  1, 58, 46, 47, 56, 57, 58,  1, 44, 53, 56,  1,\n",
      "        56, 43, 60, 43, 52, 45, 43,  8,  0,  0])\n"
     ]
    }
   ],
   "source": [
    "# - work with batches\n",
    "# - work with blocks \n",
    "import torch\n",
    "\n",
    "data = torch.tensor(encode(text))\n",
    "print(data.shape)\n",
    "print(data[:1000])\n"
   ]
  },
  {
   "cell_type": "code",
   "execution_count": 72,
   "metadata": {},
   "outputs": [
    {
     "name": "stdout",
     "output_type": "stream",
     "text": [
      "torch.Size([1003854])\n",
      "torch.Size([111540])\n"
     ]
    }
   ],
   "source": [
    "# then we split our data: 90% for train and 10% for validation \n",
    "\n",
    "n = int(len(data)*0.9) # \n",
    "train_data = data[:n]\n",
    "val_data = data[n:]\n",
    "print(train_data.shape)\n",
    "print(val_data.shape)\n"
   ]
  },
  {
   "cell_type": "code",
   "execution_count": 73,
   "metadata": {},
   "outputs": [
    {
     "name": "stdout",
     "output_type": "stream",
     "text": [
      "input:\n",
      "torch.Size([4, 8])\n",
      "tensor([[52, 43, 47, 45, 46, 40, 53, 59],\n",
      "        [39, 58,  1, 58, 46, 43,  1, 58],\n",
      "        [61,  1, 47, 52,  1, 51, 63,  1],\n",
      "        [ 1, 43, 51, 40, 56, 39, 41, 43]])\n",
      "target\n",
      "torch.Size([4, 8])\n",
      "tensor([[43, 47, 45, 46, 40, 53, 59, 56],\n",
      "        [58,  1, 58, 46, 43,  1, 58, 47],\n",
      "        [ 1, 47, 52,  1, 51, 63,  1, 40],\n",
      "        [43, 51, 40, 56, 39, 41, 43, 51]])\n",
      "----\n",
      "when input is tensor([52]) the target is: 43\n",
      "when input is tensor([52, 43]) the target is: 47\n",
      "when input is tensor([52, 43, 47]) the target is: 45\n",
      "when input is tensor([52, 43, 47, 45]) the target is: 46\n",
      "when input is tensor([52, 43, 47, 45, 46]) the target is: 40\n",
      "when input is tensor([52, 43, 47, 45, 46, 40]) the target is: 53\n",
      "when input is tensor([52, 43, 47, 45, 46, 40, 53]) the target is: 59\n",
      "when input is tensor([52, 43, 47, 45, 46, 40, 53, 59]) the target is: 56\n",
      "when input is tensor([39]) the target is: 58\n",
      "when input is tensor([39, 58]) the target is: 1\n",
      "when input is tensor([39, 58,  1]) the target is: 58\n",
      "when input is tensor([39, 58,  1, 58]) the target is: 46\n",
      "when input is tensor([39, 58,  1, 58, 46]) the target is: 43\n",
      "when input is tensor([39, 58,  1, 58, 46, 43]) the target is: 1\n",
      "when input is tensor([39, 58,  1, 58, 46, 43,  1]) the target is: 58\n",
      "when input is tensor([39, 58,  1, 58, 46, 43,  1, 58]) the target is: 47\n",
      "when input is tensor([61]) the target is: 1\n",
      "when input is tensor([61,  1]) the target is: 47\n",
      "when input is tensor([61,  1, 47]) the target is: 52\n",
      "when input is tensor([61,  1, 47, 52]) the target is: 1\n",
      "when input is tensor([61,  1, 47, 52,  1]) the target is: 51\n",
      "when input is tensor([61,  1, 47, 52,  1, 51]) the target is: 63\n",
      "when input is tensor([61,  1, 47, 52,  1, 51, 63]) the target is: 1\n",
      "when input is tensor([61,  1, 47, 52,  1, 51, 63,  1]) the target is: 40\n",
      "when input is tensor([1]) the target is: 43\n",
      "when input is tensor([ 1, 43]) the target is: 51\n",
      "when input is tensor([ 1, 43, 51]) the target is: 40\n",
      "when input is tensor([ 1, 43, 51, 40]) the target is: 56\n",
      "when input is tensor([ 1, 43, 51, 40, 56]) the target is: 39\n",
      "when input is tensor([ 1, 43, 51, 40, 56, 39]) the target is: 41\n",
      "when input is tensor([ 1, 43, 51, 40, 56, 39, 41]) the target is: 43\n",
      "when input is tensor([ 1, 43, 51, 40, 56, 39, 41, 43]) the target is: 51\n"
     ]
    }
   ],
   "source": [
    "# we have to partition our data\n",
    "# and work in batches\n",
    "# meaning we will have a collection of `batch_size` random numbers (i.e positions in the text array) and for each of these positions we will\n",
    "# get a `block`\n",
    "\n",
    "block_size = 8\n",
    "batch_size = 4\n",
    "\n",
    "def get_batch(stage):\n",
    "    data = train_data if stage=='train' else val_data \n",
    "    positions = torch.randint(len(data)-block_size,(batch_size,))\n",
    "    x = [data[pos:pos+block_size] for pos in positions]\n",
    "    y = [data[pos+1:pos+block_size+1] for pos in positions]\n",
    "    # now we need to stack everything\n",
    "    x = torch.stack(x)\n",
    "    y = torch.stack(y)\n",
    "    return x,y\n",
    "\n",
    "\n",
    "x = train_data[:block_size]\n",
    "y = train_data[1:block_size+1]\n",
    "\n",
    "\n",
    "# for i in range(block_size):\n",
    "#     foo = x[:i+1]\n",
    "#     target = y[i]\n",
    "#     print(f'for the context{foo} be have the target {target}')\n",
    "\n",
    "xb, yb = get_batch('train')\n",
    "\n",
    "print('input:')\n",
    "print(xb.shape)\n",
    "print(xb)\n",
    "\n",
    "print('target')\n",
    "print(yb.shape)\n",
    "print(yb)\n",
    "\n",
    "print('----')\n",
    "\n",
    "\n",
    "for i in range(batch_size):\n",
    "    for j in range(block_size):\n",
    "        print(f'when input is {xb[i][:j+1]} the target is: {yb[i][j]}')\n",
    "\n",
    "\n"
   ]
  },
  {
   "cell_type": "code",
   "execution_count": 104,
   "metadata": {},
   "outputs": [
    {
     "name": "stdout",
     "output_type": "stream",
     "text": [
      "torch.Size([256, 65])\n",
      "tensor(4.6927, grad_fn=<NllLossBackward0>)\n",
      "\n",
      "Sr?qP-QWktXoL&jLDJgOLVz'RIoDqHdhsV&vLLxatjscMpwLERSPyao.qfzs$Ys$zF-w,;eEkzxjgCKFChs!iWW.ObzDnxA Ms$3!dcbf?pGXepydZJSrF$Jrqt!:wwWSzPNxbjPiD&Q!a;yNt$Kr$o-gC$WSjJqfBKBySKtSKpwNNfyl&w:q-jluBatD$Lj;?yzyUca!UQ!vrpxZQgC-hlkq,ptKqHoiX-jjeLJ &slERj KUsBOL!mpJO!zLg'wNfqHAMgq'hZCWhu.W.IBcP \n",
      "RFJ&DEs,nw?pxE?xjNHHVxJ&D&vWWToiERJFuszPyZaNw$\n",
      "EQJMgzaveDDIoiMl&sMHkzdRptRCPVjwW.RSVMjs-bgRkzrBTEa!!oP fRSxq.PLboTMkX'DUYepxIBFAYuxKXe.jeh\n",
      "sa!3MGFrSjuM:wX!?BTMl!.?,M:bQzPHpYfN!Cbo'MmtDxBkDD3SBjyFdmY'DOqkWeRjlxyJB-bVbfd&\n"
     ]
    }
   ],
   "source": [
    "# now that I have my data and targets, we should be able to define an architecture to process them\n",
    "import torch\n",
    "import torch.nn as nn \n",
    "from torch.nn import functional as F\n",
    "torch.manual_seed(1337)\n",
    "\n",
    "# ----- hyperparameters -----------\n",
    "batch_size = 32\n",
    "block_size = 8\n",
    "max_iters = 3000\n",
    "eval_interval = 300 \n",
    "learning_rate = 1e-2\n",
    "device = 'cuda' if torch.cuda.is_available() else 'cpu'\n",
    "eval_iters = 200 \n",
    "n_embd = 32\n",
    "# ---------------------------------\n",
    "\n",
    "class BigramLanguageModel(nn.Module):\n",
    "\n",
    "    def __init__(self):\n",
    "        super().__init__()\n",
    "        # this matrix serves as a lookup table\n",
    "        self.token_embedding_table = nn.Embedding(vocab_size, n_embd)\n",
    "        # ATTENTION: we now create a level of interaction\n",
    "        self.lm_head = nn.Linear(n_embd, vocab_size)\n",
    "\n",
    "    def forward(self, idx, targets=None):\n",
    "\n",
    "        # idx: batch of blocks\n",
    "        # for each entry of `stoi = idx[][]`, we will retrieve the stio-th row of self.token_embedding_table\n",
    "        tok_emb = self.token_embedding_table(idx) # (B,T,C) = (B = batch_size, time = block_size, channels = vocal_size)\n",
    "        # targets dimension = (B, T, C) as well\n",
    "        logits = self.lm_head(tok_emb) # (B,T, vocab_size)\n",
    "\n",
    "\n",
    "        if targets is None:\n",
    "            loss = None\n",
    "        else: \n",
    "            # mine: loss = F.cross_entropy(logits.view(logits.shape[0],logits.shape[2],logits.shape[1]),targets)\n",
    "            # karpathy: \n",
    "            B,T,C = logits.shape\n",
    "            logits  = logits.view(B*T,C)\n",
    "            targets = targets.view(-1)  \n",
    "            loss = F.cross_entropy(logits,targets)\n",
    "\n",
    "        return logits, loss\n",
    "    \n",
    "    # if I call self(idx) then the `forward` function will be applied to `idx`    \n",
    "    def generate(self, idx, max_new_tokens):\n",
    "        \n",
    "        for i in range(max_new_tokens):            \n",
    "            logits,loss = self(idx)\n",
    "            logits = logits[:,-1,:]\n",
    "            probs = F.softmax(logits,dim=1)\n",
    "            idx_next = torch.multinomial(probs,num_samples=1)\n",
    "            idx = torch.cat((idx,idx_next),dim=1)\n",
    "\n",
    "        return idx\n",
    "\n",
    "m = BigramLanguageModel()\n",
    "logits, loss  = m(xb,yb)\n",
    "print(logits.shape)\n",
    "print(loss)\n",
    "print(decode(m.generate(idx= torch.zeros((1,1),dtype=torch.long), max_new_tokens=500)[0].tolist()))\n",
    "\n"
   ]
  },
  {
   "cell_type": "code",
   "execution_count": 75,
   "metadata": {},
   "outputs": [],
   "source": [
    "# learned a new word in english: pluck out \n",
    "\n",
    "optimizer = torch.optim.AdamW(m.parameters(), lr=1e-3)\n"
   ]
  },
  {
   "cell_type": "code",
   "execution_count": 76,
   "metadata": {},
   "outputs": [
    {
     "name": "stdout",
     "output_type": "stream",
     "text": [
      "4.156820774078369\n"
     ]
    }
   ],
   "source": [
    "batch_size = 32\n",
    "for steps in range(500):\n",
    "    xb, yb = get_batch('train')\n",
    "\n",
    "    # evaluate \n",
    "    logits, loss = m(xb,yb)\n",
    "    optimizer.zero_grad(set_to_none=True)\n",
    "    loss.backward()\n",
    "    optimizer.step()\n",
    "\n",
    "print(loss.item())\n"
   ]
  },
  {
   "cell_type": "code",
   "execution_count": 77,
   "metadata": {},
   "outputs": [
    {
     "name": "stdout",
     "output_type": "stream",
     "text": [
      "\n",
      "GXzzWChe awNulI3CjysuzbCKuy,$p$zCHocLEbQB-ULTXlfNfMGMgOkzmytiZYhiwf OOgU-R;Adow?YdffivOKh:C:CbfSFixQGqSU?q-KH:ChKHAUzd$su-MyiA'Stxju\n",
      "l,OMmRSAUAAHJukSP CeVPEN:CEaog\n",
      "lgCe\n",
      "ju-IowOymnQ!z'!oiAL;AcKRF.?cgXQNmawNX&HUN$..szv'huwajJh CjuQ?wpMly;$s,i-!UBco!BShiTIsuhzLkSP?,BLfl!.?oUzXL&y:Q'rgOTHZSYfjJVTXEoGs\n",
      "YDU'a!mObjx?Y-INNWlt'hs!BBDAcS.\n",
      "Osr,H-tKfXrUzX3daD YQL Wczc\n",
      "GzkHoiGTaP :3.?Er'QbfT:Aen;IUxqep;ly'qKzrsXE!paNQz:iy:CvUA'zolve:C -\n",
      "OKvLYCj;P nAyFM :Ts!uDnEa'brDU, -taHxrepJXaKiiBTR?YhOrd3fxB&yiM\n",
      "D3y\n",
      "iBuJ\n"
     ]
    }
   ],
   "source": [
    "print(decode(m.generate(idx= torch.zeros((1,1),dtype=torch.long), max_new_tokens=500)[0].tolist()))"
   ]
  },
  {
   "cell_type": "markdown",
   "metadata": {},
   "source": [
    "# the mathematical trick "
   ]
  },
  {
   "cell_type": "code",
   "execution_count": 78,
   "metadata": {},
   "outputs": [
    {
     "data": {
      "text/plain": [
       "torch.Size([4, 8, 2])"
      ]
     },
     "execution_count": 78,
     "metadata": {},
     "output_type": "execute_result"
    }
   ],
   "source": [
    "# define the toy model \n",
    "\n",
    "torch.manual_seed(1337)\n",
    "B,T,C = 4,8,2 # batch, time, channels\n",
    "x = torch.randn(B,T,C)\n",
    "x.shape"
   ]
  },
  {
   "cell_type": "code",
   "execution_count": 98,
   "metadata": {},
   "outputs": [],
   "source": [
    "# we want x[b,t]=mean_{t'<=t} x[b,t']\n",
    "\n",
    "xbow = torch.zeros((B,T,C))\n",
    "for b in range(B):\n",
    "    for t in range(T):\n",
    "        xprev = x[b,:t+1] # (t,C)\n",
    "        xbow[b,t] = torch.mean(xprev, 0)"
   ]
  },
  {
   "cell_type": "code",
   "execution_count": 99,
   "metadata": {},
   "outputs": [
    {
     "data": {
      "text/plain": [
       "True"
      ]
     },
     "execution_count": 99,
     "metadata": {},
     "output_type": "execute_result"
    }
   ],
   "source": [
    "wei = torch.tril(torch.ones(T, T))\n",
    "wei = wei / wei.sum(1, keepdim=True)\n",
    "xbow2 = wei @ x # (B, T, T) @ (B, T, C) ----> (B, T, C)\n",
    "# print(xbow2[1])\n",
    "torch.allclose(xbow,xbow2,rtol=1e-3)\n",
    "# [torch.allclose(xbow[i], xbow2[i]) for i in range(B)]"
   ]
  },
  {
   "cell_type": "markdown",
   "metadata": {},
   "source": [
    "the use of `tril` from pytorch"
   ]
  },
  {
   "cell_type": "code",
   "execution_count": 83,
   "metadata": {},
   "outputs": [
    {
     "data": {
      "text/plain": [
       "tensor([[1., 0., 0.],\n",
       "        [1., 1., 0.],\n",
       "        [1., 1., 1.]])"
      ]
     },
     "execution_count": 83,
     "metadata": {},
     "output_type": "execute_result"
    }
   ],
   "source": [
    "torch.tril(torch.ones(3,3))"
   ]
  },
  {
   "cell_type": "code",
   "execution_count": 102,
   "metadata": {},
   "outputs": [
    {
     "data": {
      "text/plain": [
       "True"
      ]
     },
     "execution_count": 102,
     "metadata": {},
     "output_type": "execute_result"
    }
   ],
   "source": [
    "# version using softmax\n",
    "tril = torch.tril(torch.ones(T,T))\n",
    "wei = torch.zeros((T,T))\n",
    "wei = wei.masked_fill(tril == 0, float('-inf'))\n",
    "wei = F.softmax(wei, dim=-1)\n",
    "xbow3 = wei @ x\n",
    "torch.allclose(xbow,xbow3,rtol=1e-3)"
   ]
  },
  {
   "cell_type": "markdown",
   "metadata": {},
   "source": [
    "## some preliminaries"
   ]
  },
  {
   "cell_type": "code",
   "execution_count": null,
   "metadata": {},
   "outputs": [],
   "source": []
  },
  {
   "cell_type": "code",
   "execution_count": null,
   "metadata": {},
   "outputs": [],
   "source": []
  }
 ],
 "metadata": {
  "kernelspec": {
   "display_name": "Python 3",
   "language": "python",
   "name": "python3"
  },
  "language_info": {
   "codemirror_mode": {
    "name": "ipython",
    "version": 3
   },
   "file_extension": ".py",
   "mimetype": "text/x-python",
   "name": "python",
   "nbconvert_exporter": "python",
   "pygments_lexer": "ipython3",
   "version": "3.10.12"
  }
 },
 "nbformat": 4,
 "nbformat_minor": 2
}
