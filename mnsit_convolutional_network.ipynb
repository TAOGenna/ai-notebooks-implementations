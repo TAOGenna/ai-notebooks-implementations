{
 "cells": [
  {
   "cell_type": "markdown",
   "metadata": {},
   "source": [
    "## Convolutional Neural Network - Sign Language"
   ]
  },
  {
   "cell_type": "code",
   "execution_count": 1,
   "metadata": {},
   "outputs": [
    {
     "name": "stdout",
     "output_type": "stream",
     "text": [
      "%pylab is deprecated, use %matplotlib inline and import the required libraries.\n",
      "Populating the interactive namespace from numpy and matplotlib\n"
     ]
    }
   ],
   "source": [
    "%pylab inline\n",
    "import pandas as pd\n",
    "from pylab import *\n",
    "import numpy as np\n",
    "from tqdm import trange"
   ]
  },
  {
   "cell_type": "code",
   "execution_count": 2,
   "metadata": {},
   "outputs": [],
   "source": [
    "df_train = pd.read_csv('training_sets/sign_mnist_train.csv')\n",
    "df_test  = pd.read_csv('test_sets/sign_mnist_test.csv')"
   ]
  },
  {
   "cell_type": "code",
   "execution_count": 3,
   "metadata": {},
   "outputs": [
    {
     "name": "stdout",
     "output_type": "stream",
     "text": [
      "(27455, 1, 28, 28)\n",
      "(27455,)\n"
     ]
    }
   ],
   "source": [
    "#print(df_train.head())\n",
    "# 1st column is label\n",
    "# rest of them are pixels 1-784 = 28*28\n",
    "Y_train = df_train.iloc[:,0].to_numpy()\n",
    "X_train = df_train.iloc[:,1:].to_numpy().reshape((-1,28,28))\n",
    "Y_test  = df_test.iloc[:,0].to_numpy()\n",
    "X_test  = df_test.iloc[:,1:].to_numpy().reshape((-1,28,28))\n",
    "\n",
    "X_train = X_train.reshape((-1, 1, 28, 28))  # Shape [batch_size, channels, height, width]\n",
    "X_test = X_test.reshape((-1, 1, 28, 28))\n",
    "\n",
    "print(X_train.shape)\n",
    "print(Y_train.shape)"
   ]
  },
  {
   "cell_type": "code",
   "execution_count": 4,
   "metadata": {},
   "outputs": [
    {
     "name": "stdout",
     "output_type": "stream",
     "text": [
      "unique number of labels\n",
      "[ 0  1  2  3  4  5  6  7  8 10 11 12 13 14 15 16 17 18 19 20 21 22 23 24]\n"
     ]
    }
   ],
   "source": [
    "# amount of classes \n",
    "print('unique number of labels')\n",
    "num_classes = np.unique(Y_train) \n",
    "print(num_classes)\n"
   ]
  },
  {
   "cell_type": "markdown",
   "metadata": {},
   "source": [
    "## ConvNet\n",
    "Images of size 28x28, single channel\n",
    "\n",
    "this block x3\n",
    "- convnet -> relu\n",
    "- convnet -> relu -> pool\n",
    " \n",
    "at the end a fully connected layer\n"
   ]
  },
  {
   "cell_type": "code",
   "execution_count": 17,
   "metadata": {},
   "outputs": [],
   "source": [
    "import torch \n",
    "import torch.nn as nn\n",
    "from tqdm import trange, tqdm\n",
    "import time\n",
    "\n",
    "class TinyModel(nn.Module):\n",
    "    def __init__(self, num_classes=25):\n",
    "        super(TinyModel, self).__init__()\n",
    "        # block 1\n",
    "        self.cnn1 = nn.Conv2d(in_channels=1, out_channels=8, kernel_size=3)\n",
    "        self.bn1 = nn.BatchNorm2d(8)\n",
    "        self.act1 = nn.ReLU()\n",
    "        self.cnn2 = nn.Conv2d(in_channels=8, out_channels=16, kernel_size=3)\n",
    "        self.bn2 = nn.BatchNorm2d(16)\n",
    "        self.act2 = nn.ReLU()\n",
    "        self.pool1 = nn.MaxPool2d(kernel_size=2, stride=2)\n",
    "        \n",
    "        # block 2\n",
    "        self.cnn3 = nn.Conv2d(in_channels=16, out_channels=32, kernel_size=3)\n",
    "        self.bn3 = nn.BatchNorm2d(32)\n",
    "        self.act3 = nn.ReLU()\n",
    "        self.cnn4 = nn.Conv2d(in_channels=32, out_channels=64, kernel_size=3)\n",
    "        self.bn4 = nn.BatchNorm2d(64)\n",
    "        self.act4 = nn.ReLU()\n",
    "        self.pool2 = nn.MaxPool2d(kernel_size=2, stride=2)\n",
    "        \n",
    "        # fully connected layer\n",
    "        self.fc1 = nn.Linear(64 * 4 * 4, 128)  # adjust based on input size\n",
    "        self.dropout = nn.Dropout(p=0.5)  # Dropout with probability 0.5\n",
    "        self.fc2 = nn.Linear(128, num_classes)\n",
    "   \n",
    "    def forward(self, x):\n",
    "        # Block 1\n",
    "        x = self.cnn1(x)\n",
    "        x = self.bn1(x)\n",
    "        x = self.act1(x)\n",
    "        x = self.cnn2(x)\n",
    "        x = self.bn2(x)\n",
    "        x = self.act2(x)\n",
    "        x = self.pool1(x)  # After pooling, size is reduced\n",
    "\n",
    "        # Block 2\n",
    "        x = self.cnn3(x)\n",
    "        x = self.bn3(x)\n",
    "        x = self.act3(x)\n",
    "        x = self.cnn4(x)\n",
    "        x = self.bn4(x)\n",
    "        x = self.act4(x)\n",
    "        x = self.pool2(x)  # After pooling, size is reduced further\n",
    "\n",
    "        # Flatten the output for the fully connected layers\n",
    "        x = x.view(x.size(0), -1)  # Flatten to (batch_size, 64*4*4)\n",
    "\n",
    "        # Fully connected layers\n",
    "        x = nn.functional.relu(self.fc1(x))\n",
    "        x = self.dropout(x)\n",
    "        x = self.fc2(x)\n",
    "\n",
    "        return x"
   ]
  },
  {
   "cell_type": "code",
   "execution_count": 23,
   "metadata": {},
   "outputs": [
    {
     "name": "stderr",
     "output_type": "stream",
     "text": [
      "Loss: 3.30, accuracy: 0.06:   0%|          | 1/2000 [00:02<1:38:50,  2.97s/it]"
     ]
    },
    {
     "name": "stdout",
     "output_type": "stream",
     "text": [
      "prediction at epoch 0 is 0.047406581148912434\n"
     ]
    },
    {
     "name": "stderr",
     "output_type": "stream",
     "text": [
      "Loss: 0.35, accuracy: 0.91:  20%|█▉        | 399/2000 [00:23<00:48, 32.72it/s]"
     ]
    },
    {
     "name": "stdout",
     "output_type": "stream",
     "text": [
      "prediction at epoch 400 is 0.8127440044617958\n"
     ]
    },
    {
     "name": "stderr",
     "output_type": "stream",
     "text": [
      "Loss: 0.15, accuracy: 0.94:  40%|████      | 804/2000 [00:48<04:19,  4.60it/s]"
     ]
    },
    {
     "name": "stdout",
     "output_type": "stream",
     "text": [
      "prediction at epoch 800 is 0.8793920803123257\n"
     ]
    },
    {
     "name": "stderr",
     "output_type": "stream",
     "text": [
      "Loss: 0.15, accuracy: 0.97:  60%|██████    | 1203/2000 [01:07<03:03,  4.35it/s]"
     ]
    },
    {
     "name": "stdout",
     "output_type": "stream",
     "text": [
      "prediction at epoch 1200 is 0.8866424986056888\n"
     ]
    },
    {
     "name": "stderr",
     "output_type": "stream",
     "text": [
      "Loss: 0.01, accuracy: 1.00:  80%|████████  | 1601/2000 [01:29<01:51,  3.58it/s]"
     ]
    },
    {
     "name": "stdout",
     "output_type": "stream",
     "text": [
      "prediction at epoch 1600 is 0.9113218070273285\n"
     ]
    },
    {
     "name": "stderr",
     "output_type": "stream",
     "text": [
      "Loss: 0.08, accuracy: 1.00: 100%|██████████| 2000/2000 [01:41<00:00, 19.68it/s]\n"
     ]
    },
    {
     "data": {
      "text/plain": [
       "[<matplotlib.lines.Line2D at 0x7fd9adef1d80>]"
      ]
     },
     "execution_count": 23,
     "metadata": {},
     "output_type": "execute_result"
    },
    {
     "data": {
      "image/png": "[encoded data removed]",
      "text/plain": [
       "<Figure size 640x480 with 1 Axes>"
      ]
     },
     "metadata": {},
     "output_type": "display_data"
    }
   ],
   "source": [
    "import matplotlib.pyplot as plt\n",
    "\n",
    "# Training\n",
    "\n",
    "model = TinyModel()\n",
    "\n",
    "# set loss function\n",
    "loss_function = nn.CrossEntropyLoss()\n",
    "\n",
    "# set optimizer\n",
    "optim = torch.optim.Adam(model.parameters(), lr=0.001, weight_decay=1e-4)\n",
    "\n",
    "losses, accuracies = [], []\n",
    "BS = 32\n",
    "\n",
    "# training loop\n",
    "loop_tam = 2000\n",
    "for i in (t := trange(loop_tam)):\n",
    "    # select a batch of size BS\n",
    "    samp = np.random.randint(0,X_train.shape[0], size = (BS))\n",
    "    X = torch.tensor(X_train[samp]).float()  # No need to reshape to 28*28, keep it as 28x28 with channel\n",
    "    Y = torch.tensor(Y_train[samp]).long()\n",
    "    # set all gradient contribution to zero\n",
    "    optim.zero_grad()\n",
    "\n",
    "    # perform forward pass\n",
    "    out = model(X)\n",
    "\n",
    "    # we want to the see the accuracy of the model as we progress with the iterations\n",
    "    cat = torch.argmax(out,dim=1)\n",
    "    accuracy = (cat == Y).float().mean()\n",
    "\n",
    "    loss = loss_function(out, Y)\n",
    "\n",
    "    # performa backward pass\n",
    "    loss.backward()\n",
    "    optim.step()\n",
    "\n",
    "    # output some info\n",
    "    loss, accuracy = loss.item(), accuracy.item()\n",
    "    losses.append(loss)\n",
    "    accuracies.append(accuracy)\n",
    "    t.set_description(f\"Loss: {loss:.2f}, accuracy: {accuracy:.2f}\")\n",
    "\n",
    "    if i%400==0:\n",
    "        # Evaluation\n",
    "        Y_test_pred = torch.argmax(model(torch.tensor(X_test).float()), dim=1).numpy()\n",
    "        inter_pred = (Y_test == Y_test_pred).mean()\n",
    "        print(f'prediction at epoch {i} is {inter_pred}')\n",
    "        \n",
    "\n",
    "plt.ylim(-1,2)\n",
    "plot(losses)\n",
    "plot(accuracies, alpha = 0.5)\n"
   ]
  },
  {
   "cell_type": "code",
   "execution_count": 24,
   "metadata": {},
   "outputs": [
    {
     "data": {
      "text/plain": [
       "0.9122978248745119"
      ]
     },
     "execution_count": 24,
     "metadata": {},
     "output_type": "execute_result"
    }
   ],
   "source": [
    "# Evaluation\n",
    "Y_test_pred = torch.argmax(model(torch.tensor(X_test).float()), dim=1).numpy()\n",
    "(Y_test == Y_test_pred).mean()"
   ]
  },
  {
   "cell_type": "code",
   "execution_count": null,
   "metadata": {},
   "outputs": [],
   "source": []
  }
 ],
 "metadata": {
  "kernelspec": {
   "display_name": "Python 3",
   "language": "python",
   "name": "python3"
  },
  "language_info": {
   "codemirror_mode": {
    "name": "ipython",
    "version": 3
   },
   "file_extension": ".py",
   "mimetype": "text/x-python",
   "name": "python",
   "nbconvert_exporter": "python",
   "pygments_lexer": "ipython3",
   "version": "3.10.12"
  }
 },
 "nbformat": 4,
 "nbformat_minor": 2
}
