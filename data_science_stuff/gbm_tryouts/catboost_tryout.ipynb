{
 "cells": [
  {
   "cell_type": "markdown",
   "id": "5cfe40c8",
   "metadata": {},
   "source": []
  },
  {
   "cell_type": "markdown",
   "id": "cc912b06",
   "metadata": {},
   "source": [
    "# 🧪 PySpark Titanic Practice Levels\n",
    "\n",
    "## ✅ Level 1: Schema & Types\n",
    "**Goal:** Understand and clean the schema.\n",
    "- Identify which columns should be numeric and which should remain strings.\n",
    "- Convert columns to appropriate data types.\n",
    "- Count and inspect rows with null or malformed values.\n",
    "\n",
    "\n"
   ]
  },
  {
   "cell_type": "code",
   "execution_count": 43,
   "id": "2349768f",
   "metadata": {},
   "outputs": [],
   "source": [
    "from pyspark.sql import SparkSession\n",
    "spark = SparkSession.builder.getOrCreate()"
   ]
  },
  {
   "cell_type": "code",
   "execution_count": 44,
   "id": "acee711d",
   "metadata": {},
   "outputs": [],
   "source": [
    "file = 'titanic.csv'\n",
    "df = spark.read.csv(file, header=True)"
   ]
  },
  {
   "cell_type": "code",
   "execution_count": 45,
   "id": "b6db4054",
   "metadata": {},
   "outputs": [
    {
     "name": "stdout",
     "output_type": "stream",
     "text": [
      "root\n",
      " |-- Survived: string (nullable = true)\n",
      " |-- Pclass: string (nullable = true)\n",
      " |-- Name: string (nullable = true)\n",
      " |-- Sex: string (nullable = true)\n",
      " |-- Age: string (nullable = true)\n",
      " |-- Siblings/Spouses Aboard: string (nullable = true)\n",
      " |-- Parents/Children Aboard: string (nullable = true)\n",
      " |-- Fare: string (nullable = true)\n",
      "\n"
     ]
    }
   ],
   "source": [
    "df.printSchema()"
   ]
  },
  {
   "cell_type": "code",
   "execution_count": 46,
   "id": "3d4b3af0",
   "metadata": {},
   "outputs": [
    {
     "name": "stdout",
     "output_type": "stream",
     "text": [
      "['Survived', 'Pclass', 'Name', 'Sex', 'Age', 'Siblings/Spouses Aboard', 'Parents/Children Aboard', 'Fare', 'tmr']\n"
     ]
    }
   ],
   "source": [
    "# single exercise: add a column full of integer zeros \n",
    "from pyspark.sql.functions import lit,col \n",
    "df = df.withColumn('tmr',lit(0))\n",
    "print(df.columns)"
   ]
  },
  {
   "cell_type": "code",
   "execution_count": 47,
   "id": "dad9850b",
   "metadata": {},
   "outputs": [
    {
     "name": "stdout",
     "output_type": "stream",
     "text": [
      "['Survived', 'Pclass', 'Name', 'Sex', 'Age', 'Siblings/Spouses Aboard', 'Parents/Children Aboard', 'Fare']\n"
     ]
    }
   ],
   "source": [
    "# exercise: drop the column you just created\n",
    "df = df.drop('tmr')\n",
    "print(df.columns)"
   ]
  },
  {
   "cell_type": "code",
   "execution_count": 48,
   "id": "0c8d590f",
   "metadata": {},
   "outputs": [
    {
     "name": "stdout",
     "output_type": "stream",
     "text": [
      "+--------+------+--------------------+------+---+-----------------------+-----------------------+-------+\n",
      "|Survived|Pclass|                Name|   Sex|Age|Siblings/Spouses Aboard|Parents/Children Aboard|   Fare|\n",
      "+--------+------+--------------------+------+---+-----------------------+-----------------------+-------+\n",
      "|       0|     3|Mr. Owen Harris B...|  male| 22|                      1|                      0|   7.25|\n",
      "|       1|     1|Mrs. John Bradley...|female| 38|                      1|                      0|71.2833|\n",
      "|       1|     3|Miss. Laina Heikk...|female| 26|                      0|                      0|  7.925|\n",
      "|       1|     1|Mrs. Jacques Heat...|female| 35|                      1|                      0|   53.1|\n",
      "|       0|     3|Mr. William Henry...|  male| 35|                      0|                      0|   8.05|\n",
      "|       0|     3|     Mr. James Moran|  male| 27|                      0|                      0| 8.4583|\n",
      "|       0|     1|Mr. Timothy J McC...|  male| 54|                      0|                      0|51.8625|\n",
      "|       0|     3|Master. Gosta Leo...|  male|  2|                      3|                      1| 21.075|\n",
      "|       1|     3|Mrs. Oscar W (Eli...|female| 27|                      0|                      2|11.1333|\n",
      "|       1|     2|Mrs. Nicholas (Ad...|female| 14|                      1|                      0|30.0708|\n",
      "|       1|     3|Miss. Marguerite ...|female|  4|                      1|                      1|   16.7|\n",
      "|       1|     1|Miss. Elizabeth B...|female| 58|                      0|                      0|  26.55|\n",
      "|       0|     3|Mr. William Henry...|  male| 20|                      0|                      0|   8.05|\n",
      "|       0|     3|Mr. Anders Johan ...|  male| 39|                      1|                      5| 31.275|\n",
      "|       0|     3|Miss. Hulda Amand...|female| 14|                      0|                      0| 7.8542|\n",
      "|       1|     2|Mrs. (Mary D King...|female| 55|                      0|                      0|     16|\n",
      "|       0|     3| Master. Eugene Rice|  male|  2|                      4|                      1| 29.125|\n",
      "|       1|     2|Mr. Charles Eugen...|  male| 23|                      0|                      0|     13|\n",
      "|       0|     3|Mrs. Julius (Emel...|female| 31|                      1|                      0|     18|\n",
      "|       1|     3|Mrs. Fatima Masse...|female| 22|                      0|                      0|  7.225|\n",
      "+--------+------+--------------------+------+---+-----------------------+-----------------------+-------+\n",
      "only showing top 20 rows\n"
     ]
    }
   ],
   "source": [
    "df.show()"
   ]
  },
  {
   "cell_type": "code",
   "execution_count": 49,
   "id": "1ad5d167",
   "metadata": {},
   "outputs": [
    {
     "name": "stdout",
     "output_type": "stream",
     "text": [
      "+--------+------+--------------------+------+----+-----------------------+-----------------------+-------+\n",
      "|Survived|Pclass|                Name|   Sex| Age|Siblings/Spouses Aboard|Parents/Children Aboard|   Fare|\n",
      "+--------+------+--------------------+------+----+-----------------------+-----------------------+-------+\n",
      "|       0|     3|Mr. Owen Harris B...|  male|22.0|                      1|                      0|   7.25|\n",
      "|       1|     1|Mrs. John Bradley...|female|38.0|                      1|                      0|71.2833|\n",
      "|       1|     3|Miss. Laina Heikk...|female|26.0|                      0|                      0|  7.925|\n",
      "|       1|     1|Mrs. Jacques Heat...|female|35.0|                      1|                      0|   53.1|\n",
      "|       0|     3|Mr. William Henry...|  male|35.0|                      0|                      0|   8.05|\n",
      "|       0|     3|     Mr. James Moran|  male|27.0|                      0|                      0| 8.4583|\n",
      "|       0|     1|Mr. Timothy J McC...|  male|54.0|                      0|                      0|51.8625|\n",
      "|       0|     3|Master. Gosta Leo...|  male| 2.0|                      3|                      1| 21.075|\n",
      "|       1|     3|Mrs. Oscar W (Eli...|female|27.0|                      0|                      2|11.1333|\n",
      "|       1|     2|Mrs. Nicholas (Ad...|female|14.0|                      1|                      0|30.0708|\n",
      "|       1|     3|Miss. Marguerite ...|female| 4.0|                      1|                      1|   16.7|\n",
      "|       1|     1|Miss. Elizabeth B...|female|58.0|                      0|                      0|  26.55|\n",
      "|       0|     3|Mr. William Henry...|  male|20.0|                      0|                      0|   8.05|\n",
      "|       0|     3|Mr. Anders Johan ...|  male|39.0|                      1|                      5| 31.275|\n",
      "|       0|     3|Miss. Hulda Amand...|female|14.0|                      0|                      0| 7.8542|\n",
      "|       1|     2|Mrs. (Mary D King...|female|55.0|                      0|                      0|   16.0|\n",
      "|       0|     3| Master. Eugene Rice|  male| 2.0|                      4|                      1| 29.125|\n",
      "|       1|     2|Mr. Charles Eugen...|  male|23.0|                      0|                      0|   13.0|\n",
      "|       0|     3|Mrs. Julius (Emel...|female|31.0|                      1|                      0|   18.0|\n",
      "|       1|     3|Mrs. Fatima Masse...|female|22.0|                      0|                      0|  7.225|\n",
      "+--------+------+--------------------+------+----+-----------------------+-----------------------+-------+\n",
      "only showing top 20 rows\n"
     ]
    }
   ],
   "source": [
    "df = df.withColumn('Survived', col('Survived').cast('int')).withColumn('Pclass', col('Pclass').cast('int')).withColumn('Age', col('Age').cast('float')).withColumn('Siblings/Spouses Aboard', col('Siblings/Spouses Aboard').cast('int')).withColumn('Parents/Children Aboard', col('Parents/Children Aboard').cast('int')).withColumn('Fare',col('Fare').cast('float'))\n",
    "df.show()\n"
   ]
  },
  {
   "cell_type": "code",
   "execution_count": 50,
   "id": "d846fc22",
   "metadata": {},
   "outputs": [
    {
     "data": {
      "text/plain": [
       "<bound method DataFrame.printSchema of DataFrame[Survived: int, Pclass: int, Name: string, Sex: string, Age: float, Siblings/Spouses Aboard: int, Parents/Children Aboard: int, Fare: float]>"
      ]
     },
     "execution_count": 50,
     "metadata": {},
     "output_type": "execute_result"
    }
   ],
   "source": [
    "df.printSchema"
   ]
  },
  {
   "cell_type": "code",
   "execution_count": 51,
   "id": "d96418a2",
   "metadata": {},
   "outputs": [],
   "source": [
    "# df[df.Sex.isin('male')].show()"
   ]
  },
  {
   "cell_type": "markdown",
   "id": "d80db77f",
   "metadata": {},
   "source": [
    "---\n",
    "\n",
    "## ✅ Level 2: Basic Exploration\n",
    "**Goal:** Describe your dataset.\n",
    "- Count the number of passengers in each class (`Pclass`).\n",
    "- Count how many survived vs. didn’t.\n",
    "- Calculate average and median age and fare.\n"
   ]
  },
  {
   "cell_type": "code",
   "execution_count": 52,
   "id": "210dc56a",
   "metadata": {},
   "outputs": [
    {
     "name": "stdout",
     "output_type": "stream",
     "text": [
      "there is 216 passengers in class 1\n",
      "there is 184 passengers in class 2\n",
      "there is 487 passengers in class 3\n",
      "in total there is 887 passengers\n",
      "887\n"
     ]
    }
   ],
   "source": [
    "# count the number of passengers in each class \n",
    "count = 0\n",
    "for x in range(1,4):\n",
    "    print(f'there is {df[df.Pclass.isin(x)].count()} passengers in class {x}')\n",
    "    count += df[df.Pclass.isin(x)].count()\n",
    "print(f'in total there is {count} passengers')\n",
    "print(df.count())\n"
   ]
  },
  {
   "cell_type": "code",
   "execution_count": 53,
   "id": "3468f1c7",
   "metadata": {},
   "outputs": [
    {
     "name": "stdout",
     "output_type": "stream",
     "text": [
      "survived 342\n",
      "didnt survived 545\n"
     ]
    }
   ],
   "source": [
    "# count how many survived vs who didn't\n",
    "survived = df[df.Survived.isin(1)].count()\n",
    "not_survived = df.count() - survived\n",
    "print('survived',survived)\n",
    "print('didnt survived',not_survived)"
   ]
  },
  {
   "cell_type": "code",
   "execution_count": 54,
   "id": "34773ce8",
   "metadata": {},
   "outputs": [
    {
     "name": "stdout",
     "output_type": "stream",
     "text": [
      "root\n",
      " |-- Survived: integer (nullable = true)\n",
      " |-- Pclass: integer (nullable = true)\n",
      " |-- Name: string (nullable = true)\n",
      " |-- Sex: string (nullable = true)\n",
      " |-- Age: float (nullable = true)\n",
      " |-- Siblings/Spouses Aboard: integer (nullable = true)\n",
      " |-- Parents/Children Aboard: integer (nullable = true)\n",
      " |-- Fare: float (nullable = true)\n",
      "\n"
     ]
    }
   ],
   "source": [
    "df.printSchema()"
   ]
  },
  {
   "cell_type": "code",
   "execution_count": 55,
   "id": "00ee603e",
   "metadata": {},
   "outputs": [
    {
     "name": "stdout",
     "output_type": "stream",
     "text": [
      "+------------------+\n",
      "|          avg(Age)|\n",
      "+------------------+\n",
      "|29.471443066501564|\n",
      "+------------------+\n",
      "\n"
     ]
    }
   ],
   "source": [
    "# calculate average and median age and fare\n",
    "from pyspark.sql import functions as f \n",
    "\n",
    "df.select(f.mean('Age')).show()"
   ]
  },
  {
   "cell_type": "markdown",
   "id": "9641185f",
   "metadata": {},
   "source": [
    "---\n",
    "\n",
    "## ✅ Level 3: Filtering\n",
    "**Goal:** Extract meaningful subsets.\n",
    "- Filter all passengers under 10 years old.\n",
    "- Filter all female passengers who survived.\n",
    "- Find the 10 passengers with the highest fares.\n",
    "\n",
    "---\n",
    "\n",
    "## ✅ Level 4: Feature Engineering\n",
    "**Goal:** Create new columns.\n",
    "- Add a `FamilySize` column: siblings/spouses + parents/children + 1.\n",
    "- Create a binary column for minors (under 18).\n",
    "- Extract titles (Mr., Miss, etc.) from the `Name` column.\n",
    "\n",
    "---\n",
    "\n",
    "## ✅ Level 5: Grouping and Aggregation\n",
    "**Goal:** Summarize data by groups.\n",
    "- Compute survival rate by sex.\n",
    "- Compute average fare per passenger class.\n",
    "- Find the average age for each title (from Level 4).\n",
    "\n",
    "---\n",
    "\n",
    "## ✅ Level 6: Missing Data\n",
    "**Goal:** Handle nulls effectively.\n",
    "- Count missing values in each column.\n",
    "- Replace missing `Age` values with average age per `Pclass`.\n",
    "\n",
    "---\n",
    "\n",
    "## ✅ Level 7: Sorting and Ranking\n",
    "**Goal:** Use ordering to analyze data.\n",
    "- Rank passengers by fare within each class.\n",
    "- Identify the top 3 oldest passengers in each survival group.\n",
    "\n",
    "---\n",
    "\n",
    "## ✅ Level 8: Joins and Window Functions (Advanced)\n",
    "**Goal:** Combine and compare rows.\n",
    "- Create a second DataFrame with only female passengers and join it with the original.\n",
    "- Use a window function to compute rolling averages or rank by fare.\n",
    "\n",
    "---\n",
    "\n",
    "## ⭐ Bonus Level: Build a Mini ML Pipeline\n",
    "**Goal:** Prepare data for machine learning.\n",
    "- Select features for predicting survival.\n",
    "- Encode categorical variables.\n",
    "- Split into training/testing sets and train a classifier.\n"
   ]
  },
  {
   "cell_type": "code",
   "execution_count": null,
   "id": "030f66b0",
   "metadata": {},
   "outputs": [],
   "source": []
  }
 ],
 "metadata": {
  "kernelspec": {
   "display_name": "bandits Python 3.13.3",
   "language": "python",
   "name": "my-env-3.13.3"
  },
  "language_info": {
   "codemirror_mode": {
    "name": "ipython",
    "version": 3
   },
   "file_extension": ".py",
   "mimetype": "text/x-python",
   "name": "python",
   "nbconvert_exporter": "python",
   "pygments_lexer": "ipython3",
   "version": "3.13.3"
  }
 },
 "nbformat": 4,
 "nbformat_minor": 5
}
