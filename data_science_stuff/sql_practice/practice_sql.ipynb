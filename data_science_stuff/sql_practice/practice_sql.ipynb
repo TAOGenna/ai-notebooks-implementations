{
 "cells": [
  {
   "cell_type": "code",
   "execution_count": 14,
   "id": "8e26cb3c",
   "metadata": {},
   "outputs": [
    {
     "name": "stdout",
     "output_type": "stream",
     "text": [
      "Requirement already satisfied: jupysql in /Users/t65970/homebrew/opt/pyenv/versions/experiments/lib/python3.13/site-packages (0.11.1)\n",
      "Requirement already satisfied: prettytable>=3.12.0 in /Users/t65970/homebrew/opt/pyenv/versions/experiments/lib/python3.13/site-packages (from jupysql) (3.16.0)\n",
      "Requirement already satisfied: sqlalchemy in /Users/t65970/homebrew/opt/pyenv/versions/experiments/lib/python3.13/site-packages (from jupysql) (2.0.42)\n",
      "Requirement already satisfied: sqlparse in /Users/t65970/homebrew/opt/pyenv/versions/experiments/lib/python3.13/site-packages (from jupysql) (0.5.3)\n",
      "Requirement already satisfied: ipython-genutils>=0.1.0 in /Users/t65970/homebrew/opt/pyenv/versions/experiments/lib/python3.13/site-packages (from jupysql) (0.2.0)\n",
      "Requirement already satisfied: jinja2 in /Users/t65970/homebrew/opt/pyenv/versions/experiments/lib/python3.13/site-packages (from jupysql) (3.1.6)\n",
      "Requirement already satisfied: sqlglot>=11.3.7 in /Users/t65970/homebrew/opt/pyenv/versions/experiments/lib/python3.13/site-packages (from jupysql) (27.8.0)\n",
      "Requirement already satisfied: jupysql-plugin>=0.4.2 in /Users/t65970/homebrew/opt/pyenv/versions/experiments/lib/python3.13/site-packages (from jupysql) (0.4.5)\n",
      "Requirement already satisfied: ploomber-core>=0.2.7 in /Users/t65970/homebrew/opt/pyenv/versions/experiments/lib/python3.13/site-packages (from jupysql) (0.2.27)\n",
      "Requirement already satisfied: pyyaml in /Users/t65970/homebrew/opt/pyenv/versions/experiments/lib/python3.13/site-packages (from ploomber-core>=0.2.7->jupysql) (6.0.2)\n",
      "Requirement already satisfied: posthog>=3.0 in /Users/t65970/homebrew/opt/pyenv/versions/experiments/lib/python3.13/site-packages (from ploomber-core>=0.2.7->jupysql) (6.6.0)\n",
      "Requirement already satisfied: wcwidth in /Users/t65970/homebrew/opt/pyenv/versions/experiments/lib/python3.13/site-packages (from prettytable>=3.12.0->jupysql) (0.2.13)\n",
      "Requirement already satisfied: MarkupSafe>=2.0 in /Users/t65970/homebrew/opt/pyenv/versions/experiments/lib/python3.13/site-packages (from jinja2->jupysql) (3.0.2)\n",
      "Requirement already satisfied: typing-extensions>=4.6.0 in /Users/t65970/homebrew/opt/pyenv/versions/experiments/lib/python3.13/site-packages (from sqlalchemy->jupysql) (4.14.1)\n",
      "Requirement already satisfied: requests<3.0,>=2.7 in /Users/t65970/homebrew/opt/pyenv/versions/experiments/lib/python3.13/site-packages (from posthog>=3.0->ploomber-core>=0.2.7->jupysql) (2.32.4)\n",
      "Requirement already satisfied: six>=1.5 in /Users/t65970/homebrew/opt/pyenv/versions/experiments/lib/python3.13/site-packages (from posthog>=3.0->ploomber-core>=0.2.7->jupysql) (1.17.0)\n",
      "Requirement already satisfied: python-dateutil>=2.2 in /Users/t65970/homebrew/opt/pyenv/versions/experiments/lib/python3.13/site-packages (from posthog>=3.0->ploomber-core>=0.2.7->jupysql) (2.9.0.post0)\n",
      "Requirement already satisfied: backoff>=1.10.0 in /Users/t65970/homebrew/opt/pyenv/versions/experiments/lib/python3.13/site-packages (from posthog>=3.0->ploomber-core>=0.2.7->jupysql) (2.2.1)\n",
      "Requirement already satisfied: distro>=1.5.0 in /Users/t65970/homebrew/opt/pyenv/versions/experiments/lib/python3.13/site-packages (from posthog>=3.0->ploomber-core>=0.2.7->jupysql) (1.9.0)\n",
      "Requirement already satisfied: charset_normalizer<4,>=2 in /Users/t65970/homebrew/opt/pyenv/versions/experiments/lib/python3.13/site-packages (from requests<3.0,>=2.7->posthog>=3.0->ploomber-core>=0.2.7->jupysql) (3.4.3)\n",
      "Requirement already satisfied: idna<4,>=2.5 in /Users/t65970/homebrew/opt/pyenv/versions/experiments/lib/python3.13/site-packages (from requests<3.0,>=2.7->posthog>=3.0->ploomber-core>=0.2.7->jupysql) (3.10)\n",
      "Requirement already satisfied: urllib3<3,>=1.21.1 in /Users/t65970/homebrew/opt/pyenv/versions/experiments/lib/python3.13/site-packages (from requests<3.0,>=2.7->posthog>=3.0->ploomber-core>=0.2.7->jupysql) (2.5.0)\n",
      "Requirement already satisfied: certifi>=2017.4.17 in /Users/t65970/homebrew/opt/pyenv/versions/experiments/lib/python3.13/site-packages (from requests<3.0,>=2.7->posthog>=3.0->ploomber-core>=0.2.7->jupysql) (2025.8.3)\n",
      "\n",
      "\u001b[1m[\u001b[0m\u001b[34;49mnotice\u001b[0m\u001b[1;39;49m]\u001b[0m\u001b[39;49m A new release of pip is available: \u001b[0m\u001b[31;49m25.0.1\u001b[0m\u001b[39;49m -> \u001b[0m\u001b[32;49m25.2\u001b[0m\n",
      "\u001b[1m[\u001b[0m\u001b[34;49mnotice\u001b[0m\u001b[1;39;49m]\u001b[0m\u001b[39;49m To update, run: \u001b[0m\u001b[32;49mpip install --upgrade pip\u001b[0m\n",
      "Note: you may need to restart the kernel to use updated packages.\n"
     ]
    }
   ],
   "source": [
    "%pip install jupysql"
   ]
  },
  {
   "cell_type": "code",
   "execution_count": 18,
   "id": "94593a66",
   "metadata": {},
   "outputs": [
    {
     "name": "stdout",
     "output_type": "stream",
     "text": [
      "Collecting jupyterlab-sql-editor\n",
      "  Downloading jupyterlab_sql_editor-1.6.1-py3-none-any.whl.metadata (6.2 kB)\n",
      "Collecting cccs-ipyaggrid>=0.5.3 (from jupyterlab-sql-editor)\n",
      "  Downloading cccs_ipyaggrid-0.5.6-py2.py3-none-any.whl.metadata (2.3 kB)\n",
      "Collecting ipydatagrid (from jupyterlab-sql-editor)\n",
      "  Downloading ipydatagrid-1.4.0-py3-none-any.whl.metadata (5.8 kB)\n",
      "Collecting ipytree (from jupyterlab-sql-editor)\n",
      "  Downloading ipytree-0.2.2-py2.py3-none-any.whl.metadata (849 bytes)\n",
      "Collecting ipywidgets (from jupyterlab-sql-editor)\n",
      "  Using cached ipywidgets-8.1.7-py3-none-any.whl.metadata (2.4 kB)\n",
      "Requirement already satisfied: jinja2 in /Users/t65970/homebrew/opt/pyenv/versions/experiments/lib/python3.13/site-packages (from jupyterlab-sql-editor) (3.1.6)\n",
      "Collecting jupyter-events>=0.6.1 (from jupyterlab-sql-editor)\n",
      "  Downloading jupyter_events-0.12.0-py3-none-any.whl.metadata (5.8 kB)\n",
      "Collecting jupyter-lsp>=2.2.0 (from jupyterlab-sql-editor)\n",
      "  Downloading jupyter_lsp-2.2.6-py3-none-any.whl.metadata (1.8 kB)\n",
      "Collecting jupyterlab-lsp>=5.0.0 (from jupyterlab-sql-editor)\n",
      "  Downloading jupyterlab_lsp-5.2.0-py3-none-any.whl.metadata (12 kB)\n",
      "Requirement already satisfied: pandas>=1.4.4 in /Users/t65970/homebrew/opt/pyenv/versions/experiments/lib/python3.13/site-packages (from jupyterlab-sql-editor) (2.3.1)\n",
      "Collecting ply (from jupyterlab-sql-editor)\n",
      "  Downloading ply-3.11-py2.py3-none-any.whl.metadata (844 bytes)\n",
      "Collecting python-lsp-server[all] (from jupyterlab-sql-editor)\n",
      "  Downloading python_lsp_server-1.13.0-py3-none-any.whl.metadata (11 kB)\n",
      "Requirement already satisfied: sqlalchemy in /Users/t65970/homebrew/opt/pyenv/versions/experiments/lib/python3.13/site-packages (from jupyterlab-sql-editor) (2.0.42)\n",
      "Requirement already satisfied: sqlglot[rs] in /Users/t65970/homebrew/opt/pyenv/versions/experiments/lib/python3.13/site-packages (from jupyterlab-sql-editor) (27.8.0)\n",
      "Requirement already satisfied: sqlparse in /Users/t65970/homebrew/opt/pyenv/versions/experiments/lib/python3.13/site-packages (from jupyterlab-sql-editor) (0.5.3)\n",
      "Collecting simplejson>=3.13.2 (from cccs-ipyaggrid>=0.5.3->jupyterlab-sql-editor)\n",
      "  Downloading simplejson-3.20.1-cp313-cp313-macosx_11_0_arm64.whl.metadata (3.3 kB)\n",
      "Requirement already satisfied: comm>=0.1.3 in /Users/t65970/homebrew/opt/pyenv/versions/experiments/lib/python3.13/site-packages (from ipywidgets->jupyterlab-sql-editor) (0.2.3)\n",
      "Requirement already satisfied: ipython>=6.1.0 in /Users/t65970/homebrew/opt/pyenv/versions/experiments/lib/python3.13/site-packages (from ipywidgets->jupyterlab-sql-editor) (9.4.0)\n",
      "Requirement already satisfied: traitlets>=4.3.1 in /Users/t65970/homebrew/opt/pyenv/versions/experiments/lib/python3.13/site-packages (from ipywidgets->jupyterlab-sql-editor) (5.14.3)\n",
      "Collecting widgetsnbextension~=4.0.14 (from ipywidgets->jupyterlab-sql-editor)\n",
      "  Using cached widgetsnbextension-4.0.14-py3-none-any.whl.metadata (1.6 kB)\n",
      "Collecting jupyterlab_widgets~=3.0.15 (from ipywidgets->jupyterlab-sql-editor)\n",
      "  Using cached jupyterlab_widgets-3.0.15-py3-none-any.whl.metadata (20 kB)\n",
      "Collecting jsonschema>=4.18.0 (from jsonschema[format-nongpl]>=4.18.0->jupyter-events>=0.6.1->jupyterlab-sql-editor)\n",
      "  Downloading jsonschema-4.25.1-py3-none-any.whl.metadata (7.6 kB)\n",
      "Requirement already satisfied: packaging in /Users/t65970/homebrew/opt/pyenv/versions/experiments/lib/python3.13/site-packages (from jupyter-events>=0.6.1->jupyterlab-sql-editor) (25.0)\n",
      "Collecting python-json-logger>=2.0.4 (from jupyter-events>=0.6.1->jupyterlab-sql-editor)\n",
      "  Downloading python_json_logger-3.3.0-py3-none-any.whl.metadata (4.0 kB)\n",
      "Requirement already satisfied: pyyaml>=5.3 in /Users/t65970/homebrew/opt/pyenv/versions/experiments/lib/python3.13/site-packages (from jupyter-events>=0.6.1->jupyterlab-sql-editor) (6.0.2)\n",
      "Collecting referencing (from jupyter-events>=0.6.1->jupyterlab-sql-editor)\n",
      "  Downloading referencing-0.36.2-py3-none-any.whl.metadata (2.8 kB)\n",
      "Collecting rfc3339-validator (from jupyter-events>=0.6.1->jupyterlab-sql-editor)\n",
      "  Downloading rfc3339_validator-0.1.4-py2.py3-none-any.whl.metadata (1.5 kB)\n",
      "Collecting rfc3986-validator>=0.1.1 (from jupyter-events>=0.6.1->jupyterlab-sql-editor)\n",
      "  Downloading rfc3986_validator-0.1.1-py2.py3-none-any.whl.metadata (1.7 kB)\n",
      "Collecting jupyter_server>=1.1.2 (from jupyter-lsp>=2.2.0->jupyterlab-sql-editor)\n",
      "  Downloading jupyter_server-2.16.0-py3-none-any.whl.metadata (8.5 kB)\n",
      "Collecting jupyterlab<5.0.0a0,>=4.1.0 (from jupyterlab-lsp>=5.0.0->jupyterlab-sql-editor)\n",
      "  Downloading jupyterlab-4.5.0a3-py3-none-any.whl.metadata (16 kB)\n",
      "Requirement already satisfied: numpy>=1.26.0 in /Users/t65970/homebrew/opt/pyenv/versions/experiments/lib/python3.13/site-packages (from pandas>=1.4.4->jupyterlab-sql-editor) (2.3.2)\n",
      "Requirement already satisfied: python-dateutil>=2.8.2 in /Users/t65970/homebrew/opt/pyenv/versions/experiments/lib/python3.13/site-packages (from pandas>=1.4.4->jupyterlab-sql-editor) (2.9.0.post0)\n",
      "Requirement already satisfied: pytz>=2020.1 in /Users/t65970/homebrew/opt/pyenv/versions/experiments/lib/python3.13/site-packages (from pandas>=1.4.4->jupyterlab-sql-editor) (2025.2)\n",
      "Requirement already satisfied: tzdata>=2022.7 in /Users/t65970/homebrew/opt/pyenv/versions/experiments/lib/python3.13/site-packages (from pandas>=1.4.4->jupyterlab-sql-editor) (2025.2)\n",
      "Collecting bqplot>=0.11.6 (from ipydatagrid->jupyterlab-sql-editor)\n",
      "  Downloading bqplot-0.12.45-py2.py3-none-any.whl.metadata (6.4 kB)\n",
      "Collecting py2vega>=0.5 (from ipydatagrid->jupyterlab-sql-editor)\n",
      "  Downloading py2vega-0.6.1-py3-none-any.whl.metadata (874 bytes)\n",
      "Requirement already satisfied: MarkupSafe>=2.0 in /Users/t65970/homebrew/opt/pyenv/versions/experiments/lib/python3.13/site-packages (from jinja2->jupyterlab-sql-editor) (3.0.2)\n",
      "Collecting docstring-to-markdown (from python-lsp-server[all]->jupyterlab-sql-editor)\n",
      "  Downloading docstring_to_markdown-0.17-py3-none-any.whl.metadata (2.3 kB)\n",
      "Requirement already satisfied: jedi<0.20.0,>=0.17.2 in /Users/t65970/homebrew/opt/pyenv/versions/experiments/lib/python3.13/site-packages (from python-lsp-server[all]->jupyterlab-sql-editor) (0.19.2)\n",
      "Requirement already satisfied: pluggy>=1.0.0 in /Users/t65970/homebrew/opt/pyenv/versions/experiments/lib/python3.13/site-packages (from python-lsp-server[all]->jupyterlab-sql-editor) (1.6.0)\n",
      "Collecting python-lsp-jsonrpc<2.0.0,>=1.1.0 (from python-lsp-server[all]->jupyterlab-sql-editor)\n",
      "  Downloading python_lsp_jsonrpc-1.1.2-py3-none-any.whl.metadata (1.5 kB)\n",
      "Collecting ujson>=3.0.0 (from python-lsp-server[all]->jupyterlab-sql-editor)\n",
      "  Downloading ujson-5.10.0-cp313-cp313-macosx_11_0_arm64.whl.metadata (9.3 kB)\n",
      "Collecting black (from python-lsp-server[all]->jupyterlab-sql-editor)\n",
      "  Downloading black-25.1.0-cp313-cp313-macosx_11_0_arm64.whl.metadata (81 kB)\n",
      "Collecting autopep8<2.1.0,>=2.0.4 (from python-lsp-server[all]->jupyterlab-sql-editor)\n",
      "  Downloading autopep8-2.0.4-py2.py3-none-any.whl.metadata (17 kB)\n",
      "Collecting flake8<8,>=7.1 (from python-lsp-server[all]->jupyterlab-sql-editor)\n",
      "  Downloading flake8-7.3.0-py2.py3-none-any.whl.metadata (3.8 kB)\n",
      "Collecting mccabe<0.8.0,>=0.7.0 (from python-lsp-server[all]->jupyterlab-sql-editor)\n",
      "  Downloading mccabe-0.7.0-py2.py3-none-any.whl.metadata (5.0 kB)\n",
      "Collecting pycodestyle<2.13.0,>=2.12.0 (from python-lsp-server[all]->jupyterlab-sql-editor)\n",
      "  Downloading pycodestyle-2.12.1-py2.py3-none-any.whl.metadata (4.5 kB)\n",
      "Collecting pydocstyle<6.4.0,>=6.3.0 (from python-lsp-server[all]->jupyterlab-sql-editor)\n",
      "  Downloading pydocstyle-6.3.0-py3-none-any.whl.metadata (3.7 kB)\n",
      "Collecting pyflakes<3.3.0,>=3.2.0 (from python-lsp-server[all]->jupyterlab-sql-editor)\n",
      "  Downloading pyflakes-3.2.0-py2.py3-none-any.whl.metadata (3.5 kB)\n",
      "Collecting pylint<4,>=3.1 (from python-lsp-server[all]->jupyterlab-sql-editor)\n",
      "  Downloading pylint-3.3.8-py3-none-any.whl.metadata (12 kB)\n",
      "Collecting rope>=1.11.0 (from python-lsp-server[all]->jupyterlab-sql-editor)\n",
      "  Downloading rope-1.14.0-py3-none-any.whl.metadata (6.5 kB)\n",
      "Collecting yapf>=0.33.0 (from python-lsp-server[all]->jupyterlab-sql-editor)\n",
      "  Downloading yapf-0.43.0-py3-none-any.whl.metadata (46 kB)\n",
      "Collecting whatthepatch<2.0.0,>=1.0.2 (from python-lsp-server[all]->jupyterlab-sql-editor)\n",
      "  Downloading whatthepatch-1.0.7-py3-none-any.whl.metadata (7.2 kB)\n",
      "Requirement already satisfied: typing-extensions>=4.6.0 in /Users/t65970/homebrew/opt/pyenv/versions/experiments/lib/python3.13/site-packages (from sqlalchemy->jupyterlab-sql-editor) (4.14.1)\n",
      "Collecting sqlglotrs==0.6.1 (from sqlglot[rs]->jupyterlab-sql-editor)\n",
      "  Downloading sqlglotrs-0.6.1-cp313-cp313-macosx_11_0_arm64.whl.metadata (545 bytes)\n",
      "Collecting traittypes>=0.0.6 (from bqplot>=0.11.6->ipydatagrid->jupyterlab-sql-editor)\n",
      "  Downloading traittypes-0.2.1-py2.py3-none-any.whl.metadata (1.0 kB)\n",
      "INFO: pip is looking at multiple versions of flake8 to determine which version is compatible with other requirements. This could take a while.\n",
      "Collecting flake8<8,>=7.1 (from python-lsp-server[all]->jupyterlab-sql-editor)\n",
      "  Downloading flake8-7.2.0-py2.py3-none-any.whl.metadata (3.8 kB)\n",
      "  Downloading flake8-7.1.2-py2.py3-none-any.whl.metadata (3.8 kB)\n",
      "Requirement already satisfied: decorator in /Users/t65970/homebrew/opt/pyenv/versions/experiments/lib/python3.13/site-packages (from ipython>=6.1.0->ipywidgets->jupyterlab-sql-editor) (5.2.1)\n",
      "Requirement already satisfied: ipython-pygments-lexers in /Users/t65970/homebrew/opt/pyenv/versions/experiments/lib/python3.13/site-packages (from ipython>=6.1.0->ipywidgets->jupyterlab-sql-editor) (1.1.1)\n",
      "Requirement already satisfied: matplotlib-inline in /Users/t65970/homebrew/opt/pyenv/versions/experiments/lib/python3.13/site-packages (from ipython>=6.1.0->ipywidgets->jupyterlab-sql-editor) (0.1.7)\n",
      "Requirement already satisfied: pexpect>4.3 in /Users/t65970/homebrew/opt/pyenv/versions/experiments/lib/python3.13/site-packages (from ipython>=6.1.0->ipywidgets->jupyterlab-sql-editor) (4.9.0)\n",
      "Requirement already satisfied: prompt_toolkit<3.1.0,>=3.0.41 in /Users/t65970/homebrew/opt/pyenv/versions/experiments/lib/python3.13/site-packages (from ipython>=6.1.0->ipywidgets->jupyterlab-sql-editor) (3.0.51)\n",
      "Requirement already satisfied: pygments>=2.4.0 in /Users/t65970/homebrew/opt/pyenv/versions/experiments/lib/python3.13/site-packages (from ipython>=6.1.0->ipywidgets->jupyterlab-sql-editor) (2.19.2)\n",
      "Requirement already satisfied: stack_data in /Users/t65970/homebrew/opt/pyenv/versions/experiments/lib/python3.13/site-packages (from ipython>=6.1.0->ipywidgets->jupyterlab-sql-editor) (0.6.3)\n",
      "Requirement already satisfied: parso<0.9.0,>=0.8.4 in /Users/t65970/homebrew/opt/pyenv/versions/experiments/lib/python3.13/site-packages (from jedi<0.20.0,>=0.17.2->python-lsp-server[all]->jupyterlab-sql-editor) (0.8.4)\n",
      "Collecting attrs>=22.2.0 (from jsonschema>=4.18.0->jsonschema[format-nongpl]>=4.18.0->jupyter-events>=0.6.1->jupyterlab-sql-editor)\n",
      "  Downloading attrs-25.3.0-py3-none-any.whl.metadata (10 kB)\n",
      "Collecting jsonschema-specifications>=2023.03.6 (from jsonschema>=4.18.0->jsonschema[format-nongpl]>=4.18.0->jupyter-events>=0.6.1->jupyterlab-sql-editor)\n",
      "  Downloading jsonschema_specifications-2025.4.1-py3-none-any.whl.metadata (2.9 kB)\n",
      "Collecting rpds-py>=0.7.1 (from jsonschema>=4.18.0->jsonschema[format-nongpl]>=4.18.0->jupyter-events>=0.6.1->jupyterlab-sql-editor)\n",
      "  Downloading rpds_py-0.27.0-cp313-cp313-macosx_11_0_arm64.whl.metadata (4.2 kB)\n",
      "Collecting fqdn (from jsonschema[format-nongpl]>=4.18.0->jupyter-events>=0.6.1->jupyterlab-sql-editor)\n",
      "  Downloading fqdn-1.5.1-py3-none-any.whl.metadata (1.4 kB)\n",
      "Requirement already satisfied: idna in /Users/t65970/homebrew/opt/pyenv/versions/experiments/lib/python3.13/site-packages (from jsonschema[format-nongpl]>=4.18.0->jupyter-events>=0.6.1->jupyterlab-sql-editor) (3.10)\n",
      "Collecting isoduration (from jsonschema[format-nongpl]>=4.18.0->jupyter-events>=0.6.1->jupyterlab-sql-editor)\n",
      "  Downloading isoduration-20.11.0-py3-none-any.whl.metadata (5.7 kB)\n",
      "Collecting jsonpointer>1.13 (from jsonschema[format-nongpl]>=4.18.0->jupyter-events>=0.6.1->jupyterlab-sql-editor)\n",
      "  Downloading jsonpointer-3.0.0-py2.py3-none-any.whl.metadata (2.3 kB)\n",
      "Collecting rfc3987-syntax>=1.1.0 (from jsonschema[format-nongpl]>=4.18.0->jupyter-events>=0.6.1->jupyterlab-sql-editor)\n",
      "  Downloading rfc3987_syntax-1.1.0-py3-none-any.whl.metadata (7.7 kB)\n",
      "Collecting uri-template (from jsonschema[format-nongpl]>=4.18.0->jupyter-events>=0.6.1->jupyterlab-sql-editor)\n",
      "  Downloading uri_template-1.3.0-py3-none-any.whl.metadata (8.8 kB)\n",
      "Collecting webcolors>=24.6.0 (from jsonschema[format-nongpl]>=4.18.0->jupyter-events>=0.6.1->jupyterlab-sql-editor)\n",
      "  Downloading webcolors-24.11.1-py3-none-any.whl.metadata (2.2 kB)\n",
      "Requirement already satisfied: anyio>=3.1.0 in /Users/t65970/homebrew/opt/pyenv/versions/experiments/lib/python3.13/site-packages (from jupyter_server>=1.1.2->jupyter-lsp>=2.2.0->jupyterlab-sql-editor) (4.10.0)\n",
      "Collecting argon2-cffi>=21.1 (from jupyter_server>=1.1.2->jupyter-lsp>=2.2.0->jupyterlab-sql-editor)\n",
      "  Downloading argon2_cffi-25.1.0-py3-none-any.whl.metadata (4.1 kB)\n",
      "Requirement already satisfied: jupyter-client>=7.4.4 in /Users/t65970/homebrew/opt/pyenv/versions/experiments/lib/python3.13/site-packages (from jupyter_server>=1.1.2->jupyter-lsp>=2.2.0->jupyterlab-sql-editor) (8.6.3)\n",
      "Requirement already satisfied: jupyter-core!=5.0.*,>=4.12 in /Users/t65970/homebrew/opt/pyenv/versions/experiments/lib/python3.13/site-packages (from jupyter_server>=1.1.2->jupyter-lsp>=2.2.0->jupyterlab-sql-editor) (5.8.1)\n",
      "Collecting jupyter-server-terminals>=0.4.4 (from jupyter_server>=1.1.2->jupyter-lsp>=2.2.0->jupyterlab-sql-editor)\n",
      "  Downloading jupyter_server_terminals-0.5.3-py3-none-any.whl.metadata (5.6 kB)\n",
      "Collecting nbconvert>=6.4.4 (from jupyter_server>=1.1.2->jupyter-lsp>=2.2.0->jupyterlab-sql-editor)\n",
      "  Downloading nbconvert-7.16.6-py3-none-any.whl.metadata (8.5 kB)\n",
      "Collecting nbformat>=5.3.0 (from jupyter_server>=1.1.2->jupyter-lsp>=2.2.0->jupyterlab-sql-editor)\n",
      "  Downloading nbformat-5.10.4-py3-none-any.whl.metadata (3.6 kB)\n",
      "Collecting overrides>=5.0 (from jupyter_server>=1.1.2->jupyter-lsp>=2.2.0->jupyterlab-sql-editor)\n",
      "  Downloading overrides-7.7.0-py3-none-any.whl.metadata (5.8 kB)\n",
      "Collecting prometheus-client>=0.9 (from jupyter_server>=1.1.2->jupyter-lsp>=2.2.0->jupyterlab-sql-editor)\n",
      "  Downloading prometheus_client-0.22.1-py3-none-any.whl.metadata (1.9 kB)\n",
      "Requirement already satisfied: pyzmq>=24 in /Users/t65970/homebrew/opt/pyenv/versions/experiments/lib/python3.13/site-packages (from jupyter_server>=1.1.2->jupyter-lsp>=2.2.0->jupyterlab-sql-editor) (27.0.1)\n",
      "Collecting send2trash>=1.8.2 (from jupyter_server>=1.1.2->jupyter-lsp>=2.2.0->jupyterlab-sql-editor)\n",
      "  Downloading Send2Trash-1.8.3-py3-none-any.whl.metadata (4.0 kB)\n",
      "Collecting terminado>=0.8.3 (from jupyter_server>=1.1.2->jupyter-lsp>=2.2.0->jupyterlab-sql-editor)\n",
      "  Downloading terminado-0.18.1-py3-none-any.whl.metadata (5.8 kB)\n",
      "Requirement already satisfied: tornado>=6.2.0 in /Users/t65970/homebrew/opt/pyenv/versions/experiments/lib/python3.13/site-packages (from jupyter_server>=1.1.2->jupyter-lsp>=2.2.0->jupyterlab-sql-editor) (6.5.2)\n",
      "Collecting websocket-client>=1.7 (from jupyter_server>=1.1.2->jupyter-lsp>=2.2.0->jupyterlab-sql-editor)\n",
      "  Downloading websocket_client-1.8.0-py3-none-any.whl.metadata (8.0 kB)\n",
      "Collecting async-lru>=1.0.0 (from jupyterlab<5.0.0a0,>=4.1.0->jupyterlab-lsp>=5.0.0->jupyterlab-sql-editor)\n",
      "  Downloading async_lru-2.0.5-py3-none-any.whl.metadata (4.5 kB)\n",
      "Collecting httpx<1,>=0.25.0 (from jupyterlab<5.0.0a0,>=4.1.0->jupyterlab-lsp>=5.0.0->jupyterlab-sql-editor)\n",
      "  Using cached httpx-0.28.1-py3-none-any.whl.metadata (7.1 kB)\n",
      "Requirement already satisfied: ipykernel!=6.30.0,>=6.5.0 in /Users/t65970/homebrew/opt/pyenv/versions/experiments/lib/python3.13/site-packages (from jupyterlab<5.0.0a0,>=4.1.0->jupyterlab-lsp>=5.0.0->jupyterlab-sql-editor) (6.30.1)\n",
      "Collecting jupyterlab-server<3,>=2.27.1 (from jupyterlab<5.0.0a0,>=4.1.0->jupyterlab-lsp>=5.0.0->jupyterlab-sql-editor)\n",
      "  Downloading jupyterlab_server-2.27.3-py3-none-any.whl.metadata (5.9 kB)\n",
      "Collecting notebook-shim>=0.2 (from jupyterlab<5.0.0a0,>=4.1.0->jupyterlab-lsp>=5.0.0->jupyterlab-sql-editor)\n",
      "  Downloading notebook_shim-0.2.4-py3-none-any.whl.metadata (4.0 kB)\n",
      "Collecting setuptools>=41.1.0 (from jupyterlab<5.0.0a0,>=4.1.0->jupyterlab-lsp>=5.0.0->jupyterlab-sql-editor)\n",
      "  Using cached setuptools-80.9.0-py3-none-any.whl.metadata (6.6 kB)\n",
      "Collecting gast<0.5,>=0.4.0 (from py2vega>=0.5->ipydatagrid->jupyterlab-sql-editor)\n",
      "  Downloading gast-0.4.0-py3-none-any.whl.metadata (1.1 kB)\n",
      "Collecting snowballstemmer>=2.2.0 (from pydocstyle<6.4.0,>=6.3.0->python-lsp-server[all]->jupyterlab-sql-editor)\n",
      "  Downloading snowballstemmer-3.0.1-py3-none-any.whl.metadata (7.9 kB)\n",
      "Collecting astroid<=3.4.0.dev0,>=3.3.8 (from pylint<4,>=3.1->python-lsp-server[all]->jupyterlab-sql-editor)\n",
      "  Downloading astroid-3.3.11-py3-none-any.whl.metadata (4.4 kB)\n",
      "Collecting dill>=0.3.6 (from pylint<4,>=3.1->python-lsp-server[all]->jupyterlab-sql-editor)\n",
      "  Downloading dill-0.4.0-py3-none-any.whl.metadata (10 kB)\n",
      "Collecting isort!=5.13,<7,>=4.2.5 (from pylint<4,>=3.1->python-lsp-server[all]->jupyterlab-sql-editor)\n",
      "  Downloading isort-6.0.1-py3-none-any.whl.metadata (11 kB)\n",
      "Requirement already satisfied: platformdirs>=2.2 in /Users/t65970/homebrew/opt/pyenv/versions/experiments/lib/python3.13/site-packages (from pylint<4,>=3.1->python-lsp-server[all]->jupyterlab-sql-editor) (4.3.8)\n",
      "Collecting tomlkit>=0.10.1 (from pylint<4,>=3.1->python-lsp-server[all]->jupyterlab-sql-editor)\n",
      "  Downloading tomlkit-0.13.3-py3-none-any.whl.metadata (2.8 kB)\n",
      "Requirement already satisfied: six>=1.5 in /Users/t65970/homebrew/opt/pyenv/versions/experiments/lib/python3.13/site-packages (from python-dateutil>=2.8.2->pandas>=1.4.4->jupyterlab-sql-editor) (1.17.0)\n",
      "Collecting pytoolconfig>=1.2.2 (from pytoolconfig[global]>=1.2.2->rope>=1.11.0->python-lsp-server[all]->jupyterlab-sql-editor)\n",
      "  Downloading pytoolconfig-1.3.1-py3-none-any.whl.metadata (1.4 kB)\n",
      "Requirement already satisfied: click>=8.0.0 in /Users/t65970/homebrew/opt/pyenv/versions/experiments/lib/python3.13/site-packages (from black->python-lsp-server[all]->jupyterlab-sql-editor) (8.2.1)\n",
      "Collecting mypy-extensions>=0.4.3 (from black->python-lsp-server[all]->jupyterlab-sql-editor)\n",
      "  Downloading mypy_extensions-1.1.0-py3-none-any.whl.metadata (1.1 kB)\n",
      "Collecting pathspec>=0.9.0 (from black->python-lsp-server[all]->jupyterlab-sql-editor)\n",
      "  Using cached pathspec-0.12.1-py3-none-any.whl.metadata (21 kB)\n",
      "Requirement already satisfied: importlib-metadata>=3.6 in /Users/t65970/homebrew/opt/pyenv/versions/experiments/lib/python3.13/site-packages (from docstring-to-markdown->python-lsp-server[all]->jupyterlab-sql-editor) (8.7.0)\n",
      "Requirement already satisfied: sniffio>=1.1 in /Users/t65970/homebrew/opt/pyenv/versions/experiments/lib/python3.13/site-packages (from anyio>=3.1.0->jupyter_server>=1.1.2->jupyter-lsp>=2.2.0->jupyterlab-sql-editor) (1.3.1)\n",
      "Collecting argon2-cffi-bindings (from argon2-cffi>=21.1->jupyter_server>=1.1.2->jupyter-lsp>=2.2.0->jupyterlab-sql-editor)\n",
      "  Downloading argon2_cffi_bindings-25.1.0-cp39-abi3-macosx_11_0_arm64.whl.metadata (7.4 kB)\n",
      "Requirement already satisfied: certifi in /Users/t65970/homebrew/opt/pyenv/versions/experiments/lib/python3.13/site-packages (from httpx<1,>=0.25.0->jupyterlab<5.0.0a0,>=4.1.0->jupyterlab-lsp>=5.0.0->jupyterlab-sql-editor) (2025.8.3)\n",
      "Collecting httpcore==1.* (from httpx<1,>=0.25.0->jupyterlab<5.0.0a0,>=4.1.0->jupyterlab-lsp>=5.0.0->jupyterlab-sql-editor)\n",
      "  Using cached httpcore-1.0.9-py3-none-any.whl.metadata (21 kB)\n",
      "Requirement already satisfied: h11>=0.16 in /Users/t65970/homebrew/opt/pyenv/versions/experiments/lib/python3.13/site-packages (from httpcore==1.*->httpx<1,>=0.25.0->jupyterlab<5.0.0a0,>=4.1.0->jupyterlab-lsp>=5.0.0->jupyterlab-sql-editor) (0.16.0)\n",
      "Requirement already satisfied: zipp>=3.20 in /Users/t65970/homebrew/opt/pyenv/versions/experiments/lib/python3.13/site-packages (from importlib-metadata>=3.6->docstring-to-markdown->python-lsp-server[all]->jupyterlab-sql-editor) (3.23.0)\n",
      "Requirement already satisfied: appnope>=0.1.2 in /Users/t65970/homebrew/opt/pyenv/versions/experiments/lib/python3.13/site-packages (from ipykernel!=6.30.0,>=6.5.0->jupyterlab<5.0.0a0,>=4.1.0->jupyterlab-lsp>=5.0.0->jupyterlab-sql-editor) (0.1.4)\n",
      "Requirement already satisfied: debugpy>=1.6.5 in /Users/t65970/homebrew/opt/pyenv/versions/experiments/lib/python3.13/site-packages (from ipykernel!=6.30.0,>=6.5.0->jupyterlab<5.0.0a0,>=4.1.0->jupyterlab-lsp>=5.0.0->jupyterlab-sql-editor) (1.8.16)\n",
      "Requirement already satisfied: nest-asyncio>=1.4 in /Users/t65970/homebrew/opt/pyenv/versions/experiments/lib/python3.13/site-packages (from ipykernel!=6.30.0,>=6.5.0->jupyterlab<5.0.0a0,>=4.1.0->jupyterlab-lsp>=5.0.0->jupyterlab-sql-editor) (1.6.0)\n",
      "Requirement already satisfied: psutil>=5.7 in /Users/t65970/homebrew/opt/pyenv/versions/experiments/lib/python3.13/site-packages (from ipykernel!=6.30.0,>=6.5.0->jupyterlab<5.0.0a0,>=4.1.0->jupyterlab-lsp>=5.0.0->jupyterlab-sql-editor) (7.0.0)\n",
      "Collecting babel>=2.10 (from jupyterlab-server<3,>=2.27.1->jupyterlab<5.0.0a0,>=4.1.0->jupyterlab-lsp>=5.0.0->jupyterlab-sql-editor)\n",
      "  Downloading babel-2.17.0-py3-none-any.whl.metadata (2.0 kB)\n",
      "Collecting json5>=0.9.0 (from jupyterlab-server<3,>=2.27.1->jupyterlab<5.0.0a0,>=4.1.0->jupyterlab-lsp>=5.0.0->jupyterlab-sql-editor)\n",
      "  Downloading json5-0.12.1-py3-none-any.whl.metadata (36 kB)\n",
      "Requirement already satisfied: requests>=2.31 in /Users/t65970/homebrew/opt/pyenv/versions/experiments/lib/python3.13/site-packages (from jupyterlab-server<3,>=2.27.1->jupyterlab<5.0.0a0,>=4.1.0->jupyterlab-lsp>=5.0.0->jupyterlab-sql-editor) (2.32.4)\n",
      "Collecting beautifulsoup4 (from nbconvert>=6.4.4->jupyter_server>=1.1.2->jupyter-lsp>=2.2.0->jupyterlab-sql-editor)\n",
      "  Downloading beautifulsoup4-4.13.4-py3-none-any.whl.metadata (3.8 kB)\n",
      "Collecting bleach!=5.0.0 (from bleach[css]!=5.0.0->nbconvert>=6.4.4->jupyter_server>=1.1.2->jupyter-lsp>=2.2.0->jupyterlab-sql-editor)\n",
      "  Downloading bleach-6.2.0-py3-none-any.whl.metadata (30 kB)\n",
      "Collecting defusedxml (from nbconvert>=6.4.4->jupyter_server>=1.1.2->jupyter-lsp>=2.2.0->jupyterlab-sql-editor)\n",
      "  Downloading defusedxml-0.7.1-py2.py3-none-any.whl.metadata (32 kB)\n",
      "Collecting jupyterlab-pygments (from nbconvert>=6.4.4->jupyter_server>=1.1.2->jupyter-lsp>=2.2.0->jupyterlab-sql-editor)\n",
      "  Downloading jupyterlab_pygments-0.3.0-py3-none-any.whl.metadata (4.4 kB)\n",
      "Collecting mistune<4,>=2.0.3 (from nbconvert>=6.4.4->jupyter_server>=1.1.2->jupyter-lsp>=2.2.0->jupyterlab-sql-editor)\n",
      "  Downloading mistune-3.1.3-py3-none-any.whl.metadata (1.8 kB)\n",
      "Collecting nbclient>=0.5.0 (from nbconvert>=6.4.4->jupyter_server>=1.1.2->jupyter-lsp>=2.2.0->jupyterlab-sql-editor)\n",
      "  Downloading nbclient-0.10.2-py3-none-any.whl.metadata (8.3 kB)\n",
      "Collecting pandocfilters>=1.4.1 (from nbconvert>=6.4.4->jupyter_server>=1.1.2->jupyter-lsp>=2.2.0->jupyterlab-sql-editor)\n",
      "  Downloading pandocfilters-1.5.1-py2.py3-none-any.whl.metadata (9.0 kB)\n",
      "Collecting fastjsonschema>=2.15 (from nbformat>=5.3.0->jupyter_server>=1.1.2->jupyter-lsp>=2.2.0->jupyterlab-sql-editor)\n",
      "  Downloading fastjsonschema-2.21.2-py3-none-any.whl.metadata (2.3 kB)\n",
      "Requirement already satisfied: ptyprocess>=0.5 in /Users/t65970/homebrew/opt/pyenv/versions/experiments/lib/python3.13/site-packages (from pexpect>4.3->ipython>=6.1.0->ipywidgets->jupyterlab-sql-editor) (0.7.0)\n",
      "Requirement already satisfied: wcwidth in /Users/t65970/homebrew/opt/pyenv/versions/experiments/lib/python3.13/site-packages (from prompt_toolkit<3.1.0,>=3.0.41->ipython>=6.1.0->ipywidgets->jupyterlab-sql-editor) (0.2.13)\n",
      "Collecting lark>=1.2.2 (from rfc3987-syntax>=1.1.0->jsonschema[format-nongpl]>=4.18.0->jupyter-events>=0.6.1->jupyterlab-sql-editor)\n",
      "  Downloading lark-1.2.2-py3-none-any.whl.metadata (1.8 kB)\n",
      "Collecting arrow>=0.15.0 (from isoduration->jsonschema[format-nongpl]>=4.18.0->jupyter-events>=0.6.1->jupyterlab-sql-editor)\n",
      "  Downloading arrow-1.3.0-py3-none-any.whl.metadata (7.5 kB)\n",
      "Requirement already satisfied: executing>=1.2.0 in /Users/t65970/homebrew/opt/pyenv/versions/experiments/lib/python3.13/site-packages (from stack_data->ipython>=6.1.0->ipywidgets->jupyterlab-sql-editor) (2.2.0)\n",
      "Requirement already satisfied: asttokens>=2.1.0 in /Users/t65970/homebrew/opt/pyenv/versions/experiments/lib/python3.13/site-packages (from stack_data->ipython>=6.1.0->ipywidgets->jupyterlab-sql-editor) (3.0.0)\n",
      "Requirement already satisfied: pure-eval in /Users/t65970/homebrew/opt/pyenv/versions/experiments/lib/python3.13/site-packages (from stack_data->ipython>=6.1.0->ipywidgets->jupyterlab-sql-editor) (0.2.3)\n",
      "Collecting types-python-dateutil>=2.8.10 (from arrow>=0.15.0->isoduration->jsonschema[format-nongpl]>=4.18.0->jupyter-events>=0.6.1->jupyterlab-sql-editor)\n",
      "  Downloading types_python_dateutil-2.9.0.20250809-py3-none-any.whl.metadata (1.8 kB)\n",
      "Collecting webencodings (from bleach!=5.0.0->bleach[css]!=5.0.0->nbconvert>=6.4.4->jupyter_server>=1.1.2->jupyter-lsp>=2.2.0->jupyterlab-sql-editor)\n",
      "  Downloading webencodings-0.5.1-py2.py3-none-any.whl.metadata (2.1 kB)\n",
      "Collecting tinycss2<1.5,>=1.1.0 (from bleach[css]!=5.0.0->nbconvert>=6.4.4->jupyter_server>=1.1.2->jupyter-lsp>=2.2.0->jupyterlab-sql-editor)\n",
      "  Downloading tinycss2-1.4.0-py3-none-any.whl.metadata (3.0 kB)\n",
      "Requirement already satisfied: charset_normalizer<4,>=2 in /Users/t65970/homebrew/opt/pyenv/versions/experiments/lib/python3.13/site-packages (from requests>=2.31->jupyterlab-server<3,>=2.27.1->jupyterlab<5.0.0a0,>=4.1.0->jupyterlab-lsp>=5.0.0->jupyterlab-sql-editor) (3.4.3)\n",
      "Requirement already satisfied: urllib3<3,>=1.21.1 in /Users/t65970/homebrew/opt/pyenv/versions/experiments/lib/python3.13/site-packages (from requests>=2.31->jupyterlab-server<3,>=2.27.1->jupyterlab<5.0.0a0,>=4.1.0->jupyterlab-lsp>=5.0.0->jupyterlab-sql-editor) (2.5.0)\n",
      "Collecting cffi>=1.0.1 (from argon2-cffi-bindings->argon2-cffi>=21.1->jupyter_server>=1.1.2->jupyter-lsp>=2.2.0->jupyterlab-sql-editor)\n",
      "  Downloading cffi-1.17.1-cp313-cp313-macosx_11_0_arm64.whl.metadata (1.5 kB)\n",
      "Collecting soupsieve>1.2 (from beautifulsoup4->nbconvert>=6.4.4->jupyter_server>=1.1.2->jupyter-lsp>=2.2.0->jupyterlab-sql-editor)\n",
      "  Downloading soupsieve-2.7-py3-none-any.whl.metadata (4.6 kB)\n",
      "Collecting pycparser (from cffi>=1.0.1->argon2-cffi-bindings->argon2-cffi>=21.1->jupyter_server>=1.1.2->jupyter-lsp>=2.2.0->jupyterlab-sql-editor)\n",
      "  Using cached pycparser-2.22-py3-none-any.whl.metadata (943 bytes)\n",
      "Downloading jupyterlab_sql_editor-1.6.1-py3-none-any.whl (143 kB)\n",
      "Downloading cccs_ipyaggrid-0.5.6-py2.py3-none-any.whl (9.4 MB)\n",
      "\u001b[2K   \u001b[90m━━━━━━━━━━━━━━━━━━━━━━━━━━━━━━━━━━━━━━━━\u001b[0m \u001b[32m9.4/9.4 MB\u001b[0m \u001b[31m6.0 MB/s\u001b[0m eta \u001b[36m0:00:00\u001b[0ma \u001b[36m0:00:01\u001b[0mm\n",
      "\u001b[?25hUsing cached ipywidgets-8.1.7-py3-none-any.whl (139 kB)\n",
      "Downloading jupyter_events-0.12.0-py3-none-any.whl (19 kB)\n",
      "Downloading jupyter_lsp-2.2.6-py3-none-any.whl (69 kB)\n",
      "Downloading jupyterlab_lsp-5.2.0-py3-none-any.whl (1.6 MB)\n",
      "\u001b[2K   \u001b[90m━━━━━━━━━━━━━━━━━━━━━━━━━━━━━━━━━━━━━━━━\u001b[0m \u001b[32m1.6/1.6 MB\u001b[0m \u001b[31m24.6 MB/s\u001b[0m eta \u001b[36m0:00:00\u001b[0m\n",
      "\u001b[?25hDownloading ipydatagrid-1.4.0-py3-none-any.whl (1.9 MB)\n",
      "\u001b[2K   \u001b[90m━━━━━━━━━━━━━━━━━━━━━━━━━━━━━━━━━━━━━━━━\u001b[0m \u001b[32m1.9/1.9 MB\u001b[0m \u001b[31m13.4 MB/s\u001b[0m eta \u001b[36m0:00:00\u001b[0m\n",
      "\u001b[?25hDownloading ipytree-0.2.2-py2.py3-none-any.whl (1.3 MB)\n",
      "\u001b[2K   \u001b[90m━━━━━━━━━━━━━━━━━━━━━━━━━━━━━━━━━━━━━━━━\u001b[0m \u001b[32m1.3/1.3 MB\u001b[0m \u001b[31m10.0 MB/s\u001b[0m eta \u001b[36m0:00:00\u001b[0m\n",
      "\u001b[?25hDownloading ply-3.11-py2.py3-none-any.whl (49 kB)\n",
      "Downloading sqlglotrs-0.6.1-cp313-cp313-macosx_11_0_arm64.whl (300 kB)\n",
      "Downloading autopep8-2.0.4-py2.py3-none-any.whl (45 kB)\n",
      "Downloading bqplot-0.12.45-py2.py3-none-any.whl (1.2 MB)\n",
      "\u001b[2K   \u001b[90m━━━━━━━━━━━━━━━━━━━━━━━━━━━━━━━━━━━━━━━━\u001b[0m \u001b[32m1.2/1.2 MB\u001b[0m \u001b[31m25.6 MB/s\u001b[0m eta \u001b[36m0:00:00\u001b[0m\n",
      "\u001b[?25hDownloading flake8-7.1.2-py2.py3-none-any.whl (57 kB)\n",
      "Downloading jsonschema-4.25.1-py3-none-any.whl (90 kB)\n",
      "Downloading jupyter_server-2.16.0-py3-none-any.whl (386 kB)\n",
      "Downloading jupyterlab-4.5.0a3-py3-none-any.whl (12.3 MB)\n",
      "\u001b[2K   \u001b[90m━━━━━━━━━━━━━━━━━━━━━━━━━━━━━━━━━━━━━━━━\u001b[0m \u001b[32m12.3/12.3 MB\u001b[0m \u001b[31m4.0 MB/s\u001b[0m eta \u001b[36m0:00:00\u001b[0m \u001b[36m0:00:01\u001b[0mm\n",
      "\u001b[?25hUsing cached jupyterlab_widgets-3.0.15-py3-none-any.whl (216 kB)\n",
      "Downloading mccabe-0.7.0-py2.py3-none-any.whl (7.3 kB)\n",
      "Downloading py2vega-0.6.1-py3-none-any.whl (16 kB)\n",
      "Downloading pycodestyle-2.12.1-py2.py3-none-any.whl (31 kB)\n",
      "Downloading pydocstyle-6.3.0-py3-none-any.whl (38 kB)\n",
      "Downloading pyflakes-3.2.0-py2.py3-none-any.whl (62 kB)\n",
      "Downloading pylint-3.3.8-py3-none-any.whl (523 kB)\n",
      "Downloading python_json_logger-3.3.0-py3-none-any.whl (15 kB)\n",
      "Downloading python_lsp_jsonrpc-1.1.2-py3-none-any.whl (8.8 kB)\n",
      "Downloading referencing-0.36.2-py3-none-any.whl (26 kB)\n",
      "Downloading rfc3986_validator-0.1.1-py2.py3-none-any.whl (4.2 kB)\n",
      "Downloading rope-1.14.0-py3-none-any.whl (207 kB)\n",
      "Downloading simplejson-3.20.1-cp313-cp313-macosx_11_0_arm64.whl (75 kB)\n",
      "Downloading ujson-5.10.0-cp313-cp313-macosx_11_0_arm64.whl (51 kB)\n",
      "Downloading whatthepatch-1.0.7-py3-none-any.whl (11 kB)\n",
      "Using cached widgetsnbextension-4.0.14-py3-none-any.whl (2.2 MB)\n",
      "Downloading yapf-0.43.0-py3-none-any.whl (256 kB)\n",
      "Downloading black-25.1.0-cp313-cp313-macosx_11_0_arm64.whl (1.5 MB)\n",
      "\u001b[2K   \u001b[90m━━━━━━━━━━━━━━━━━━━━━━━━━━━━━━━━━━━━━━━━\u001b[0m \u001b[32m1.5/1.5 MB\u001b[0m \u001b[31m38.2 MB/s\u001b[0m eta \u001b[36m0:00:00\u001b[0m\n",
      "\u001b[?25hDownloading docstring_to_markdown-0.17-py3-none-any.whl (23 kB)\n",
      "Downloading python_lsp_server-1.13.0-py3-none-any.whl (76 kB)\n",
      "Downloading rfc3339_validator-0.1.4-py2.py3-none-any.whl (3.5 kB)\n",
      "Downloading argon2_cffi-25.1.0-py3-none-any.whl (14 kB)\n",
      "Downloading astroid-3.3.11-py3-none-any.whl (275 kB)\n",
      "Downloading async_lru-2.0.5-py3-none-any.whl (6.1 kB)\n",
      "Downloading attrs-25.3.0-py3-none-any.whl (63 kB)\n",
      "Downloading dill-0.4.0-py3-none-any.whl (119 kB)\n",
      "Downloading gast-0.4.0-py3-none-any.whl (9.8 kB)\n",
      "Using cached httpx-0.28.1-py3-none-any.whl (73 kB)\n",
      "Using cached httpcore-1.0.9-py3-none-any.whl (78 kB)\n",
      "Downloading isort-6.0.1-py3-none-any.whl (94 kB)\n",
      "Downloading jsonpointer-3.0.0-py2.py3-none-any.whl (7.6 kB)\n",
      "Downloading jsonschema_specifications-2025.4.1-py3-none-any.whl (18 kB)\n",
      "Downloading jupyter_server_terminals-0.5.3-py3-none-any.whl (13 kB)\n",
      "Downloading jupyterlab_server-2.27.3-py3-none-any.whl (59 kB)\n",
      "Downloading mypy_extensions-1.1.0-py3-none-any.whl (5.0 kB)\n",
      "Downloading nbconvert-7.16.6-py3-none-any.whl (258 kB)\n",
      "Downloading nbformat-5.10.4-py3-none-any.whl (78 kB)\n",
      "Downloading notebook_shim-0.2.4-py3-none-any.whl (13 kB)\n",
      "Downloading overrides-7.7.0-py3-none-any.whl (17 kB)\n",
      "Using cached pathspec-0.12.1-py3-none-any.whl (31 kB)\n",
      "Downloading prometheus_client-0.22.1-py3-none-any.whl (58 kB)\n",
      "Downloading pytoolconfig-1.3.1-py3-none-any.whl (17 kB)\n",
      "Downloading rfc3987_syntax-1.1.0-py3-none-any.whl (8.0 kB)\n",
      "Downloading rpds_py-0.27.0-cp313-cp313-macosx_11_0_arm64.whl (347 kB)\n",
      "Downloading Send2Trash-1.8.3-py3-none-any.whl (18 kB)\n",
      "Using cached setuptools-80.9.0-py3-none-any.whl (1.2 MB)\n",
      "Downloading snowballstemmer-3.0.1-py3-none-any.whl (103 kB)\n",
      "Downloading terminado-0.18.1-py3-none-any.whl (14 kB)\n",
      "Downloading tomlkit-0.13.3-py3-none-any.whl (38 kB)\n",
      "Downloading traittypes-0.2.1-py2.py3-none-any.whl (8.6 kB)\n",
      "Downloading webcolors-24.11.1-py3-none-any.whl (14 kB)\n",
      "Downloading websocket_client-1.8.0-py3-none-any.whl (58 kB)\n",
      "Downloading fqdn-1.5.1-py3-none-any.whl (9.1 kB)\n",
      "Downloading isoduration-20.11.0-py3-none-any.whl (11 kB)\n",
      "Downloading uri_template-1.3.0-py3-none-any.whl (11 kB)\n",
      "Downloading arrow-1.3.0-py3-none-any.whl (66 kB)\n",
      "Downloading babel-2.17.0-py3-none-any.whl (10.2 MB)\n",
      "\u001b[2K   \u001b[90m━━━━━━━━━━━━━━━━━━━━━━━━━━━━━━━━━━━━━━━━\u001b[0m \u001b[32m10.2/10.2 MB\u001b[0m \u001b[31m37.7 MB/s\u001b[0m eta \u001b[36m0:00:00\u001b[0m \u001b[36m0:00:01\u001b[0m\n",
      "\u001b[?25hDownloading bleach-6.2.0-py3-none-any.whl (163 kB)\n",
      "Downloading fastjsonschema-2.21.2-py3-none-any.whl (24 kB)\n",
      "Downloading json5-0.12.1-py3-none-any.whl (36 kB)\n",
      "Downloading lark-1.2.2-py3-none-any.whl (111 kB)\n",
      "Downloading mistune-3.1.3-py3-none-any.whl (53 kB)\n",
      "Downloading nbclient-0.10.2-py3-none-any.whl (25 kB)\n",
      "Downloading pandocfilters-1.5.1-py2.py3-none-any.whl (8.7 kB)\n",
      "Downloading argon2_cffi_bindings-25.1.0-cp39-abi3-macosx_11_0_arm64.whl (31 kB)\n",
      "Downloading beautifulsoup4-4.13.4-py3-none-any.whl (187 kB)\n",
      "Downloading defusedxml-0.7.1-py2.py3-none-any.whl (25 kB)\n",
      "Downloading jupyterlab_pygments-0.3.0-py3-none-any.whl (15 kB)\n",
      "Downloading cffi-1.17.1-cp313-cp313-macosx_11_0_arm64.whl (178 kB)\n",
      "Downloading soupsieve-2.7-py3-none-any.whl (36 kB)\n",
      "Downloading tinycss2-1.4.0-py3-none-any.whl (26 kB)\n",
      "Downloading types_python_dateutil-2.9.0.20250809-py3-none-any.whl (17 kB)\n",
      "Downloading webencodings-0.5.1-py2.py3-none-any.whl (11 kB)\n",
      "Using cached pycparser-2.22-py3-none-any.whl (117 kB)\n",
      "Installing collected packages: webencodings, ply, fastjsonschema, yapf, widgetsnbextension, whatthepatch, websocket-client, webcolors, uri-template, ujson, types-python-dateutil, traittypes, tomlkit, tinycss2, terminado, sqlglotrs, soupsieve, snowballstemmer, simplejson, setuptools, send2trash, rpds-py, rfc3986-validator, rfc3339-validator, pytoolconfig, python-json-logger, pyflakes, pycparser, pycodestyle, prometheus-client, pathspec, pandocfilters, overrides, mypy-extensions, mistune, mccabe, lark, jupyterlab_widgets, jupyterlab-pygments, jsonpointer, json5, isort, httpcore, gast, fqdn, dill, defusedxml, bleach, babel, attrs, async-lru, astroid, rfc3987-syntax, referencing, python-lsp-jsonrpc, pylint, pydocstyle, py2vega, jupyter-server-terminals, httpx, flake8, docstring-to-markdown, cffi, black, beautifulsoup4, autopep8, arrow, rope, python-lsp-server, jsonschema-specifications, isoduration, ipywidgets, argon2-cffi-bindings, jsonschema, ipytree, cccs-ipyaggrid, bqplot, argon2-cffi, nbformat, ipydatagrid, nbclient, jupyter-events, nbconvert, jupyter_server, notebook-shim, jupyterlab-server, jupyter-lsp, jupyterlab, jupyterlab-lsp, jupyterlab-sql-editor\n",
      "Successfully installed argon2-cffi-25.1.0 argon2-cffi-bindings-25.1.0 arrow-1.3.0 astroid-3.3.11 async-lru-2.0.5 attrs-25.3.0 autopep8-2.0.4 babel-2.17.0 beautifulsoup4-4.13.4 black-25.1.0 bleach-6.2.0 bqplot-0.12.45 cccs-ipyaggrid-0.5.6 cffi-1.17.1 defusedxml-0.7.1 dill-0.4.0 docstring-to-markdown-0.17 fastjsonschema-2.21.2 flake8-7.1.2 fqdn-1.5.1 gast-0.4.0 httpcore-1.0.9 httpx-0.28.1 ipydatagrid-1.4.0 ipytree-0.2.2 ipywidgets-8.1.7 isoduration-20.11.0 isort-6.0.1 json5-0.12.1 jsonpointer-3.0.0 jsonschema-4.25.1 jsonschema-specifications-2025.4.1 jupyter-events-0.12.0 jupyter-lsp-2.2.6 jupyter-server-terminals-0.5.3 jupyter_server-2.16.0 jupyterlab-4.5.0a3 jupyterlab-lsp-5.2.0 jupyterlab-pygments-0.3.0 jupyterlab-server-2.27.3 jupyterlab-sql-editor-1.6.1 jupyterlab_widgets-3.0.15 lark-1.2.2 mccabe-0.7.0 mistune-3.1.3 mypy-extensions-1.1.0 nbclient-0.10.2 nbconvert-7.16.6 nbformat-5.10.4 notebook-shim-0.2.4 overrides-7.7.0 pandocfilters-1.5.1 pathspec-0.12.1 ply-3.11 prometheus-client-0.22.1 py2vega-0.6.1 pycodestyle-2.12.1 pycparser-2.22 pydocstyle-6.3.0 pyflakes-3.2.0 pylint-3.3.8 python-json-logger-3.3.0 python-lsp-jsonrpc-1.1.2 python-lsp-server-1.13.0 pytoolconfig-1.3.1 referencing-0.36.2 rfc3339-validator-0.1.4 rfc3986-validator-0.1.1 rfc3987-syntax-1.1.0 rope-1.14.0 rpds-py-0.27.0 send2trash-1.8.3 setuptools-80.9.0 simplejson-3.20.1 snowballstemmer-3.0.1 soupsieve-2.7 sqlglotrs-0.6.1 terminado-0.18.1 tinycss2-1.4.0 tomlkit-0.13.3 traittypes-0.2.1 types-python-dateutil-2.9.0.20250809 ujson-5.10.0 uri-template-1.3.0 webcolors-24.11.1 webencodings-0.5.1 websocket-client-1.8.0 whatthepatch-1.0.7 widgetsnbextension-4.0.14 yapf-0.43.0\n",
      "\n",
      "\u001b[1m[\u001b[0m\u001b[34;49mnotice\u001b[0m\u001b[1;39;49m]\u001b[0m\u001b[39;49m A new release of pip is available: \u001b[0m\u001b[31;49m25.0.1\u001b[0m\u001b[39;49m -> \u001b[0m\u001b[32;49m25.2\u001b[0m\n",
      "\u001b[1m[\u001b[0m\u001b[34;49mnotice\u001b[0m\u001b[1;39;49m]\u001b[0m\u001b[39;49m To update, run: \u001b[0m\u001b[32;49mpip install --upgrade pip\u001b[0m\n",
      "Note: you may need to restart the kernel to use updated packages.\n"
     ]
    }
   ],
   "source": [
    "%pip install jupyterlab-sql-editor"
   ]
  },
  {
   "cell_type": "code",
   "execution_count": 1,
   "id": "31f71f3e",
   "metadata": {},
   "outputs": [],
   "source": [
    "%load_ext sql\n"
   ]
  },
  {
   "cell_type": "code",
   "execution_count": 2,
   "id": "cd432211",
   "metadata": {},
   "outputs": [
    {
     "data": {
      "text/html": [
       "<span style=\"None\">Connecting to &#x27;sqlite:///demo.db&#x27;</span>"
      ],
      "text/plain": [
       "Connecting to 'sqlite:///demo.db'"
      ]
     },
     "metadata": {},
     "output_type": "display_data"
    }
   ],
   "source": [
    "%sql sqlite:///demo.db"
   ]
  },
  {
   "cell_type": "markdown",
   "id": "0df1039d",
   "metadata": {},
   "source": [
    "- employees\n",
    "- orders\n",
    "- sales"
   ]
  },
  {
   "cell_type": "code",
   "execution_count": 3,
   "id": "3ed5ed0a",
   "metadata": {},
   "outputs": [
    {
     "data": {
      "text/html": [
       "<span style=\"None\">Running query in &#x27;sqlite:///demo.db&#x27;</span>"
      ],
      "text/plain": [
       "Running query in 'sqlite:///demo.db'"
      ]
     },
     "metadata": {},
     "output_type": "display_data"
    },
    {
     "data": {
      "text/html": [
       "<table>\n",
       "    <thead>\n",
       "        <tr>\n",
       "            <th>emp_id</th>\n",
       "            <th>department</th>\n",
       "            <th>name</th>\n",
       "            <th>salary</th>\n",
       "            <th>hire_date</th>\n",
       "        </tr>\n",
       "    </thead>\n",
       "    <tbody>\n",
       "        <tr>\n",
       "            <td>1</td>\n",
       "            <td>HR</td>\n",
       "            <td>Alice</td>\n",
       "            <td>50000</td>\n",
       "            <td>2019-01-01</td>\n",
       "        </tr>\n",
       "        <tr>\n",
       "            <td>2</td>\n",
       "            <td>HR</td>\n",
       "            <td>Bob</td>\n",
       "            <td>52000</td>\n",
       "            <td>2020-03-15</td>\n",
       "        </tr>\n",
       "        <tr>\n",
       "            <td>3</td>\n",
       "            <td>IT</td>\n",
       "            <td>Carol</td>\n",
       "            <td>70000</td>\n",
       "            <td>2018-07-20</td>\n",
       "        </tr>\n",
       "        <tr>\n",
       "            <td>4</td>\n",
       "            <td>IT</td>\n",
       "            <td>Dave</td>\n",
       "            <td>72000</td>\n",
       "            <td>2021-02-10</td>\n",
       "        </tr>\n",
       "        <tr>\n",
       "            <td>5</td>\n",
       "            <td>IT</td>\n",
       "            <td>Eva</td>\n",
       "            <td>69000</td>\n",
       "            <td>2017-11-11</td>\n",
       "        </tr>\n",
       "    </tbody>\n",
       "</table>"
      ],
      "text/plain": [
       "+--------+------------+-------+--------+------------+\n",
       "| emp_id | department |  name | salary | hire_date  |\n",
       "+--------+------------+-------+--------+------------+\n",
       "|   1    |     HR     | Alice | 50000  | 2019-01-01 |\n",
       "|   2    |     HR     |  Bob  | 52000  | 2020-03-15 |\n",
       "|   3    |     IT     | Carol | 70000  | 2018-07-20 |\n",
       "|   4    |     IT     |  Dave | 72000  | 2021-02-10 |\n",
       "|   5    |     IT     |  Eva  | 69000  | 2017-11-11 |\n",
       "+--------+------------+-------+--------+------------+"
      ]
     },
     "execution_count": 3,
     "metadata": {},
     "output_type": "execute_result"
    }
   ],
   "source": [
    "%%sql\n",
    "select * from employees "
   ]
  },
  {
   "cell_type": "code",
   "execution_count": 4,
   "id": "84cfde10",
   "metadata": {},
   "outputs": [
    {
     "data": {
      "text/html": [
       "<span style=\"None\">Running query in &#x27;sqlite:///demo.db&#x27;</span>"
      ],
      "text/plain": [
       "Running query in 'sqlite:///demo.db'"
      ]
     },
     "metadata": {},
     "output_type": "display_data"
    },
    {
     "data": {
      "text/html": [
       "<table>\n",
       "    <thead>\n",
       "        <tr>\n",
       "            <th>order_id</th>\n",
       "            <th>user_id</th>\n",
       "            <th>status</th>\n",
       "            <th>order_date</th>\n",
       "        </tr>\n",
       "    </thead>\n",
       "    <tbody>\n",
       "        <tr>\n",
       "            <td>101</td>\n",
       "            <td>U01</td>\n",
       "            <td>shipped</td>\n",
       "            <td>2023-03-01</td>\n",
       "        </tr>\n",
       "        <tr>\n",
       "            <td>102</td>\n",
       "            <td>U01</td>\n",
       "            <td>cancelled</td>\n",
       "            <td>2023-03-05</td>\n",
       "        </tr>\n",
       "        <tr>\n",
       "            <td>103</td>\n",
       "            <td>U02</td>\n",
       "            <td>shipped</td>\n",
       "            <td>2023-03-06</td>\n",
       "        </tr>\n",
       "        <tr>\n",
       "            <td>104</td>\n",
       "            <td>U03</td>\n",
       "            <td>shipped</td>\n",
       "            <td>2023-03-07</td>\n",
       "        </tr>\n",
       "        <tr>\n",
       "            <td>105</td>\n",
       "            <td>U01</td>\n",
       "            <td>shipped</td>\n",
       "            <td>2023-03-08</td>\n",
       "        </tr>\n",
       "        <tr>\n",
       "            <td>106</td>\n",
       "            <td>U02</td>\n",
       "            <td>shipped</td>\n",
       "            <td>2023-03-10</td>\n",
       "        </tr>\n",
       "    </tbody>\n",
       "</table>"
      ],
      "text/plain": [
       "+----------+---------+-----------+------------+\n",
       "| order_id | user_id |   status  | order_date |\n",
       "+----------+---------+-----------+------------+\n",
       "|   101    |   U01   |  shipped  | 2023-03-01 |\n",
       "|   102    |   U01   | cancelled | 2023-03-05 |\n",
       "|   103    |   U02   |  shipped  | 2023-03-06 |\n",
       "|   104    |   U03   |  shipped  | 2023-03-07 |\n",
       "|   105    |   U01   |  shipped  | 2023-03-08 |\n",
       "|   106    |   U02   |  shipped  | 2023-03-10 |\n",
       "+----------+---------+-----------+------------+"
      ]
     },
     "execution_count": 4,
     "metadata": {},
     "output_type": "execute_result"
    }
   ],
   "source": [
    "%%sql \n",
    "select * from orders"
   ]
  },
  {
   "cell_type": "code",
   "execution_count": 5,
   "id": "814ea71f",
   "metadata": {},
   "outputs": [
    {
     "data": {
      "text/html": [
       "<span style=\"None\">Running query in &#x27;sqlite:///demo.db&#x27;</span>"
      ],
      "text/plain": [
       "Running query in 'sqlite:///demo.db'"
      ]
     },
     "metadata": {},
     "output_type": "display_data"
    },
    {
     "data": {
      "text/html": [
       "<table>\n",
       "    <thead>\n",
       "        <tr>\n",
       "            <th>sale_id</th>\n",
       "            <th>customer_id</th>\n",
       "            <th>product</th>\n",
       "            <th>amount</th>\n",
       "            <th>sale_date</th>\n",
       "        </tr>\n",
       "    </thead>\n",
       "    <tbody>\n",
       "        <tr>\n",
       "            <td>1</td>\n",
       "            <td>C01</td>\n",
       "            <td>Laptop</td>\n",
       "            <td>1200</td>\n",
       "            <td>2023-01-10</td>\n",
       "        </tr>\n",
       "        <tr>\n",
       "            <td>2</td>\n",
       "            <td>C02</td>\n",
       "            <td>Phone</td>\n",
       "            <td>800</td>\n",
       "            <td>2023-01-11</td>\n",
       "        </tr>\n",
       "        <tr>\n",
       "            <td>3</td>\n",
       "            <td>C01</td>\n",
       "            <td>Tablet</td>\n",
       "            <td>600</td>\n",
       "            <td>2023-01-15</td>\n",
       "        </tr>\n",
       "        <tr>\n",
       "            <td>4</td>\n",
       "            <td>C03</td>\n",
       "            <td>Laptop</td>\n",
       "            <td>1300</td>\n",
       "            <td>2023-02-01</td>\n",
       "        </tr>\n",
       "        <tr>\n",
       "            <td>5</td>\n",
       "            <td>C02</td>\n",
       "            <td>Laptop</td>\n",
       "            <td>1250</td>\n",
       "            <td>2023-02-05</td>\n",
       "        </tr>\n",
       "        <tr>\n",
       "            <td>6</td>\n",
       "            <td>C01</td>\n",
       "            <td>Phone</td>\n",
       "            <td>700</td>\n",
       "            <td>2023-02-10</td>\n",
       "        </tr>\n",
       "    </tbody>\n",
       "</table>"
      ],
      "text/plain": [
       "+---------+-------------+---------+--------+------------+\n",
       "| sale_id | customer_id | product | amount | sale_date  |\n",
       "+---------+-------------+---------+--------+------------+\n",
       "|    1    |     C01     |  Laptop |  1200  | 2023-01-10 |\n",
       "|    2    |     C02     |  Phone  |  800   | 2023-01-11 |\n",
       "|    3    |     C01     |  Tablet |  600   | 2023-01-15 |\n",
       "|    4    |     C03     |  Laptop |  1300  | 2023-02-01 |\n",
       "|    5    |     C02     |  Laptop |  1250  | 2023-02-05 |\n",
       "|    6    |     C01     |  Phone  |  700   | 2023-02-10 |\n",
       "+---------+-------------+---------+--------+------------+"
      ]
     },
     "execution_count": 5,
     "metadata": {},
     "output_type": "execute_result"
    }
   ],
   "source": [
    "%%sql \n",
    "select * from sales"
   ]
  },
  {
   "cell_type": "markdown",
   "id": "b7646114",
   "metadata": {},
   "source": [
    "### example question\n",
    "For each customer, show their total spending — but still list each individual sale\n",
    "\n",
    "Use tables: \n",
    "- sales"
   ]
  },
  {
   "cell_type": "code",
   "execution_count": null,
   "id": "129e7940",
   "metadata": {},
   "outputs": [
    {
     "data": {
      "text/html": [
       "<span style=\"None\">Running query in &#x27;sqlite:///demo.db&#x27;</span>"
      ],
      "text/plain": [
       "Running query in 'sqlite:///demo.db'"
      ]
     },
     "metadata": {},
     "output_type": "display_data"
    },
    {
     "data": {
      "text/html": [
       "<table>\n",
       "    <thead>\n",
       "        <tr>\n",
       "            <th>customer_id</th>\n",
       "            <th>total_consumed_per_costumer</th>\n",
       "        </tr>\n",
       "    </thead>\n",
       "    <tbody>\n",
       "        <tr>\n",
       "            <td>C01</td>\n",
       "            <td>2500</td>\n",
       "        </tr>\n",
       "        <tr>\n",
       "            <td>C01</td>\n",
       "            <td>2500</td>\n",
       "        </tr>\n",
       "        <tr>\n",
       "            <td>C01</td>\n",
       "            <td>2500</td>\n",
       "        </tr>\n",
       "        <tr>\n",
       "            <td>C02</td>\n",
       "            <td>2050</td>\n",
       "        </tr>\n",
       "        <tr>\n",
       "            <td>C02</td>\n",
       "            <td>2050</td>\n",
       "        </tr>\n",
       "        <tr>\n",
       "            <td>C03</td>\n",
       "            <td>1300</td>\n",
       "        </tr>\n",
       "    </tbody>\n",
       "</table>"
      ],
      "text/plain": [
       "+-------------+-----------------------------+\n",
       "| customer_id | total_consumed_per_costumer |\n",
       "+-------------+-----------------------------+\n",
       "|     C01     |             2500            |\n",
       "|     C01     |             2500            |\n",
       "|     C01     |             2500            |\n",
       "|     C02     |             2050            |\n",
       "|     C02     |             2050            |\n",
       "|     C03     |             1300            |\n",
       "+-------------+-----------------------------+"
      ]
     },
     "execution_count": 13,
     "metadata": {},
     "output_type": "execute_result"
    }
   ],
   "source": [
    "%%sql\n",
    "select \n",
    "    customer_id,\n",
    "    sum(amount) over (partition by customer_id) as total_consumed_per_costumer\n",
    "from sales"
   ]
  },
  {
   "cell_type": "markdown",
   "id": "be4da24c",
   "metadata": {},
   "source": [
    "### Example question\n",
    "Task: For each customer, rank their purchases by amount (largest = rank 1).\n",
    "\n",
    "Tables to use: \n",
    "- sales"
   ]
  },
  {
   "cell_type": "code",
   "execution_count": 34,
   "id": "1a2c2cbc",
   "metadata": {},
   "outputs": [
    {
     "data": {
      "text/html": [
       "<span style=\"None\">Running query in &#x27;sqlite:///demo.db&#x27;</span>"
      ],
      "text/plain": [
       "Running query in 'sqlite:///demo.db'"
      ]
     },
     "metadata": {},
     "output_type": "display_data"
    },
    {
     "data": {
      "text/html": [
       "<table>\n",
       "    <thead>\n",
       "        <tr>\n",
       "            <th>customer_id</th>\n",
       "            <th>sale_id</th>\n",
       "            <th>amount</th>\n",
       "            <th>rank_in_customer</th>\n",
       "        </tr>\n",
       "    </thead>\n",
       "    <tbody>\n",
       "        <tr>\n",
       "            <td>C01</td>\n",
       "            <td>1</td>\n",
       "            <td>1200</td>\n",
       "            <td>1</td>\n",
       "        </tr>\n",
       "        <tr>\n",
       "            <td>C01</td>\n",
       "            <td>6</td>\n",
       "            <td>700</td>\n",
       "            <td>2</td>\n",
       "        </tr>\n",
       "        <tr>\n",
       "            <td>C01</td>\n",
       "            <td>3</td>\n",
       "            <td>600</td>\n",
       "            <td>3</td>\n",
       "        </tr>\n",
       "        <tr>\n",
       "            <td>C02</td>\n",
       "            <td>5</td>\n",
       "            <td>1250</td>\n",
       "            <td>1</td>\n",
       "        </tr>\n",
       "        <tr>\n",
       "            <td>C02</td>\n",
       "            <td>2</td>\n",
       "            <td>800</td>\n",
       "            <td>2</td>\n",
       "        </tr>\n",
       "        <tr>\n",
       "            <td>C03</td>\n",
       "            <td>4</td>\n",
       "            <td>1300</td>\n",
       "            <td>1</td>\n",
       "        </tr>\n",
       "    </tbody>\n",
       "</table>"
      ],
      "text/plain": [
       "+-------------+---------+--------+------------------+\n",
       "| customer_id | sale_id | amount | rank_in_customer |\n",
       "+-------------+---------+--------+------------------+\n",
       "|     C01     |    1    |  1200  |        1         |\n",
       "|     C01     |    6    |  700   |        2         |\n",
       "|     C01     |    3    |  600   |        3         |\n",
       "|     C02     |    5    |  1250  |        1         |\n",
       "|     C02     |    2    |  800   |        2         |\n",
       "|     C03     |    4    |  1300  |        1         |\n",
       "+-------------+---------+--------+------------------+"
      ]
     },
     "execution_count": 34,
     "metadata": {},
     "output_type": "execute_result"
    }
   ],
   "source": [
    "%%sql\n",
    "SELECT \n",
    "    customer_id,\n",
    "    sale_id,\n",
    "    amount,\n",
    "    RANK() OVER (PARTITION BY customer_id ORDER BY amount DESC) AS rank_in_customer\n",
    "FROM sales"
   ]
  },
  {
   "cell_type": "markdown",
   "id": "3ebb2f79",
   "metadata": {},
   "source": [
    "## switching to duckDB"
   ]
  },
  {
   "cell_type": "code",
   "execution_count": 35,
   "id": "6e1688de",
   "metadata": {},
   "outputs": [
    {
     "name": "stdout",
     "output_type": "stream",
     "text": [
      "Collecting duckdb\n",
      "  Downloading duckdb-1.3.2-cp313-cp313-macosx_12_0_arm64.whl.metadata (7.0 kB)\n",
      "Downloading duckdb-1.3.2-cp313-cp313-macosx_12_0_arm64.whl (15.5 MB)\n",
      "\u001b[2K   \u001b[90m━━━━━━━━━━━━━━━━━━━━━━━━━━━━━━━━━━━━━━━━\u001b[0m \u001b[32m15.5/15.5 MB\u001b[0m \u001b[31m31.4 MB/s\u001b[0m eta \u001b[36m0:00:00\u001b[0ma \u001b[36m0:00:01\u001b[0m\n",
      "\u001b[?25hInstalling collected packages: duckdb\n",
      "Successfully installed duckdb-1.3.2\n",
      "\n",
      "\u001b[1m[\u001b[0m\u001b[34;49mnotice\u001b[0m\u001b[1;39;49m]\u001b[0m\u001b[39;49m A new release of pip is available: \u001b[0m\u001b[31;49m25.0.1\u001b[0m\u001b[39;49m -> \u001b[0m\u001b[32;49m25.2\u001b[0m\n",
      "\u001b[1m[\u001b[0m\u001b[34;49mnotice\u001b[0m\u001b[1;39;49m]\u001b[0m\u001b[39;49m To update, run: \u001b[0m\u001b[32;49mpip install --upgrade pip\u001b[0m\n",
      "Note: you may need to restart the kernel to use updated packages.\n"
     ]
    }
   ],
   "source": [
    "%pip install duckdb\n"
   ]
  },
  {
   "cell_type": "code",
   "execution_count": 39,
   "id": "675e2335",
   "metadata": {},
   "outputs": [
    {
     "name": "stdout",
     "output_type": "stream",
     "text": [
      "Collecting duckdb-engine\n",
      "  Downloading duckdb_engine-0.17.0-py3-none-any.whl.metadata (8.4 kB)\n",
      "Requirement already satisfied: duckdb>=0.5.0 in /Users/t65970/homebrew/opt/pyenv/versions/experiments/lib/python3.13/site-packages (from duckdb-engine) (1.3.2)\n",
      "Requirement already satisfied: packaging>=21 in /Users/t65970/homebrew/opt/pyenv/versions/experiments/lib/python3.13/site-packages (from duckdb-engine) (25.0)\n",
      "Requirement already satisfied: sqlalchemy>=1.3.22 in /Users/t65970/homebrew/opt/pyenv/versions/experiments/lib/python3.13/site-packages (from duckdb-engine) (2.0.42)\n",
      "Requirement already satisfied: typing-extensions>=4.6.0 in /Users/t65970/homebrew/opt/pyenv/versions/experiments/lib/python3.13/site-packages (from sqlalchemy>=1.3.22->duckdb-engine) (4.14.1)\n",
      "Downloading duckdb_engine-0.17.0-py3-none-any.whl (49 kB)\n",
      "Installing collected packages: duckdb-engine\n",
      "Successfully installed duckdb-engine-0.17.0\n",
      "\n",
      "\u001b[1m[\u001b[0m\u001b[34;49mnotice\u001b[0m\u001b[1;39;49m]\u001b[0m\u001b[39;49m A new release of pip is available: \u001b[0m\u001b[31;49m25.0.1\u001b[0m\u001b[39;49m -> \u001b[0m\u001b[32;49m25.2\u001b[0m\n",
      "\u001b[1m[\u001b[0m\u001b[34;49mnotice\u001b[0m\u001b[1;39;49m]\u001b[0m\u001b[39;49m To update, run: \u001b[0m\u001b[32;49mpip install --upgrade pip\u001b[0m\n",
      "Note: you may need to restart the kernel to use updated packages.\n"
     ]
    }
   ],
   "source": [
    "%pip install duckdb-engine\n"
   ]
  },
  {
   "cell_type": "code",
   "execution_count": 40,
   "id": "5b18a7ce",
   "metadata": {},
   "outputs": [
    {
     "name": "stdout",
     "output_type": "stream",
     "text": [
      "The sql extension is already loaded. To reload it, use:\n",
      "  %reload_ext sql\n"
     ]
    }
   ],
   "source": [
    "%load_ext sql"
   ]
  },
  {
   "cell_type": "code",
   "execution_count": 41,
   "id": "55955308",
   "metadata": {},
   "outputs": [
    {
     "data": {
      "text/html": [
       "<span style=\"None\">Connecting and switching to connection &#x27;duckdb:///:memory:&#x27;</span>"
      ],
      "text/plain": [
       "Connecting and switching to connection 'duckdb:///:memory:'"
      ]
     },
     "metadata": {},
     "output_type": "display_data"
    }
   ],
   "source": [
    "%sql duckdb:///:memory:"
   ]
  },
  {
   "cell_type": "markdown",
   "id": "ee0aa0f3",
   "metadata": {},
   "source": [
    "create table again"
   ]
  },
  {
   "cell_type": "code",
   "execution_count": 43,
   "id": "a516121e",
   "metadata": {},
   "outputs": [
    {
     "data": {
      "text/html": [
       "<span style=\"None\">Running query in &#x27;duckdb:///:memory:&#x27;</span>"
      ],
      "text/plain": [
       "Running query in 'duckdb:///:memory:'"
      ]
     },
     "metadata": {},
     "output_type": "display_data"
    },
    {
     "data": {
      "text/html": [
       "<table>\n",
       "    <thead>\n",
       "        <tr>\n",
       "            <th>Count</th>\n",
       "        </tr>\n",
       "    </thead>\n",
       "    <tbody>\n",
       "    </tbody>\n",
       "</table>"
      ],
      "text/plain": [
       "+-------+\n",
       "| Count |\n",
       "+-------+\n",
       "+-------+"
      ]
     },
     "execution_count": 43,
     "metadata": {},
     "output_type": "execute_result"
    }
   ],
   "source": [
    "%%sql\n",
    "CREATE TABLE sales (\n",
    "    sale_id INT,\n",
    "    customer_id VARCHAR,\n",
    "    product VARCHAR,\n",
    "    amount INT,\n",
    "    sale_date DATE\n",
    ");\n",
    "\n",
    "INSERT INTO sales VALUES\n",
    "(1, 'C01', 'Laptop', 1200, '2023-01-10'),\n",
    "(2, 'C02', 'Phone', 800, '2023-01-11'),\n",
    "(3, 'C01', 'Tablet', 600, '2023-01-15'),\n",
    "(4, 'C03', 'Laptop', 1300, '2023-02-01'),\n",
    "(5, 'C02', 'Laptop', 1250, '2023-02-05'),\n",
    "(6, 'C01', 'Phone', 700, '2023-02-10');\n"
   ]
  },
  {
   "cell_type": "code",
   "execution_count": 47,
   "id": "9ea0410b",
   "metadata": {},
   "outputs": [
    {
     "data": {
      "text/html": [
       "<span style=\"None\">Running query in &#x27;duckdb:///:memory:&#x27;</span>"
      ],
      "text/plain": [
       "Running query in 'duckdb:///:memory:'"
      ]
     },
     "metadata": {},
     "output_type": "display_data"
    },
    {
     "data": {
      "text/html": [
       "<table>\n",
       "    <thead>\n",
       "        <tr>\n",
       "            <th>customer_id</th>\n",
       "            <th>sale_id</th>\n",
       "            <th>amount</th>\n",
       "            <th>rank_in_customer</th>\n",
       "        </tr>\n",
       "    </thead>\n",
       "    <tbody>\n",
       "        <tr>\n",
       "            <td>C01</td>\n",
       "            <td>1</td>\n",
       "            <td>1200</td>\n",
       "            <td>1</td>\n",
       "        </tr>\n",
       "        <tr>\n",
       "            <td>C03</td>\n",
       "            <td>4</td>\n",
       "            <td>1300</td>\n",
       "            <td>1</td>\n",
       "        </tr>\n",
       "        <tr>\n",
       "            <td>C02</td>\n",
       "            <td>5</td>\n",
       "            <td>1250</td>\n",
       "            <td>1</td>\n",
       "        </tr>\n",
       "    </tbody>\n",
       "</table>"
      ],
      "text/plain": [
       "+-------------+---------+--------+------------------+\n",
       "| customer_id | sale_id | amount | rank_in_customer |\n",
       "+-------------+---------+--------+------------------+\n",
       "|     C01     |    1    |  1200  |        1         |\n",
       "|     C03     |    4    |  1300  |        1         |\n",
       "|     C02     |    5    |  1250  |        1         |\n",
       "+-------------+---------+--------+------------------+"
      ]
     },
     "execution_count": 47,
     "metadata": {},
     "output_type": "execute_result"
    }
   ],
   "source": [
    "%%sql\n",
    "SELECT \n",
    "    customer_id,\n",
    "    sale_id,\n",
    "    amount,\n",
    "    RANK() OVER (PARTITION BY customer_id ORDER BY amount DESC) AS rank_in_customer\n",
    "FROM sales\n",
    "QUALIFY rank_in_customer = 1;"
   ]
  },
  {
   "cell_type": "markdown",
   "id": "f073b14c",
   "metadata": {},
   "source": [
    "### Task: \n",
    "Find the most recent order per user from the orders table"
   ]
  },
  {
   "cell_type": "code",
   "execution_count": 54,
   "id": "84aa5de7",
   "metadata": {},
   "outputs": [
    {
     "data": {
      "text/html": [
       "<span style=\"None\">Running query in &#x27;duckdb:///:memory:&#x27;</span>"
      ],
      "text/plain": [
       "Running query in 'duckdb:///:memory:'"
      ]
     },
     "metadata": {},
     "output_type": "display_data"
    },
    {
     "data": {
      "text/html": [
       "<table>\n",
       "    <thead>\n",
       "        <tr>\n",
       "            <th>order_id</th>\n",
       "            <th>user_id</th>\n",
       "            <th>status</th>\n",
       "            <th>order_date</th>\n",
       "        </tr>\n",
       "    </thead>\n",
       "    <tbody>\n",
       "        <tr>\n",
       "            <td>101</td>\n",
       "            <td>U01</td>\n",
       "            <td>shipped</td>\n",
       "            <td>2023-03-01</td>\n",
       "        </tr>\n",
       "        <tr>\n",
       "            <td>102</td>\n",
       "            <td>U01</td>\n",
       "            <td>cancelled</td>\n",
       "            <td>2023-03-05</td>\n",
       "        </tr>\n",
       "        <tr>\n",
       "            <td>103</td>\n",
       "            <td>U02</td>\n",
       "            <td>shipped</td>\n",
       "            <td>2023-03-06</td>\n",
       "        </tr>\n",
       "        <tr>\n",
       "            <td>104</td>\n",
       "            <td>U03</td>\n",
       "            <td>shipped</td>\n",
       "            <td>2023-03-07</td>\n",
       "        </tr>\n",
       "        <tr>\n",
       "            <td>105</td>\n",
       "            <td>U01</td>\n",
       "            <td>shipped</td>\n",
       "            <td>2023-03-08</td>\n",
       "        </tr>\n",
       "        <tr>\n",
       "            <td>106</td>\n",
       "            <td>U02</td>\n",
       "            <td>shipped</td>\n",
       "            <td>2023-03-10</td>\n",
       "        </tr>\n",
       "    </tbody>\n",
       "</table>"
      ],
      "text/plain": [
       "+----------+---------+-----------+------------+\n",
       "| order_id | user_id |   status  | order_date |\n",
       "+----------+---------+-----------+------------+\n",
       "|   101    |   U01   |  shipped  | 2023-03-01 |\n",
       "|   102    |   U01   | cancelled | 2023-03-05 |\n",
       "|   103    |   U02   |  shipped  | 2023-03-06 |\n",
       "|   104    |   U03   |  shipped  | 2023-03-07 |\n",
       "|   105    |   U01   |  shipped  | 2023-03-08 |\n",
       "|   106    |   U02   |  shipped  | 2023-03-10 |\n",
       "+----------+---------+-----------+------------+"
      ]
     },
     "execution_count": 54,
     "metadata": {},
     "output_type": "execute_result"
    }
   ],
   "source": [
    "%%sql\n",
    "select * from orders "
   ]
  },
  {
   "cell_type": "code",
   "execution_count": null,
   "id": "96351f39",
   "metadata": {},
   "outputs": [
    {
     "data": {
      "text/html": [
       "<span style=\"None\">Running query in &#x27;duckdb:///:memory:&#x27;</span>"
      ],
      "text/plain": [
       "Running query in 'duckdb:///:memory:'"
      ]
     },
     "metadata": {},
     "output_type": "display_data"
    },
    {
     "data": {
      "text/html": [
       "<table>\n",
       "    <thead>\n",
       "        <tr>\n",
       "            <th>customer_id</th>\n",
       "            <th>sale_date</th>\n",
       "            <th>rank_date</th>\n",
       "        </tr>\n",
       "    </thead>\n",
       "    <tbody>\n",
       "        <tr>\n",
       "            <td>C02</td>\n",
       "            <td>2023-01-11</td>\n",
       "            <td>1</td>\n",
       "        </tr>\n",
       "        <tr>\n",
       "            <td>C01</td>\n",
       "            <td>2023-01-10</td>\n",
       "            <td>1</td>\n",
       "        </tr>\n",
       "        <tr>\n",
       "            <td>C03</td>\n",
       "            <td>2023-02-01</td>\n",
       "            <td>1</td>\n",
       "        </tr>\n",
       "    </tbody>\n",
       "</table>"
      ],
      "text/plain": [
       "+-------------+------------+-----------+\n",
       "| customer_id | sale_date  | rank_date |\n",
       "+-------------+------------+-----------+\n",
       "|     C02     | 2023-01-11 |     1     |\n",
       "|     C01     | 2023-01-10 |     1     |\n",
       "|     C03     | 2023-02-01 |     1     |\n",
       "+-------------+------------+-----------+"
      ]
     },
     "execution_count": 51,
     "metadata": {},
     "output_type": "execute_result"
    }
   ],
   "source": [
    "%%sql\n",
    "SELECT\n",
    "    customer_id,\n",
    "    sale_date,\n",
    "    RANK() OVER (PARTITION BY customer_id ORDER BY sale_date DESC) as rank_date \n",
    "FROM orders \n",
    "QUALIFY rank_date = 1"
   ]
  },
  {
   "cell_type": "markdown",
   "id": "42f2d760",
   "metadata": {},
   "source": [
    "## Task: \n",
    "Find the highest-paid employee in each department. Use the table of `employees`"
   ]
  },
  {
   "cell_type": "code",
   "execution_count": 59,
   "id": "d745c58c",
   "metadata": {},
   "outputs": [
    {
     "data": {
      "text/html": [
       "<span style=\"None\">Running query in &#x27;duckdb:///:memory:&#x27;</span>"
      ],
      "text/plain": [
       "Running query in 'duckdb:///:memory:'"
      ]
     },
     "metadata": {},
     "output_type": "display_data"
    },
    {
     "data": {
      "text/html": [
       "<table>\n",
       "    <thead>\n",
       "        <tr>\n",
       "            <th>emp_id</th>\n",
       "            <th>highest_paid</th>\n",
       "        </tr>\n",
       "    </thead>\n",
       "    <tbody>\n",
       "        <tr>\n",
       "            <td>13</td>\n",
       "            <td>1</td>\n",
       "        </tr>\n",
       "        <tr>\n",
       "            <td>8</td>\n",
       "            <td>1</td>\n",
       "        </tr>\n",
       "        <tr>\n",
       "            <td>3</td>\n",
       "            <td>1</td>\n",
       "        </tr>\n",
       "    </tbody>\n",
       "</table>"
      ],
      "text/plain": [
       "+--------+--------------+\n",
       "| emp_id | highest_paid |\n",
       "+--------+--------------+\n",
       "|   13   |      1       |\n",
       "|   8    |      1       |\n",
       "|   3    |      1       |\n",
       "+--------+--------------+"
      ]
     },
     "execution_count": 59,
     "metadata": {},
     "output_type": "execute_result"
    }
   ],
   "source": [
    "%%sql \n",
    "select \n",
    "    emp_id,\n",
    "    rank() over (partition by department order by salary desc) highest_paid\n",
    "from employees\n",
    "qualify highest_paid = 1"
   ]
  },
  {
   "cell_type": "markdown",
   "id": "5d30207c",
   "metadata": {},
   "source": [
    "**follow up**: Instead of just the highest-paid, let’s pull the top 2 earners per department"
   ]
  },
  {
   "cell_type": "code",
   "execution_count": 60,
   "id": "16fc91ec",
   "metadata": {},
   "outputs": [
    {
     "data": {
      "text/html": [
       "<span style=\"None\">Running query in &#x27;duckdb:///:memory:&#x27;</span>"
      ],
      "text/plain": [
       "Running query in 'duckdb:///:memory:'"
      ]
     },
     "metadata": {},
     "output_type": "display_data"
    },
    {
     "data": {
      "text/html": [
       "<table>\n",
       "    <thead>\n",
       "        <tr>\n",
       "            <th>emp_id</th>\n",
       "            <th>department</th>\n",
       "            <th>name</th>\n",
       "            <th>salary</th>\n",
       "            <th>hire_date</th>\n",
       "        </tr>\n",
       "    </thead>\n",
       "    <tbody>\n",
       "        <tr>\n",
       "            <td>1</td>\n",
       "            <td>HR</td>\n",
       "            <td>Alice</td>\n",
       "            <td>50000</td>\n",
       "            <td>2019-01-01</td>\n",
       "        </tr>\n",
       "        <tr>\n",
       "            <td>2</td>\n",
       "            <td>HR</td>\n",
       "            <td>Bob</td>\n",
       "            <td>52000</td>\n",
       "            <td>2020-03-15</td>\n",
       "        </tr>\n",
       "        <tr>\n",
       "            <td>3</td>\n",
       "            <td>HR</td>\n",
       "            <td>Maya</td>\n",
       "            <td>54000</td>\n",
       "            <td>2021-06-10</td>\n",
       "        </tr>\n",
       "        <tr>\n",
       "            <td>4</td>\n",
       "            <td>HR</td>\n",
       "            <td>Luis</td>\n",
       "            <td>51000</td>\n",
       "            <td>2022-09-20</td>\n",
       "        </tr>\n",
       "        <tr>\n",
       "            <td>5</td>\n",
       "            <td>IT</td>\n",
       "            <td>Carol</td>\n",
       "            <td>70000</td>\n",
       "            <td>2018-07-20</td>\n",
       "        </tr>\n",
       "    </tbody>\n",
       "</table>"
      ],
      "text/plain": [
       "+--------+------------+-------+--------+------------+\n",
       "| emp_id | department |  name | salary | hire_date  |\n",
       "+--------+------------+-------+--------+------------+\n",
       "|   1    |     HR     | Alice | 50000  | 2019-01-01 |\n",
       "|   2    |     HR     |  Bob  | 52000  | 2020-03-15 |\n",
       "|   3    |     HR     |  Maya | 54000  | 2021-06-10 |\n",
       "|   4    |     HR     |  Luis | 51000  | 2022-09-20 |\n",
       "|   5    |     IT     | Carol | 70000  | 2018-07-20 |\n",
       "+--------+------------+-------+--------+------------+"
      ]
     },
     "execution_count": 60,
     "metadata": {},
     "output_type": "execute_result"
    }
   ],
   "source": [
    "%%sql \n",
    "select * from employees limit 5 "
   ]
  },
  {
   "cell_type": "code",
   "execution_count": 73,
   "id": "4ab99171",
   "metadata": {},
   "outputs": [
    {
     "data": {
      "text/html": [
       "<span style=\"None\">Running query in &#x27;duckdb:///:memory:&#x27;</span>"
      ],
      "text/plain": [
       "Running query in 'duckdb:///:memory:'"
      ]
     },
     "metadata": {},
     "output_type": "display_data"
    },
    {
     "data": {
      "text/html": [
       "<table>\n",
       "    <thead>\n",
       "        <tr>\n",
       "            <th>emp_id</th>\n",
       "            <th>salary</th>\n",
       "            <th>department</th>\n",
       "            <th>highest_salary</th>\n",
       "        </tr>\n",
       "    </thead>\n",
       "    <tbody>\n",
       "        <tr>\n",
       "            <td>3</td>\n",
       "            <td>54000</td>\n",
       "            <td>HR</td>\n",
       "            <td>1</td>\n",
       "        </tr>\n",
       "        <tr>\n",
       "            <td>2</td>\n",
       "            <td>52000</td>\n",
       "            <td>HR</td>\n",
       "            <td>2</td>\n",
       "        </tr>\n",
       "        <tr>\n",
       "            <td>13</td>\n",
       "            <td>68000</td>\n",
       "            <td>Finance</td>\n",
       "            <td>1</td>\n",
       "        </tr>\n",
       "        <tr>\n",
       "            <td>12</td>\n",
       "            <td>66000</td>\n",
       "            <td>Finance</td>\n",
       "            <td>2</td>\n",
       "        </tr>\n",
       "        <tr>\n",
       "            <td>8</td>\n",
       "            <td>73000</td>\n",
       "            <td>IT</td>\n",
       "            <td>1</td>\n",
       "        </tr>\n",
       "        <tr>\n",
       "            <td>6</td>\n",
       "            <td>72000</td>\n",
       "            <td>IT</td>\n",
       "            <td>2</td>\n",
       "        </tr>\n",
       "    </tbody>\n",
       "</table>"
      ],
      "text/plain": [
       "+--------+--------+------------+----------------+\n",
       "| emp_id | salary | department | highest_salary |\n",
       "+--------+--------+------------+----------------+\n",
       "|   3    | 54000  |     HR     |       1        |\n",
       "|   2    | 52000  |     HR     |       2        |\n",
       "|   13   | 68000  |  Finance   |       1        |\n",
       "|   12   | 66000  |  Finance   |       2        |\n",
       "|   8    | 73000  |     IT     |       1        |\n",
       "|   6    | 72000  |     IT     |       2        |\n",
       "+--------+--------+------------+----------------+"
      ]
     },
     "execution_count": 73,
     "metadata": {},
     "output_type": "execute_result"
    }
   ],
   "source": [
    "%%sql\n",
    "select\n",
    "    emp_id,\n",
    "    salary,\n",
    "    department,\n",
    "    row_number() over (partition by department order by salary desc) as highest_salary\n",
    "from employees\n",
    "qualify highest_salary<=2"
   ]
  }
 ],
 "metadata": {
  "kernelspec": {
   "display_name": "experiments",
   "language": "python",
   "name": "python3"
  },
  "language_info": {
   "codemirror_mode": {
    "name": "ipython",
    "version": 3
   },
   "file_extension": ".py",
   "mimetype": "text/x-python",
   "name": "python",
   "nbconvert_exporter": "python",
   "pygments_lexer": "ipython3",
   "version": "3.13.3"
  }
 },
 "nbformat": 4,
 "nbformat_minor": 5
}
