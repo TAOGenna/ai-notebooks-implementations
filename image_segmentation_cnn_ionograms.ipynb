{
 "cells": [
  {
   "cell_type": "code",
   "execution_count": 18,
   "metadata": {},
   "outputs": [
    {
     "name": "stdout",
     "output_type": "stream",
     "text": [
      "857\n",
      "JM91J_2016184204804_AA.png\n",
      "(512, 408, 4)\n"
     ]
    }
   ],
   "source": [
    "from PIL import Image\n",
    "import io\n",
    "import zipfile\n",
    "import os\n",
    "import numpy as np\n",
    "\n",
    "def open_image_from_zip(file_path):\n",
    "    if os.path.isfile(file_path):\n",
    "        with zipfile.ZipFile(file_path, 'r') as zip_ref:\n",
    "            file_names = zip_ref.namelist()\n",
    "            print(len(file_names))\n",
    "            print(file_names[-1])\n",
    "            # Assuming the file is an image\n",
    "            with zip_ref.open(file_names[0]) as file:\n",
    "                # Use PIL to open the image from a byte stream\n",
    "                image = Image.open(io.BytesIO(file.read()))\n",
    "                # Convert the image to a numpy array\n",
    "                return np.array(image)\n",
    "    else:\n",
    "        print(f\"File {file_path} does not exist.\")\n",
    "        return None\n",
    "\n",
    "# Example usage\n",
    "image_content = open_image_from_zip(\"training_sets/manually_segmented_ionograms.zip\")\n",
    "print(image_content.shape)\n"
   ]
  },
  {
   "cell_type": "code",
   "execution_count": 13,
   "metadata": {},
   "outputs": [
    {
     "data": {
      "image/png": "[encoded data removed]",
      "text/plain": [
       "<Figure size 640x480 with 1 Axes>"
      ]
     },
     "metadata": {},
     "output_type": "display_data"
    }
   ],
   "source": [
    "import matplotlib.pyplot as plt\n",
    "def rgba_to_grayscale(image_array):\n",
    "    # Extract the RGB channels (ignore the alpha channel)\n",
    "    rgb_image = image_array[:, :, :3]\n",
    "    # Convert to grayscale using the luminosity method\n",
    "    grayscale_image = np.dot(rgb_image[..., :3], [0.2989, 0.5870, 0.1140])\n",
    "    return grayscale_image.astype(np.uint8)\n",
    "\n",
    "def display_image_grayscale(image_array):\n",
    "    # Display the grayscale image using the 'gray' colormap\n",
    "    plt.imshow(image_array, cmap='gray')\n",
    "    plt.axis('off')  # Hide axis labels\n",
    "    plt.show()\n",
    "\n",
    "# Example usage\n",
    "grayscale_image_content = rgba_to_grayscale(image_content)\n",
    "display_image_grayscale(grayscale_image_content)"
   ]
  },
  {
   "cell_type": "code",
   "execution_count": 22,
   "metadata": {},
   "outputs": [
    {
     "name": "stdout",
     "output_type": "stream",
     "text": [
      "NpzFile 'training_sets/binary_npz_converted/JM91J_2016001150304_converted.npz' with keys: oPower\n",
      "Array name: oPower\n",
      "[[0. 0. 0. ... 0. 0. 0.]\n",
      " [0. 0. 0. ... 0. 0. 0.]\n",
      " [0. 0. 0. ... 0. 0. 0.]\n",
      " ...\n",
      " [0. 0. 0. ... 0. 0. 0.]\n",
      " [0. 0. 0. ... 0. 0. 0.]\n",
      " [0. 0. 0. ... 0. 0. 0.]]\n"
     ]
    }
   ],
   "source": [
    "\n",
    "def load_npz_file(file_path):\n",
    "    # Load the .npz file\n",
    "    data = np.load(file_path)\n",
    "    print(data)\n",
    "    # Iterate over each array stored in the file and print its name and content\n",
    "    for key, array in data.items():\n",
    "        print(f\"Array name: {key}\")\n",
    "        print(array)\n",
    "\n",
    "# Example usage:\n",
    "file_path = 'training_sets/binary_npz_converted/JM91J_2016001150304_converted.npz'\n",
    "load_npz_file(file_path)"
   ]
  },
  {
   "cell_type": "code",
   "execution_count": null,
   "metadata": {},
   "outputs": [],
   "source": []
  }
 ],
 "metadata": {
  "kernelspec": {
   "display_name": "Python 3",
   "language": "python",
   "name": "python3"
  },
  "language_info": {
   "codemirror_mode": {
    "name": "ipython",
    "version": 3
   },
   "file_extension": ".py",
   "mimetype": "text/x-python",
   "name": "python",
   "nbconvert_exporter": "python",
   "pygments_lexer": "ipython3",
   "version": "3.10.12"
  }
 },
 "nbformat": 4,
 "nbformat_minor": 2
}
