{
 "cells": [
  {
   "cell_type": "markdown",
   "metadata": {},
   "source": [
    "# Small Image Search Engine"
   ]
  },
  {
   "cell_type": "markdown",
   "metadata": {},
   "source": [
    "### Plan \n",
    "- idea: small search engine. You input an image and the engine should return 5 similar images\n",
    "- use vgg weights, i.e. a pretrained model\n",
    "- download an image data set like image-net, just 3000 images\n",
    "- Flow:\n",
    "    - pass all the images through the neural network but not until the end with all the dense layers, but only the feature extractor to get a feature map\n",
    "    - by feature map we mean, like a multidimensional space in which each image is a point\n",
    "    - when we use the search engine with a new image, it means we will use this multidimensional space to search for the closest points using a euclidean distance\n",
    "\n",
    "---\n",
    "It worked! \n",
    "TODO: since the images have low resolution I conjecture that is the reason it sometimes perfoms badly but in most cases the first two are close"
   ]
  },
  {
   "cell_type": "code",
   "execution_count": 1,
   "metadata": {},
   "outputs": [
    {
     "name": "stdout",
     "output_type": "stream",
     "text": [
      "(1000, 32, 32, 3)\n"
     ]
    },
    {
     "data": {
      "text/plain": [
       "<matplotlib.image.AxesImage at 0x7f4870430ca0>"
      ]
     },
     "execution_count": 1,
     "metadata": {},
     "output_type": "execute_result"
    },
    {
     "data": {
      "image/png": "[encoded data removed]",
      "text/plain": [
       "<Figure size 640x480 with 1 Axes>"
      ]
     },
     "metadata": {},
     "output_type": "display_data"
    }
   ],
   "source": [
    "# Some data processing \n",
    "\n",
    "import tarfile\n",
    "import numpy as np\n",
    "import pickle\n",
    "import matplotlib.pyplot as plt\n",
    "import torch \n",
    "\n",
    "path = 'test_sets/cifar-10-python.tar.gz'\n",
    "images = []\n",
    "\n",
    "# Helper function to unpickle CIFAR-10 binary data\n",
    "def unpickle(file):\n",
    "    with open(file, 'rb') as fo:\n",
    "        dict = pickle.load(fo, encoding='bytes')\n",
    "    return dict\n",
    "\n",
    "with tarfile.open(path, \"r:gz\") as tar:\n",
    "    for member in tar.getmembers():\n",
    "        if 'data_batch' in member.name:  # Load only the data batches (ignore metadata, etc.)\n",
    "            f = tar.extractfile(member)\n",
    "            if f is not None:\n",
    "                content = f.read()\n",
    "                batch = pickle.loads(content, encoding='bytes')\n",
    "                images.append(batch[b'data'])  # CIFAR-10 images are in the 'data' field\n",
    "\n",
    "# Stack all the image arrays and reshape\n",
    "images = np.vstack(images)[:1000]\n",
    "images = images.reshape(-1, 3, 32, 32).transpose(0, 2, 3, 1)\n",
    "print(images.shape)  # This should print (number of images, 32, 32, 3)\n",
    "images = torch.tensor(images)\n",
    "plt.imshow(images[0])"
   ]
  },
  {
   "cell_type": "code",
   "execution_count": 2,
   "metadata": {},
   "outputs": [
    {
     "data": {
      "text/plain": [
       "VGG(\n",
       "  (features): Sequential(\n",
       "    (0): Conv2d(3, 64, kernel_size=(3, 3), stride=(1, 1), padding=(1, 1))\n",
       "    (1): ReLU(inplace=True)\n",
       "    (2): MaxPool2d(kernel_size=2, stride=2, padding=0, dilation=1, ceil_mode=False)\n",
       "    (3): Conv2d(64, 128, kernel_size=(3, 3), stride=(1, 1), padding=(1, 1))\n",
       "    (4): ReLU(inplace=True)\n",
       "    (5): MaxPool2d(kernel_size=2, stride=2, padding=0, dilation=1, ceil_mode=False)\n",
       "    (6): Conv2d(128, 256, kernel_size=(3, 3), stride=(1, 1), padding=(1, 1))\n",
       "    (7): ReLU(inplace=True)\n",
       "    (8): Conv2d(256, 256, kernel_size=(3, 3), stride=(1, 1), padding=(1, 1))\n",
       "    (9): ReLU(inplace=True)\n",
       "    (10): MaxPool2d(kernel_size=2, stride=2, padding=0, dilation=1, ceil_mode=False)\n",
       "    (11): Conv2d(256, 512, kernel_size=(3, 3), stride=(1, 1), padding=(1, 1))\n",
       "    (12): ReLU(inplace=True)\n",
       "    (13): Conv2d(512, 512, kernel_size=(3, 3), stride=(1, 1), padding=(1, 1))\n",
       "    (14): ReLU(inplace=True)\n",
       "    (15): MaxPool2d(kernel_size=2, stride=2, padding=0, dilation=1, ceil_mode=False)\n",
       "    (16): Conv2d(512, 512, kernel_size=(3, 3), stride=(1, 1), padding=(1, 1))\n",
       "    (17): ReLU(inplace=True)\n",
       "    (18): Conv2d(512, 512, kernel_size=(3, 3), stride=(1, 1), padding=(1, 1))\n",
       "    (19): ReLU(inplace=True)\n",
       "    (20): MaxPool2d(kernel_size=2, stride=2, padding=0, dilation=1, ceil_mode=False)\n",
       "  )\n",
       "  (avgpool): AdaptiveAvgPool2d(output_size=(7, 7))\n",
       "  (classifier): Sequential(\n",
       "    (0): Linear(in_features=25088, out_features=4096, bias=True)\n",
       "    (1): ReLU(inplace=True)\n",
       "    (2): Dropout(p=0.5, inplace=False)\n",
       "    (3): Linear(in_features=4096, out_features=4096, bias=True)\n",
       "    (4): ReLU(inplace=True)\n",
       "    (5): Dropout(p=0.5, inplace=False)\n",
       "    (6): Linear(in_features=4096, out_features=1000, bias=True)\n",
       "  )\n",
       ")"
      ]
     },
     "execution_count": 2,
     "metadata": {},
     "output_type": "execute_result"
    }
   ],
   "source": [
    "# load the weights of the vgg11 model. pretrained model \n",
    "\n",
    "from torchvision import models\n",
    "\n",
    "# min_size\n",
    "# height=32, width=32\n",
    "model = models.vgg11(weights='DEFAULT')\n",
    "model"
   ]
  },
  {
   "cell_type": "code",
   "execution_count": 3,
   "metadata": {},
   "outputs": [
    {
     "name": "stdout",
     "output_type": "stream",
     "text": [
      "['x', 'features.0', 'features.1', 'features.2', 'features.3', 'features.4', 'features.5', 'features.6', 'features.7', 'features.8', 'features.9', 'features.10', 'features.11', 'features.12', 'features.13', 'features.14', 'features.15', 'features.16', 'features.17', 'features.18', 'features.19', 'features.20', 'avgpool', 'flatten', 'classifier.0', 'classifier.1', 'classifier.2', 'classifier.3', 'classifier.4', 'classifier.5', 'classifier.6']\n",
      "['x', 'features.0', 'features.1', 'features.2', 'features.3', 'features.4', 'features.5', 'features.6', 'features.7', 'features.8', 'features.9', 'features.10', 'features.11', 'features.12', 'features.13', 'features.14', 'features.15', 'features.16', 'features.17', 'features.18', 'features.19', 'features.20', 'avgpool', 'flatten', 'classifier.0', 'classifier.1', 'classifier.2', 'classifier.3', 'classifier.4', 'classifier.5', 'classifier.6']\n"
     ]
    }
   ],
   "source": [
    "# we are interested in the layer prior to the linear layers, so we use a feature map \n",
    "\n",
    "from torchvision.models.feature_extraction import get_graph_node_names\n",
    "from torchvision.models.feature_extraction import create_feature_extractor\n",
    "\n",
    "train_nodes, eval_nodes = get_graph_node_names(model)\n",
    "print(train_nodes)\n",
    "print(eval_nodes)"
   ]
  },
  {
   "cell_type": "code",
   "execution_count": 4,
   "metadata": {},
   "outputs": [
    {
     "name": "stdout",
     "output_type": "stream",
     "text": [
      "VGG(\n",
      "  (features): Module(\n",
      "    (0): Conv2d(3, 64, kernel_size=(3, 3), stride=(1, 1), padding=(1, 1))\n",
      "    (1): ReLU(inplace=True)\n",
      "    (2): MaxPool2d(kernel_size=2, stride=2, padding=0, dilation=1, ceil_mode=False)\n",
      "    (3): Conv2d(64, 128, kernel_size=(3, 3), stride=(1, 1), padding=(1, 1))\n",
      "    (4): ReLU(inplace=True)\n",
      "    (5): MaxPool2d(kernel_size=2, stride=2, padding=0, dilation=1, ceil_mode=False)\n",
      "    (6): Conv2d(128, 256, kernel_size=(3, 3), stride=(1, 1), padding=(1, 1))\n",
      "    (7): ReLU(inplace=True)\n",
      "    (8): Conv2d(256, 256, kernel_size=(3, 3), stride=(1, 1), padding=(1, 1))\n",
      "    (9): ReLU(inplace=True)\n",
      "    (10): MaxPool2d(kernel_size=2, stride=2, padding=0, dilation=1, ceil_mode=False)\n",
      "    (11): Conv2d(256, 512, kernel_size=(3, 3), stride=(1, 1), padding=(1, 1))\n",
      "    (12): ReLU(inplace=True)\n",
      "    (13): Conv2d(512, 512, kernel_size=(3, 3), stride=(1, 1), padding=(1, 1))\n",
      "    (14): ReLU(inplace=True)\n",
      "    (15): MaxPool2d(kernel_size=2, stride=2, padding=0, dilation=1, ceil_mode=False)\n",
      "    (16): Conv2d(512, 512, kernel_size=(3, 3), stride=(1, 1), padding=(1, 1))\n",
      "    (17): ReLU(inplace=True)\n",
      "    (18): Conv2d(512, 512, kernel_size=(3, 3), stride=(1, 1), padding=(1, 1))\n",
      "    (19): ReLU(inplace=True)\n",
      "    (20): MaxPool2d(kernel_size=2, stride=2, padding=0, dilation=1, ceil_mode=False)\n",
      "  )\n",
      "  (avgpool): AdaptiveAvgPool2d(output_size=(7, 7))\n",
      ")\n",
      "\n",
      "\n",
      "\n",
      "def forward(self, x : torch.Tensor):\n",
      "    features_0 = getattr(self.features, \"0\")(x);  x = None\n",
      "    features_1 = getattr(self.features, \"1\")(features_0);  features_0 = None\n",
      "    features_2 = getattr(self.features, \"2\")(features_1);  features_1 = None\n",
      "    features_3 = getattr(self.features, \"3\")(features_2);  features_2 = None\n",
      "    features_4 = getattr(self.features, \"4\")(features_3);  features_3 = None\n",
      "    features_5 = getattr(self.features, \"5\")(features_4);  features_4 = None\n",
      "    features_6 = getattr(self.features, \"6\")(features_5);  features_5 = None\n",
      "    features_7 = getattr(self.features, \"7\")(features_6);  features_6 = None\n",
      "    features_8 = getattr(self.features, \"8\")(features_7);  features_7 = None\n",
      "    features_9 = getattr(self.features, \"9\")(features_8);  features_8 = None\n",
      "    features_10 = getattr(self.features, \"10\")(features_9);  features_9 = None\n",
      "    features_11 = getattr(self.features, \"11\")(features_10);  features_10 = None\n",
      "    features_12 = getattr(self.features, \"12\")(features_11);  features_11 = None\n",
      "    features_13 = getattr(self.features, \"13\")(features_12);  features_12 = None\n",
      "    features_14 = getattr(self.features, \"14\")(features_13);  features_13 = None\n",
      "    features_15 = getattr(self.features, \"15\")(features_14);  features_14 = None\n",
      "    features_16 = getattr(self.features, \"16\")(features_15);  features_15 = None\n",
      "    features_17 = getattr(self.features, \"17\")(features_16);  features_16 = None\n",
      "    features_18 = getattr(self.features, \"18\")(features_17);  features_17 = None\n",
      "    features_19 = getattr(self.features, \"19\")(features_18);  features_18 = None\n",
      "    features_20 = getattr(self.features, \"20\")(features_19);  features_19 = None\n",
      "    avgpool = self.avgpool(features_20);  features_20 = None\n",
      "    flatten = torch.flatten(avgpool, 1);  avgpool = None\n",
      "    return {'flatten': flatten}\n",
      "    \n",
      "# To see more debug info, please use `graph_module.print_readable()`\n",
      "---------------------------------------------------------------------------------------\n",
      "VGG(\n",
      "  (features): Module(\n",
      "    (0): Conv2d(3, 64, kernel_size=(3, 3), stride=(1, 1), padding=(1, 1))\n",
      "    (1): ReLU(inplace=True)\n",
      "    (2): MaxPool2d(kernel_size=2, stride=2, padding=0, dilation=1, ceil_mode=False)\n",
      "    (3): Conv2d(64, 128, kernel_size=(3, 3), stride=(1, 1), padding=(1, 1))\n",
      "    (4): ReLU(inplace=True)\n",
      "    (5): MaxPool2d(kernel_size=2, stride=2, padding=0, dilation=1, ceil_mode=False)\n",
      "    (6): Conv2d(128, 256, kernel_size=(3, 3), stride=(1, 1), padding=(1, 1))\n",
      "    (7): ReLU(inplace=True)\n",
      "    (8): Conv2d(256, 256, kernel_size=(3, 3), stride=(1, 1), padding=(1, 1))\n",
      "    (9): ReLU(inplace=True)\n",
      "    (10): MaxPool2d(kernel_size=2, stride=2, padding=0, dilation=1, ceil_mode=False)\n",
      "    (11): Conv2d(256, 512, kernel_size=(3, 3), stride=(1, 1), padding=(1, 1))\n",
      "    (12): ReLU(inplace=True)\n",
      "    (13): Conv2d(512, 512, kernel_size=(3, 3), stride=(1, 1), padding=(1, 1))\n",
      "    (14): ReLU(inplace=True)\n",
      "    (15): MaxPool2d(kernel_size=2, stride=2, padding=0, dilation=1, ceil_mode=False)\n",
      "    (16): Conv2d(512, 512, kernel_size=(3, 3), stride=(1, 1), padding=(1, 1))\n",
      "    (17): ReLU(inplace=True)\n",
      "    (18): Conv2d(512, 512, kernel_size=(3, 3), stride=(1, 1), padding=(1, 1))\n",
      "    (19): ReLU(inplace=True)\n",
      "    (20): MaxPool2d(kernel_size=2, stride=2, padding=0, dilation=1, ceil_mode=False)\n",
      "  )\n",
      "  (avgpool): AdaptiveAvgPool2d(output_size=(7, 7))\n",
      "  (classifier): Module(\n",
      "    (0): Linear(in_features=25088, out_features=4096, bias=True)\n",
      "    (1): ReLU(inplace=True)\n",
      "    (2): Dropout(p=0.5, inplace=False)\n",
      "    (3): Linear(in_features=4096, out_features=4096, bias=True)\n",
      "    (4): ReLU(inplace=True)\n",
      "    (5): Dropout(p=0.5, inplace=False)\n",
      "    (6): Linear(in_features=4096, out_features=1000, bias=True)\n",
      "  )\n",
      ")\n",
      "\n",
      "\n",
      "\n",
      "def forward(self, x : torch.Tensor):\n",
      "    features_0 = getattr(self.features, \"0\")(x);  x = None\n",
      "    features_1 = getattr(self.features, \"1\")(features_0);  features_0 = None\n",
      "    features_2 = getattr(self.features, \"2\")(features_1);  features_1 = None\n",
      "    features_3 = getattr(self.features, \"3\")(features_2);  features_2 = None\n",
      "    features_4 = getattr(self.features, \"4\")(features_3);  features_3 = None\n",
      "    features_5 = getattr(self.features, \"5\")(features_4);  features_4 = None\n",
      "    features_6 = getattr(self.features, \"6\")(features_5);  features_5 = None\n",
      "    features_7 = getattr(self.features, \"7\")(features_6);  features_6 = None\n",
      "    features_8 = getattr(self.features, \"8\")(features_7);  features_7 = None\n",
      "    features_9 = getattr(self.features, \"9\")(features_8);  features_8 = None\n",
      "    features_10 = getattr(self.features, \"10\")(features_9);  features_9 = None\n",
      "    features_11 = getattr(self.features, \"11\")(features_10);  features_10 = None\n",
      "    features_12 = getattr(self.features, \"12\")(features_11);  features_11 = None\n",
      "    features_13 = getattr(self.features, \"13\")(features_12);  features_12 = None\n",
      "    features_14 = getattr(self.features, \"14\")(features_13);  features_13 = None\n",
      "    features_15 = getattr(self.features, \"15\")(features_14);  features_14 = None\n",
      "    features_16 = getattr(self.features, \"16\")(features_15);  features_15 = None\n",
      "    features_17 = getattr(self.features, \"17\")(features_16);  features_16 = None\n",
      "    features_18 = getattr(self.features, \"18\")(features_17);  features_17 = None\n",
      "    features_19 = getattr(self.features, \"19\")(features_18);  features_18 = None\n",
      "    features_20 = getattr(self.features, \"20\")(features_19);  features_19 = None\n",
      "    avgpool = self.avgpool(features_20);  features_20 = None\n",
      "    flatten = torch.flatten(avgpool, 1);  avgpool = None\n",
      "    classifier_0 = getattr(self.classifier, \"0\")(flatten);  flatten = None\n",
      "    classifier_1 = getattr(self.classifier, \"1\")(classifier_0);  classifier_0 = None\n",
      "    classifier_2 = getattr(self.classifier, \"2\")(classifier_1);  classifier_1 = None\n",
      "    classifier_3 = getattr(self.classifier, \"3\")(classifier_2);  classifier_2 = None\n",
      "    classifier_4 = getattr(self.classifier, \"4\")(classifier_3);  classifier_3 = None\n",
      "    classifier_5 = getattr(self.classifier, \"5\")(classifier_4);  classifier_4 = None\n",
      "    classifier_6 = getattr(self.classifier, \"6\")(classifier_5);  classifier_5 = None\n",
      "    return {'classifier.6': classifier_6}\n",
      "    \n",
      "# To see more debug info, please use `graph_module.print_readable()`\n"
     ]
    }
   ],
   "source": [
    "feature_map = create_feature_extractor(model, {'flatten':'flatten'})\n",
    "pos_processing = create_feature_extractor(model, {'classifier.6':'classifier.6'})\n",
    "print(feature_map)\n",
    "print('---------------------------------------------------------------------------------------')\n",
    "print(pos_processing)"
   ]
  },
  {
   "cell_type": "code",
   "execution_count": 5,
   "metadata": {},
   "outputs": [
    {
     "name": "stdout",
     "output_type": "stream",
     "text": [
      "900\n"
     ]
    }
   ],
   "source": [
    "feature_map.eval()\n",
    "\n",
    "with torch.no_grad():\n",
    "    lst = [(feature_map(image.unsqueeze(0).permute(0, 3, 1, 2).float())['flatten'].numpy(), smt) for smt,image in enumerate(images[:900])]\n",
    "print(len(lst))"
   ]
  },
  {
   "cell_type": "code",
   "execution_count": 17,
   "metadata": {},
   "outputs": [
    {
     "data": {
      "image/png": "[encoded data removed]",
      "text/plain": [
       "<Figure size 640x480 with 1 Axes>"
      ]
     },
     "metadata": {},
     "output_type": "display_data"
    },
    {
     "data": {
      "image/png": "[encoded data removed]",
      "text/plain": [
       "<Figure size 1500x300 with 5 Axes>"
      ]
     },
     "metadata": {},
     "output_type": "display_data"
    }
   ],
   "source": [
    "# we can play with images from 901 to 1000\n",
    "idx = 968\n",
    "with torch.no_grad():\n",
    "    image_to_search = images[idx]\n",
    "    out_data = feature_map(image_to_search.unsqueeze(0).permute(0, 3, 1, 2).float())['flatten'].numpy()\n",
    "    plt.title('Search similars of:')\n",
    "    plt.imshow(image_to_search)\n",
    "\n",
    "    # compute the euclidean distance\n",
    "    eucl = [(np.sqrt(np.sum((l1-out_data)**2)),id) for l1, id in lst]\n",
    "\n",
    "    # grab the best 5 matches\n",
    "    returned_possible_matches= sorted(eucl, key=lambda x: x[0])\n",
    "\n",
    "    indexes = [idx for _,idx in returned_possible_matches[:5]]\n",
    "\n",
    "    # Assuming images[indexes] has shape (T, 32, 32, 3)\n",
    "    matched_images = images[indexes]  # No need to permute if the shape is already correct\n",
    "\n",
    "    # Create a subplot with 1 row and 5 columns\n",
    "    fig, axes = plt.subplots(1, 5, figsize=(15, 3))\n",
    "    # Display each image in a separate subplot\n",
    "    for i in range(5):\n",
    "        axes[i].imshow(matched_images[i].cpu().numpy())  # Convert tensor to numpy array\n",
    "        axes[i].axis('off')  # Hide the axes for better visualization\n",
    "        axes[i].set_title('result from search engine')\n",
    "\n",
    "    plt.show()\n"
   ]
  },
  {
   "cell_type": "code",
   "execution_count": null,
   "metadata": {},
   "outputs": [],
   "source": []
  }
 ],
 "metadata": {
  "kernelspec": {
   "display_name": "Python 3",
   "language": "python",
   "name": "python3"
  },
  "language_info": {
   "codemirror_mode": {
    "name": "ipython",
    "version": 3
   },
   "file_extension": ".py",
   "mimetype": "text/x-python",
   "name": "python",
   "nbconvert_exporter": "python",
   "pygments_lexer": "ipython3",
   "version": "3.10.12"
  }
 },
 "nbformat": 4,
 "nbformat_minor": 2
}
