{
 "cells": [
  {
   "cell_type": "markdown",
   "id": "f85c204e",
   "metadata": {},
   "source": [
    "# Matrix Factorization\n",
    "Dataset: movie lens "
   ]
  },
  {
   "cell_type": "code",
   "execution_count": null,
   "id": "5e0d8a71",
   "metadata": {},
   "outputs": [],
   "source": [
    "import os\n",
    "import pandas as pd\n",
    "import torch \n",
    "import torch.nn as nn\n",
    "import tqdm\n",
    "import torch.optim as optim"
   ]
  },
  {
   "cell_type": "code",
   "execution_count": null,
   "id": "28c6d2e3",
   "metadata": {},
   "outputs": [],
   "source": [
    "# careful with absolute or relative paths\n",
    "# main folder path\n",
    "data_path = 'data/ml-32m/'\n",
    "\n",
    "# csv file paths\n",
    "links_path = os.path.join(data_path,\"links.csv\")\n",
    "movies_path = os.path.join(data_path,\"movies.csv\")\n",
    "ratings_path = os.path.join(data_path,\"ratings.csv\")\n",
    "tags_path = os.path.join(data_path,\"tags.csv\")\n",
    "\n",
    "# read csvs \n",
    "links_pd = pd.read_csv(links_path) # metadata stuff\n",
    "movies_pd = pd.read_csv(movies_path)\n",
    "ratings_pd = pd.read_csv(ratings_path)\n",
    "tags_pd = pd.read_csv(tags_path)"
   ]
  },
  {
   "cell_type": "code",
   "execution_count": 3,
   "id": "5ce67c67",
   "metadata": {},
   "outputs": [
    {
     "data": {
      "text/html": [
       "<div>\n",
       "<style scoped>\n",
       "    .dataframe tbody tr th:only-of-type {\n",
       "        vertical-align: middle;\n",
       "    }\n",
       "\n",
       "    .dataframe tbody tr th {\n",
       "        vertical-align: top;\n",
       "    }\n",
       "\n",
       "    .dataframe thead th {\n",
       "        text-align: right;\n",
       "    }\n",
       "</style>\n",
       "<table border=\"1\" class=\"dataframe\">\n",
       "  <thead>\n",
       "    <tr style=\"text-align: right;\">\n",
       "      <th></th>\n",
       "      <th>movieId</th>\n",
       "      <th>title</th>\n",
       "      <th>genres</th>\n",
       "    </tr>\n",
       "  </thead>\n",
       "  <tbody>\n",
       "    <tr>\n",
       "      <th>0</th>\n",
       "      <td>1</td>\n",
       "      <td>Toy Story (1995)</td>\n",
       "      <td>Adventure|Animation|Children|Comedy|Fantasy</td>\n",
       "    </tr>\n",
       "    <tr>\n",
       "      <th>1</th>\n",
       "      <td>2</td>\n",
       "      <td>Jumanji (1995)</td>\n",
       "      <td>Adventure|Children|Fantasy</td>\n",
       "    </tr>\n",
       "    <tr>\n",
       "      <th>2</th>\n",
       "      <td>3</td>\n",
       "      <td>Grumpier Old Men (1995)</td>\n",
       "      <td>Comedy|Romance</td>\n",
       "    </tr>\n",
       "    <tr>\n",
       "      <th>3</th>\n",
       "      <td>4</td>\n",
       "      <td>Waiting to Exhale (1995)</td>\n",
       "      <td>Comedy|Drama|Romance</td>\n",
       "    </tr>\n",
       "    <tr>\n",
       "      <th>4</th>\n",
       "      <td>5</td>\n",
       "      <td>Father of the Bride Part II (1995)</td>\n",
       "      <td>Comedy</td>\n",
       "    </tr>\n",
       "  </tbody>\n",
       "</table>\n",
       "</div>"
      ],
      "text/plain": [
       "   movieId                               title  \\\n",
       "0        1                    Toy Story (1995)   \n",
       "1        2                      Jumanji (1995)   \n",
       "2        3             Grumpier Old Men (1995)   \n",
       "3        4            Waiting to Exhale (1995)   \n",
       "4        5  Father of the Bride Part II (1995)   \n",
       "\n",
       "                                        genres  \n",
       "0  Adventure|Animation|Children|Comedy|Fantasy  \n",
       "1                   Adventure|Children|Fantasy  \n",
       "2                               Comedy|Romance  \n",
       "3                         Comedy|Drama|Romance  \n",
       "4                                       Comedy  "
      ]
     },
     "execution_count": 3,
     "metadata": {},
     "output_type": "execute_result"
    }
   ],
   "source": [
    "movies_pd.head()"
   ]
  },
  {
   "cell_type": "code",
   "execution_count": 4,
   "id": "4129410c",
   "metadata": {},
   "outputs": [
    {
     "data": {
      "text/html": [
       "<div>\n",
       "<style scoped>\n",
       "    .dataframe tbody tr th:only-of-type {\n",
       "        vertical-align: middle;\n",
       "    }\n",
       "\n",
       "    .dataframe tbody tr th {\n",
       "        vertical-align: top;\n",
       "    }\n",
       "\n",
       "    .dataframe thead th {\n",
       "        text-align: right;\n",
       "    }\n",
       "</style>\n",
       "<table border=\"1\" class=\"dataframe\">\n",
       "  <thead>\n",
       "    <tr style=\"text-align: right;\">\n",
       "      <th></th>\n",
       "      <th>userId</th>\n",
       "      <th>movieId</th>\n",
       "      <th>rating</th>\n",
       "      <th>timestamp</th>\n",
       "    </tr>\n",
       "  </thead>\n",
       "  <tbody>\n",
       "    <tr>\n",
       "      <th>31031773</th>\n",
       "      <td>194846</td>\n",
       "      <td>21</td>\n",
       "      <td>3.0</td>\n",
       "      <td>1317133871</td>\n",
       "    </tr>\n",
       "    <tr>\n",
       "      <th>3410364</th>\n",
       "      <td>21447</td>\n",
       "      <td>333</td>\n",
       "      <td>3.5</td>\n",
       "      <td>1167344576</td>\n",
       "    </tr>\n",
       "    <tr>\n",
       "      <th>12471492</th>\n",
       "      <td>78176</td>\n",
       "      <td>208</td>\n",
       "      <td>4.0</td>\n",
       "      <td>836513594</td>\n",
       "    </tr>\n",
       "    <tr>\n",
       "      <th>21513865</th>\n",
       "      <td>134540</td>\n",
       "      <td>4518</td>\n",
       "      <td>4.0</td>\n",
       "      <td>1162755657</td>\n",
       "    </tr>\n",
       "    <tr>\n",
       "      <th>16663283</th>\n",
       "      <td>104458</td>\n",
       "      <td>7143</td>\n",
       "      <td>4.0</td>\n",
       "      <td>1559342598</td>\n",
       "    </tr>\n",
       "    <tr>\n",
       "      <th>6455253</th>\n",
       "      <td>40281</td>\n",
       "      <td>81834</td>\n",
       "      <td>5.0</td>\n",
       "      <td>1676582294</td>\n",
       "    </tr>\n",
       "    <tr>\n",
       "      <th>22498996</th>\n",
       "      <td>140924</td>\n",
       "      <td>5005</td>\n",
       "      <td>0.5</td>\n",
       "      <td>1196696049</td>\n",
       "    </tr>\n",
       "    <tr>\n",
       "      <th>13687815</th>\n",
       "      <td>85549</td>\n",
       "      <td>5679</td>\n",
       "      <td>2.5</td>\n",
       "      <td>1148315002</td>\n",
       "    </tr>\n",
       "    <tr>\n",
       "      <th>27621665</th>\n",
       "      <td>173280</td>\n",
       "      <td>1663</td>\n",
       "      <td>4.5</td>\n",
       "      <td>1276306732</td>\n",
       "    </tr>\n",
       "    <tr>\n",
       "      <th>5888833</th>\n",
       "      <td>36765</td>\n",
       "      <td>2762</td>\n",
       "      <td>4.5</td>\n",
       "      <td>1509570663</td>\n",
       "    </tr>\n",
       "  </tbody>\n",
       "</table>\n",
       "</div>"
      ],
      "text/plain": [
       "          userId  movieId  rating   timestamp\n",
       "31031773  194846       21     3.0  1317133871\n",
       "3410364    21447      333     3.5  1167344576\n",
       "12471492   78176      208     4.0   836513594\n",
       "21513865  134540     4518     4.0  1162755657\n",
       "16663283  104458     7143     4.0  1559342598\n",
       "6455253    40281    81834     5.0  1676582294\n",
       "22498996  140924     5005     0.5  1196696049\n",
       "13687815   85549     5679     2.5  1148315002\n",
       "27621665  173280     1663     4.5  1276306732\n",
       "5888833    36765     2762     4.5  1509570663"
      ]
     },
     "execution_count": 4,
     "metadata": {},
     "output_type": "execute_result"
    }
   ],
   "source": [
    "ratings_pd.sample(10)\n",
    "\n",
    "# Process the data \n",
    "user_tensor = torch.tensor(ratings_pd['userId'].values, dtype=torch.long)\n",
    "movie_tensor = torch.tensor(ratings_pd['movieId'].values, dtype=torch.long)\n",
    "rating_tensor = torch.tensor(ratings_pd['rating'].values, dtype=torch.float)"
   ]
  },
  {
   "cell_type": "code",
   "execution_count": 10,
   "id": "03814ba0",
   "metadata": {},
   "outputs": [
    {
     "name": "stdout",
     "output_type": "stream",
     "text": [
      "200948 users and 87585 movies\n"
     ]
    }
   ],
   "source": [
    "print(f\"{len(ratings_pd['userId'].unique())} users and\", f\"{len(movies_pd['movieId'].unique())} movies\")\n"
   ]
  },
  {
   "cell_type": "code",
   "execution_count": 6,
   "id": "c66739c6",
   "metadata": {},
   "outputs": [
    {
     "data": {
      "text/html": [
       "<div>\n",
       "<style scoped>\n",
       "    .dataframe tbody tr th:only-of-type {\n",
       "        vertical-align: middle;\n",
       "    }\n",
       "\n",
       "    .dataframe tbody tr th {\n",
       "        vertical-align: top;\n",
       "    }\n",
       "\n",
       "    .dataframe thead th {\n",
       "        text-align: right;\n",
       "    }\n",
       "</style>\n",
       "<table border=\"1\" class=\"dataframe\">\n",
       "  <thead>\n",
       "    <tr style=\"text-align: right;\">\n",
       "      <th></th>\n",
       "      <th>userId</th>\n",
       "      <th>movieId</th>\n",
       "      <th>tag</th>\n",
       "      <th>timestamp</th>\n",
       "    </tr>\n",
       "  </thead>\n",
       "  <tbody>\n",
       "    <tr>\n",
       "      <th>0</th>\n",
       "      <td>22</td>\n",
       "      <td>26479</td>\n",
       "      <td>Kevin Kline</td>\n",
       "      <td>1583038886</td>\n",
       "    </tr>\n",
       "    <tr>\n",
       "      <th>1</th>\n",
       "      <td>22</td>\n",
       "      <td>79592</td>\n",
       "      <td>misogyny</td>\n",
       "      <td>1581476297</td>\n",
       "    </tr>\n",
       "    <tr>\n",
       "      <th>2</th>\n",
       "      <td>22</td>\n",
       "      <td>247150</td>\n",
       "      <td>acrophobia</td>\n",
       "      <td>1622483469</td>\n",
       "    </tr>\n",
       "    <tr>\n",
       "      <th>3</th>\n",
       "      <td>34</td>\n",
       "      <td>2174</td>\n",
       "      <td>music</td>\n",
       "      <td>1249808064</td>\n",
       "    </tr>\n",
       "    <tr>\n",
       "      <th>4</th>\n",
       "      <td>34</td>\n",
       "      <td>2174</td>\n",
       "      <td>weird</td>\n",
       "      <td>1249808102</td>\n",
       "    </tr>\n",
       "  </tbody>\n",
       "</table>\n",
       "</div>"
      ],
      "text/plain": [
       "   userId  movieId          tag   timestamp\n",
       "0      22    26479  Kevin Kline  1583038886\n",
       "1      22    79592     misogyny  1581476297\n",
       "2      22   247150   acrophobia  1622483469\n",
       "3      34     2174        music  1249808064\n",
       "4      34     2174        weird  1249808102"
      ]
     },
     "execution_count": 6,
     "metadata": {},
     "output_type": "execute_result"
    }
   ],
   "source": [
    "tags_pd.head()"
   ]
  },
  {
   "cell_type": "markdown",
   "id": "14596f6a",
   "metadata": {},
   "source": [
    "So we have a 200K movies and around 100K users. A matrix for every movie give a user will result in a 2e10 elements. We will be unable to hold that amount of elements. Plus, initially, the matrix will be highly sparsed. How can we deal with that? answer: we don't really have to construct a matrix, we just need to get the embeddings for the users and items. \n",
    "# what are we trying to predict? \n",
    "We try to predict the unknown rating $r_{u,i}$ that user $u$ give to an item $i$.\n",
    "# what metric are we trying to maximize? \n",
    "We actually try to minimize the different of the predicted ratings vs the actual ratings plus some regularization. "
   ]
  },
  {
   "cell_type": "code",
   "execution_count": null,
   "id": "1efbafe7",
   "metadata": {},
   "outputs": [],
   "source": [
    "# Create a pytorch dataset \n",
    "from torch.utils.data import TensorDataset, DataLoader\n",
    "\n",
    "dataset = TensorDataset(user_tensor, movie_tensor, rating_tensor)"
   ]
  },
  {
   "cell_type": "code",
   "execution_count": null,
   "id": "1d23455b",
   "metadata": {},
   "outputs": [],
   "source": [
    "# our tiny recomendation system\n",
    "class tiny_recsys(nn.Module):\n",
    "    def __init__(self, n_users,n_movies,embd_dimension):\n",
    "        self.users_embeddings = nn.Embedding(n_users, embd_dimension, max_norm=1)\n",
    "        self.movies_embeddings = nn.Embedding(n_movies, embd_dimension, max_norm=1)\n",
    "    \n",
    "    def forward(self, users_index, movies_index):\n",
    "        users = self.users_embeddings[users_index] # shape: (batch_size, embd_dimension)\n",
    "        movies = self.movies_embeddings[movies_index] # shape: (batch_size, embd_dimension)\n",
    "        rankings = (users * movies).sum(dim=1) # elementwise multiply and sum over embd_dim\n",
    "        return rankings\n"
   ]
  },
  {
   "cell_type": "code",
   "execution_count": 15,
   "id": "a785488a",
   "metadata": {},
   "outputs": [
    {
     "name": "stdout",
     "output_type": "stream",
     "text": [
      "4\n"
     ]
    }
   ],
   "source": [
    "# compute number of workers to use locally\n",
    "num_workers = min(4, os.cpu_count() // 2)\n",
    "print(num_workers)\n"
   ]
  },
  {
   "cell_type": "code",
   "execution_count": null,
   "id": "60def067",
   "metadata": {},
   "outputs": [],
   "source": [
    "# training loop\n",
    "n_users = len(ratings_pd['userId'].unique())\n",
    "n_movies = len(movies_pd['movieId'].unique())\n",
    "EMBEDDING_DIM = 32\n",
    "NUM_EPOCHS = 10\n",
    "BATCH_SIZE = 1024\n",
    "LEARNING_RATE = 0.01\n",
    "\n",
    "model = tiny_recsys(n_users, n_movies, EMBEDDING_DIM)\n",
    "optimizer = optim.Adam(model.parameters(), lr=LEARNING_RATE)\n",
    "loss_fn = nn.MSELoss()\n",
    "dataloader = DataLoader(dataset, batch_size=BATCH_SIZE, shuffle=True, num_workers=num_workers)\n",
    "\n",
    "for epoch in range(NUM_EPOCHS):\n",
    "    for user_batch, movie_batch, rating_batch in dataloader:\n",
    "        user_batch = user_batch\n",
    "        movie_batch = movie_batch\n",
    "        rating_batch = rating_batch\n",
    "\n",
    "        optimizer.zero_grad()\n",
    "        preds = model(user_batch, movie_batch)\n",
    "        loss = loss_fn(preds, rating_batch)\n",
    "        loss.backward()\n",
    "        optimizer.step()\n",
    "\n"
   ]
  }
 ],
 "metadata": {
  "kernelspec": {
   "display_name": "recsys",
   "language": "python",
   "name": "python3"
  },
  "language_info": {
   "codemirror_mode": {
    "name": "ipython",
    "version": 3
   },
   "file_extension": ".py",
   "mimetype": "text/x-python",
   "name": "python",
   "nbconvert_exporter": "python",
   "pygments_lexer": "ipython3",
   "version": "3.11.8"
  }
 },
 "nbformat": 4,
 "nbformat_minor": 5
}
