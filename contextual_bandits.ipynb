{
 "cells": [
  {
   "cell_type": "markdown",
   "id": "9d34cfdf",
   "metadata": {},
   "source": [
    "See https://github.com/david-cortes/contextualbandits# and its corresponding paper https://arxiv.org/pdf/1811.04383"
   ]
  },
  {
   "cell_type": "code",
   "execution_count": null,
   "id": "ec35025d",
   "metadata": {},
   "outputs": [
    {
     "name": "stdout",
     "output_type": "stream",
     "text": [
      "(7395, 1836)\n",
      "(7395, 159)\n"
     ]
    }
   ],
   "source": [
    "import pandas as pd, numpy as np, re\n",
    "from sklearn.preprocessing import MultiLabelBinarizer\n",
    "from sklearn.datasets import load_svmlight_file\n",
    "\n",
    "def parse_data(filename):\n",
    "    with open(filename, \"rb\") as f:\n",
    "        infoline = f.readline()\n",
    "        infoline = re.sub(r\"^b'\", \"\", str(infoline))\n",
    "        n_features = int(re.sub(r\"^\\d+\\s(\\d+)\\s\\d+.*$\", r\"\\1\", infoline))\n",
    "        features, labels = load_svmlight_file(f, n_features=n_features, multilabel=True)\n",
    "    mlb = MultiLabelBinarizer()\n",
    "    labels = mlb.fit_transform(labels)\n",
    "    features = np.array(features.todense())\n",
    "    features = np.ascontiguousarray(features)\n",
    "    return features, labels\n",
    "\n",
    "path_dataset = \"data/Bibtex/Bibtex_data.txt\"\n",
    "X, y = parse_data(path_dataset)\n",
    "print(X.shape)\n",
    "print(y.shape)\n",
    "# BoW feature dimensionality 1836\n",
    "# Number of labels 159"
   ]
  },
  {
   "cell_type": "markdown",
   "id": "db758643",
   "metadata": {},
   "source": [
    "Meaning of \"turning logistic regression into contextual bandits policies\":<br>\n",
    "## How are oracles used in contextual bandits? \n",
    "### Oracle definition:\n",
    "Oracles are just supervised ML methods we use to approximate the reward for a given arm. The rewards are going to be either 0 or 1, so this models are trained eto predict the probability of gerring positive feedback.\n"
   ]
  },
  {
   "cell_type": "markdown",
   "id": "bb27f5c7",
   "metadata": {},
   "source": [
    "the oracles do not try to mimick what users do, that is selecting the \"arm\". All they do is model the potential outcome(reward) for each possible action(arm). "
   ]
  },
  {
   "cell_type": "code",
   "execution_count": null,
   "id": "a61de90c",
   "metadata": {},
   "outputs": [],
   "source": [
    "def oracle_training(arm_index):\n",
    "    \"\"\"\n",
    "    For each arm, there is going to be a separate and independent classifier (oracle).\n",
    "    Each arm's oracle learns this probability by being fit only on the historical data where that specific arm was chosen. \n",
    "    \"\"\" \n",
    "    pass\n",
    "\n",
    "def ask_oracle(arm, X, y):\n",
    "    pass \n",
    "\n",
    "for i in range(n_arms): \n",
    "    possible_reward[i] = ask_oracle(i, X, y) # ask the supervised learning method"
   ]
  }
 ],
 "metadata": {
  "kernelspec": {
   "display_name": "bandits",
   "language": "python",
   "name": "python3"
  },
  "language_info": {
   "codemirror_mode": {
    "name": "ipython",
    "version": 3
   },
   "file_extension": ".py",
   "mimetype": "text/x-python",
   "name": "python",
   "nbconvert_exporter": "python",
   "pygments_lexer": "ipython3",
   "version": "3.13.3"
  }
 },
 "nbformat": 4,
 "nbformat_minor": 5
}
